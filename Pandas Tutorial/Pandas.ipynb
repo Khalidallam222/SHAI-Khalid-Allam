{
 "cells": [
  {
   "cell_type": "markdown",
   "source": [
    "# Loading data into Pandas "
   ],
   "metadata": {
    "collapsed": false
   },
   "id": "5767c55444c24839"
  },
  {
   "cell_type": "code",
   "outputs": [
    {
     "data": {
      "text/plain": "   #                   Name Type 1  Type 2  HP  Attack  Defense  Sp. Atk  \\\n0  1              Bulbasaur  Grass  Poison  45      49       49       65   \n1  2                Ivysaur  Grass  Poison  60      62       63       80   \n2  3               Venusaur  Grass  Poison  80      82       83      100   \n3  3  VenusaurMega Venusaur  Grass  Poison  80     100      123      122   \n4  4             Charmander   Fire     NaN  39      52       43       60   \n\n   Sp. Def  Speed  Generation  Legendary  \n0       65     45           1      False  \n1       80     60           1      False  \n2      100     80           1      False  \n3      120     80           1      False  \n4       50     65           1      False  ",
      "text/html": "<div>\n<style scoped>\n    .dataframe tbody tr th:only-of-type {\n        vertical-align: middle;\n    }\n\n    .dataframe tbody tr th {\n        vertical-align: top;\n    }\n\n    .dataframe thead th {\n        text-align: right;\n    }\n</style>\n<table border=\"1\" class=\"dataframe\">\n  <thead>\n    <tr style=\"text-align: right;\">\n      <th></th>\n      <th>#</th>\n      <th>Name</th>\n      <th>Type 1</th>\n      <th>Type 2</th>\n      <th>HP</th>\n      <th>Attack</th>\n      <th>Defense</th>\n      <th>Sp. Atk</th>\n      <th>Sp. Def</th>\n      <th>Speed</th>\n      <th>Generation</th>\n      <th>Legendary</th>\n    </tr>\n  </thead>\n  <tbody>\n    <tr>\n      <th>0</th>\n      <td>1</td>\n      <td>Bulbasaur</td>\n      <td>Grass</td>\n      <td>Poison</td>\n      <td>45</td>\n      <td>49</td>\n      <td>49</td>\n      <td>65</td>\n      <td>65</td>\n      <td>45</td>\n      <td>1</td>\n      <td>False</td>\n    </tr>\n    <tr>\n      <th>1</th>\n      <td>2</td>\n      <td>Ivysaur</td>\n      <td>Grass</td>\n      <td>Poison</td>\n      <td>60</td>\n      <td>62</td>\n      <td>63</td>\n      <td>80</td>\n      <td>80</td>\n      <td>60</td>\n      <td>1</td>\n      <td>False</td>\n    </tr>\n    <tr>\n      <th>2</th>\n      <td>3</td>\n      <td>Venusaur</td>\n      <td>Grass</td>\n      <td>Poison</td>\n      <td>80</td>\n      <td>82</td>\n      <td>83</td>\n      <td>100</td>\n      <td>100</td>\n      <td>80</td>\n      <td>1</td>\n      <td>False</td>\n    </tr>\n    <tr>\n      <th>3</th>\n      <td>3</td>\n      <td>VenusaurMega Venusaur</td>\n      <td>Grass</td>\n      <td>Poison</td>\n      <td>80</td>\n      <td>100</td>\n      <td>123</td>\n      <td>122</td>\n      <td>120</td>\n      <td>80</td>\n      <td>1</td>\n      <td>False</td>\n    </tr>\n    <tr>\n      <th>4</th>\n      <td>4</td>\n      <td>Charmander</td>\n      <td>Fire</td>\n      <td>NaN</td>\n      <td>39</td>\n      <td>52</td>\n      <td>43</td>\n      <td>60</td>\n      <td>50</td>\n      <td>65</td>\n      <td>1</td>\n      <td>False</td>\n    </tr>\n  </tbody>\n</table>\n</div>"
     },
     "execution_count": 2,
     "metadata": {},
     "output_type": "execute_result"
    }
   ],
   "source": [
    "import pandas as pd\n",
    "df = pd.read_csv(\"pokemon_data.csv\")\n",
    "# df = pd.read_csv(\"pokemon_data.txt\", delimiter='\\t')\n",
    "df.head()"
   ],
   "metadata": {
    "collapsed": false,
    "ExecuteTime": {
     "end_time": "2024-01-31T19:46:08.120311521Z",
     "start_time": "2024-01-31T19:46:08.087156042Z"
    }
   },
   "id": "cbf0062b0ff4b834",
   "execution_count": 2
  },
  {
   "cell_type": "markdown",
   "source": [
    "# Reading Data in Pandas"
   ],
   "metadata": {
    "collapsed": false
   },
   "id": "617c3c5cb17e5db4"
  },
  {
   "cell_type": "code",
   "outputs": [
    {
     "data": {
      "text/plain": "Index(['#', 'Name', 'Type 1', 'Type 2', 'HP', 'Attack', 'Defense', 'Sp. Atk',\n       'Sp. Def', 'Speed', 'Generation', 'Legendary'],\n      dtype='object')"
     },
     "execution_count": 145,
     "metadata": {},
     "output_type": "execute_result"
    }
   ],
   "source": [
    "## Read Headers\n",
    "df.columns"
   ],
   "metadata": {
    "collapsed": false,
    "ExecuteTime": {
     "end_time": "2024-01-27T13:52:52.253256431Z",
     "start_time": "2024-01-27T13:52:52.248705689Z"
    }
   },
   "id": "3d60cc05d162f6f8",
   "execution_count": 145
  },
  {
   "cell_type": "code",
   "outputs": [
    {
     "data": {
      "text/plain": "0                Bulbasaur\n1                  Ivysaur\n2                 Venusaur\n3    VenusaurMega Venusaur\n4               Charmander\nName: Name, dtype: object"
     },
     "execution_count": 146,
     "metadata": {},
     "output_type": "execute_result"
    }
   ],
   "source": [
    "# Read each column\n",
    "df[\"Name\"][0:5]"
   ],
   "metadata": {
    "collapsed": false,
    "ExecuteTime": {
     "end_time": "2024-01-27T13:52:53.265901705Z",
     "start_time": "2024-01-27T13:52:53.257976921Z"
    }
   },
   "id": "b2967baf9c490e5",
   "execution_count": 146
  },
  {
   "cell_type": "code",
   "outputs": [
    {
     "data": {
      "text/plain": "                      Name   Type 1  HP\n0                Bulbasaur    Grass  45\n1                  Ivysaur    Grass  60\n2                 Venusaur    Grass  80\n3    VenusaurMega Venusaur    Grass  80\n4               Charmander     Fire  39\n..                     ...      ...  ..\n795                Diancie     Rock  50\n796    DiancieMega Diancie     Rock  50\n797    HoopaHoopa Confined  Psychic  80\n798     HoopaHoopa Unbound  Psychic  80\n799              Volcanion     Fire  80\n\n[800 rows x 3 columns]",
      "text/html": "<div>\n<style scoped>\n    .dataframe tbody tr th:only-of-type {\n        vertical-align: middle;\n    }\n\n    .dataframe tbody tr th {\n        vertical-align: top;\n    }\n\n    .dataframe thead th {\n        text-align: right;\n    }\n</style>\n<table border=\"1\" class=\"dataframe\">\n  <thead>\n    <tr style=\"text-align: right;\">\n      <th></th>\n      <th>Name</th>\n      <th>Type 1</th>\n      <th>HP</th>\n    </tr>\n  </thead>\n  <tbody>\n    <tr>\n      <th>0</th>\n      <td>Bulbasaur</td>\n      <td>Grass</td>\n      <td>45</td>\n    </tr>\n    <tr>\n      <th>1</th>\n      <td>Ivysaur</td>\n      <td>Grass</td>\n      <td>60</td>\n    </tr>\n    <tr>\n      <th>2</th>\n      <td>Venusaur</td>\n      <td>Grass</td>\n      <td>80</td>\n    </tr>\n    <tr>\n      <th>3</th>\n      <td>VenusaurMega Venusaur</td>\n      <td>Grass</td>\n      <td>80</td>\n    </tr>\n    <tr>\n      <th>4</th>\n      <td>Charmander</td>\n      <td>Fire</td>\n      <td>39</td>\n    </tr>\n    <tr>\n      <th>...</th>\n      <td>...</td>\n      <td>...</td>\n      <td>...</td>\n    </tr>\n    <tr>\n      <th>795</th>\n      <td>Diancie</td>\n      <td>Rock</td>\n      <td>50</td>\n    </tr>\n    <tr>\n      <th>796</th>\n      <td>DiancieMega Diancie</td>\n      <td>Rock</td>\n      <td>50</td>\n    </tr>\n    <tr>\n      <th>797</th>\n      <td>HoopaHoopa Confined</td>\n      <td>Psychic</td>\n      <td>80</td>\n    </tr>\n    <tr>\n      <th>798</th>\n      <td>HoopaHoopa Unbound</td>\n      <td>Psychic</td>\n      <td>80</td>\n    </tr>\n    <tr>\n      <th>799</th>\n      <td>Volcanion</td>\n      <td>Fire</td>\n      <td>80</td>\n    </tr>\n  </tbody>\n</table>\n<p>800 rows × 3 columns</p>\n</div>"
     },
     "execution_count": 147,
     "metadata": {},
     "output_type": "execute_result"
    }
   ],
   "source": [
    "# Read multiple colums\n",
    "df[[\"Name\", \"Type 1\", \"HP\"]]"
   ],
   "metadata": {
    "collapsed": false,
    "ExecuteTime": {
     "end_time": "2024-01-27T13:52:54.704638653Z",
     "start_time": "2024-01-27T13:52:54.691251273Z"
    }
   },
   "id": "1b14f5f35be3fb56",
   "execution_count": 147
  },
  {
   "cell_type": "code",
   "outputs": [
    {
     "data": {
      "text/plain": "#                   2\nName          Ivysaur\nType 1          Grass\nType 2         Poison\nHP                 60\nAttack             62\nDefense            63\nSp. Atk            80\nSp. Def            80\nSpeed              60\nGeneration          1\nLegendary       False\nName: 1, dtype: object"
     },
     "execution_count": 148,
     "metadata": {},
     "output_type": "execute_result"
    }
   ],
   "source": [
    "# Read each row\n",
    "df.iloc[1]"
   ],
   "metadata": {
    "collapsed": false,
    "ExecuteTime": {
     "end_time": "2024-01-27T13:52:55.538917502Z",
     "start_time": "2024-01-27T13:52:55.471083178Z"
    }
   },
   "id": "d0ed810b711816a6",
   "execution_count": 148
  },
  {
   "cell_type": "code",
   "outputs": [
    {
     "data": {
      "text/plain": "   #       Name Type 1  Type 2  HP  Attack  Defense  Sp. Atk  Sp. Def  Speed  \\\n0  1  Bulbasaur  Grass  Poison  45      49       49       65       65     45   \n1  2    Ivysaur  Grass  Poison  60      62       63       80       80     60   \n2  3   Venusaur  Grass  Poison  80      82       83      100      100     80   \n\n   Generation  Legendary  \n0           1      False  \n1           1      False  \n2           1      False  ",
      "text/html": "<div>\n<style scoped>\n    .dataframe tbody tr th:only-of-type {\n        vertical-align: middle;\n    }\n\n    .dataframe tbody tr th {\n        vertical-align: top;\n    }\n\n    .dataframe thead th {\n        text-align: right;\n    }\n</style>\n<table border=\"1\" class=\"dataframe\">\n  <thead>\n    <tr style=\"text-align: right;\">\n      <th></th>\n      <th>#</th>\n      <th>Name</th>\n      <th>Type 1</th>\n      <th>Type 2</th>\n      <th>HP</th>\n      <th>Attack</th>\n      <th>Defense</th>\n      <th>Sp. Atk</th>\n      <th>Sp. Def</th>\n      <th>Speed</th>\n      <th>Generation</th>\n      <th>Legendary</th>\n    </tr>\n  </thead>\n  <tbody>\n    <tr>\n      <th>0</th>\n      <td>1</td>\n      <td>Bulbasaur</td>\n      <td>Grass</td>\n      <td>Poison</td>\n      <td>45</td>\n      <td>49</td>\n      <td>49</td>\n      <td>65</td>\n      <td>65</td>\n      <td>45</td>\n      <td>1</td>\n      <td>False</td>\n    </tr>\n    <tr>\n      <th>1</th>\n      <td>2</td>\n      <td>Ivysaur</td>\n      <td>Grass</td>\n      <td>Poison</td>\n      <td>60</td>\n      <td>62</td>\n      <td>63</td>\n      <td>80</td>\n      <td>80</td>\n      <td>60</td>\n      <td>1</td>\n      <td>False</td>\n    </tr>\n    <tr>\n      <th>2</th>\n      <td>3</td>\n      <td>Venusaur</td>\n      <td>Grass</td>\n      <td>Poison</td>\n      <td>80</td>\n      <td>82</td>\n      <td>83</td>\n      <td>100</td>\n      <td>100</td>\n      <td>80</td>\n      <td>1</td>\n      <td>False</td>\n    </tr>\n  </tbody>\n</table>\n</div>"
     },
     "execution_count": 149,
     "metadata": {},
     "output_type": "execute_result"
    }
   ],
   "source": [
    "# Read multiple Rows with iloc\n",
    "df.iloc[0:3]"
   ],
   "metadata": {
    "collapsed": false,
    "ExecuteTime": {
     "end_time": "2024-01-27T13:52:56.743150626Z",
     "start_time": "2024-01-27T13:52:56.667219419Z"
    }
   },
   "id": "56f86dfb2848943c",
   "execution_count": 149
  },
  {
   "cell_type": "code",
   "outputs": [
    {
     "data": {
      "text/plain": "'Venusaur'"
     },
     "execution_count": 150,
     "metadata": {},
     "output_type": "execute_result"
    }
   ],
   "source": [
    "# read a specific location\n",
    "df.iloc[2,1]"
   ],
   "metadata": {
    "collapsed": false,
    "ExecuteTime": {
     "end_time": "2024-01-27T13:52:57.603656735Z",
     "start_time": "2024-01-27T13:52:57.588173821Z"
    }
   },
   "id": "1cf12ce956e1664f",
   "execution_count": 150
  },
  {
   "cell_type": "code",
   "outputs": [
    {
     "name": "stdout",
     "output_type": "stream",
     "text": [
      "0 Bulbasaur\n",
      "1 Ivysaur\n",
      "2 Venusaur\n",
      "3 VenusaurMega Venusaur\n",
      "4 Charmander\n",
      "5 Charmeleon\n",
      "6 Charizard\n",
      "7 CharizardMega Charizard X\n",
      "8 CharizardMega Charizard Y\n",
      "9 Squirtle\n",
      "10 Wartortle\n",
      "11 Blastoise\n",
      "12 BlastoiseMega Blastoise\n",
      "13 Caterpie\n",
      "14 Metapod\n",
      "15 Butterfree\n",
      "16 Weedle\n",
      "17 Kakuna\n",
      "18 Beedrill\n",
      "19 BeedrillMega Beedrill\n",
      "20 Pidgey\n",
      "21 Pidgeotto\n",
      "22 Pidgeot\n",
      "23 PidgeotMega Pidgeot\n",
      "24 Rattata\n",
      "25 Raticate\n",
      "26 Spearow\n",
      "27 Fearow\n",
      "28 Ekans\n",
      "29 Arbok\n",
      "30 Pikachu\n",
      "31 Raichu\n",
      "32 Sandshrew\n",
      "33 Sandslash\n",
      "34 Nidoran (Female)\n",
      "35 Nidorina\n",
      "36 Nidoqueen\n",
      "37 Nidoran (Male)\n",
      "38 Nidorino\n",
      "39 Nidoking\n",
      "40 Clefairy\n",
      "41 Clefable\n",
      "42 Vulpix\n",
      "43 Ninetales\n",
      "44 Jigglypuff\n",
      "45 Wigglytuff\n",
      "46 Zubat\n",
      "47 Golbat\n",
      "48 Oddish\n",
      "49 Gloom\n",
      "50 Vileplume\n",
      "51 Paras\n",
      "52 Parasect\n",
      "53 Venonat\n",
      "54 Venomoth\n",
      "55 Diglett\n",
      "56 Dugtrio\n",
      "57 Meowth\n",
      "58 Persian\n",
      "59 Psyduck\n",
      "60 Golduck\n",
      "61 Mankey\n",
      "62 Primeape\n",
      "63 Growlithe\n",
      "64 Arcanine\n",
      "65 Poliwag\n",
      "66 Poliwhirl\n",
      "67 Poliwrath\n",
      "68 Abra\n",
      "69 Kadabra\n",
      "70 Alakazam\n",
      "71 AlakazamMega Alakazam\n",
      "72 Machop\n",
      "73 Machoke\n",
      "74 Machamp\n",
      "75 Bellsprout\n",
      "76 Weepinbell\n",
      "77 Victreebel\n",
      "78 Tentacool\n",
      "79 Tentacruel\n",
      "80 Geodude\n",
      "81 Graveler\n",
      "82 Golem\n",
      "83 Ponyta\n",
      "84 Rapidash\n",
      "85 Slowpoke\n",
      "86 Slowbro\n",
      "87 SlowbroMega Slowbro\n",
      "88 Magnemite\n",
      "89 Magneton\n",
      "90 Farfetch'd\n",
      "91 Doduo\n",
      "92 Dodrio\n",
      "93 Seel\n",
      "94 Dewgong\n",
      "95 Grimer\n",
      "96 Muk\n",
      "97 Shellder\n",
      "98 Cloyster\n",
      "99 Gastly\n",
      "100 Haunter\n",
      "101 Gengar\n",
      "102 GengarMega Gengar\n",
      "103 Onix\n",
      "104 Drowzee\n",
      "105 Hypno\n",
      "106 Krabby\n",
      "107 Kingler\n",
      "108 Voltorb\n",
      "109 Electrode\n",
      "110 Exeggcute\n",
      "111 Exeggutor\n",
      "112 Cubone\n",
      "113 Marowak\n",
      "114 Hitmonlee\n",
      "115 Hitmonchan\n",
      "116 Lickitung\n",
      "117 Koffing\n",
      "118 Weezing\n",
      "119 Rhyhorn\n",
      "120 Rhydon\n",
      "121 Chansey\n",
      "122 Tangela\n",
      "123 Kangaskhan\n",
      "124 KangaskhanMega Kangaskhan\n",
      "125 Horsea\n",
      "126 Seadra\n",
      "127 Goldeen\n",
      "128 Seaking\n",
      "129 Staryu\n",
      "130 Starmie\n",
      "131 Mr. Mime\n",
      "132 Scyther\n",
      "133 Jynx\n",
      "134 Electabuzz\n",
      "135 Magmar\n",
      "136 Pinsir\n",
      "137 PinsirMega Pinsir\n",
      "138 Tauros\n",
      "139 Magikarp\n",
      "140 Gyarados\n",
      "141 GyaradosMega Gyarados\n",
      "142 Lapras\n",
      "143 Ditto\n",
      "144 Eevee\n",
      "145 Vaporeon\n",
      "146 Jolteon\n",
      "147 Flareon\n",
      "148 Porygon\n",
      "149 Omanyte\n",
      "150 Omastar\n",
      "151 Kabuto\n",
      "152 Kabutops\n",
      "153 Aerodactyl\n",
      "154 AerodactylMega Aerodactyl\n",
      "155 Snorlax\n",
      "156 Articuno\n",
      "157 Zapdos\n",
      "158 Moltres\n",
      "159 Dratini\n",
      "160 Dragonair\n",
      "161 Dragonite\n",
      "162 Mewtwo\n",
      "163 MewtwoMega Mewtwo X\n",
      "164 MewtwoMega Mewtwo Y\n",
      "165 Mew\n",
      "166 Chikorita\n",
      "167 Bayleef\n",
      "168 Meganium\n",
      "169 Cyndaquil\n",
      "170 Quilava\n",
      "171 Typhlosion\n",
      "172 Totodile\n",
      "173 Croconaw\n",
      "174 Feraligatr\n",
      "175 Sentret\n",
      "176 Furret\n",
      "177 Hoothoot\n",
      "178 Noctowl\n",
      "179 Ledyba\n",
      "180 Ledian\n",
      "181 Spinarak\n",
      "182 Ariados\n",
      "183 Crobat\n",
      "184 Chinchou\n",
      "185 Lanturn\n",
      "186 Pichu\n",
      "187 Cleffa\n",
      "188 Igglybuff\n",
      "189 Togepi\n",
      "190 Togetic\n",
      "191 Natu\n",
      "192 Xatu\n",
      "193 Mareep\n",
      "194 Flaaffy\n",
      "195 Ampharos\n",
      "196 AmpharosMega Ampharos\n",
      "197 Bellossom\n",
      "198 Marill\n",
      "199 Azumarill\n",
      "200 Sudowoodo\n",
      "201 Politoed\n",
      "202 Hoppip\n",
      "203 Skiploom\n",
      "204 Jumpluff\n",
      "205 Aipom\n",
      "206 Sunkern\n",
      "207 Sunflora\n",
      "208 Yanma\n",
      "209 Wooper\n",
      "210 Quagsire\n",
      "211 Espeon\n",
      "212 Umbreon\n",
      "213 Murkrow\n",
      "214 Slowking\n",
      "215 Misdreavus\n",
      "216 Unown\n",
      "217 Wobbuffet\n",
      "218 Girafarig\n",
      "219 Pineco\n",
      "220 Forretress\n",
      "221 Dunsparce\n",
      "222 Gligar\n",
      "223 Steelix\n",
      "224 SteelixMega Steelix\n",
      "225 Snubbull\n",
      "226 Granbull\n",
      "227 Qwilfish\n",
      "228 Scizor\n",
      "229 ScizorMega Scizor\n",
      "230 Shuckle\n",
      "231 Heracross\n",
      "232 HeracrossMega Heracross\n",
      "233 Sneasel\n",
      "234 Teddiursa\n",
      "235 Ursaring\n",
      "236 Slugma\n",
      "237 Magcargo\n",
      "238 Swinub\n",
      "239 Piloswine\n",
      "240 Corsola\n",
      "241 Remoraid\n",
      "242 Octillery\n",
      "243 Delibird\n",
      "244 Mantine\n",
      "245 Skarmory\n",
      "246 Houndour\n",
      "247 Houndoom\n",
      "248 HoundoomMega Houndoom\n",
      "249 Kingdra\n",
      "250 Phanpy\n",
      "251 Donphan\n",
      "252 Porygon2\n",
      "253 Stantler\n",
      "254 Smeargle\n",
      "255 Tyrogue\n",
      "256 Hitmontop\n",
      "257 Smoochum\n",
      "258 Elekid\n",
      "259 Magby\n",
      "260 Miltank\n",
      "261 Blissey\n",
      "262 Raikou\n",
      "263 Entei\n",
      "264 Suicune\n",
      "265 Larvitar\n",
      "266 Pupitar\n",
      "267 Tyranitar\n",
      "268 TyranitarMega Tyranitar\n",
      "269 Lugia\n",
      "270 Ho-oh\n",
      "271 Celebi\n",
      "272 Treecko\n",
      "273 Grovyle\n",
      "274 Sceptile\n",
      "275 SceptileMega Sceptile\n",
      "276 Torchic\n",
      "277 Combusken\n",
      "278 Blaziken\n",
      "279 BlazikenMega Blaziken\n",
      "280 Mudkip\n",
      "281 Marshtomp\n",
      "282 Swampert\n",
      "283 SwampertMega Swampert\n",
      "284 Poochyena\n",
      "285 Mightyena\n",
      "286 Zigzagoon\n",
      "287 Linoone\n",
      "288 Wurmple\n",
      "289 Silcoon\n",
      "290 Beautifly\n",
      "291 Cascoon\n",
      "292 Dustox\n",
      "293 Lotad\n",
      "294 Lombre\n",
      "295 Ludicolo\n",
      "296 Seedot\n",
      "297 Nuzleaf\n",
      "298 Shiftry\n",
      "299 Taillow\n",
      "300 Swellow\n",
      "301 Wingull\n",
      "302 Pelipper\n",
      "303 Ralts\n",
      "304 Kirlia\n",
      "305 Gardevoir\n",
      "306 GardevoirMega Gardevoir\n",
      "307 Surskit\n",
      "308 Masquerain\n",
      "309 Shroomish\n",
      "310 Breloom\n",
      "311 Slakoth\n",
      "312 Vigoroth\n",
      "313 Slaking\n",
      "314 Nincada\n",
      "315 Ninjask\n",
      "316 Shedinja\n",
      "317 Whismur\n",
      "318 Loudred\n",
      "319 Exploud\n",
      "320 Makuhita\n",
      "321 Hariyama\n",
      "322 Azurill\n",
      "323 Nosepass\n",
      "324 Skitty\n",
      "325 Delcatty\n",
      "326 Sableye\n",
      "327 SableyeMega Sableye\n",
      "328 Mawile\n",
      "329 MawileMega Mawile\n",
      "330 Aron\n",
      "331 Lairon\n",
      "332 Aggron\n",
      "333 AggronMega Aggron\n",
      "334 Meditite\n",
      "335 Medicham\n",
      "336 MedichamMega Medicham\n",
      "337 Electrike\n",
      "338 Manectric\n",
      "339 ManectricMega Manectric\n",
      "340 Plusle\n",
      "341 Minun\n",
      "342 Volbeat\n",
      "343 Illumise\n",
      "344 Roselia\n",
      "345 Gulpin\n",
      "346 Swalot\n",
      "347 Carvanha\n",
      "348 Sharpedo\n",
      "349 SharpedoMega Sharpedo\n",
      "350 Wailmer\n",
      "351 Wailord\n",
      "352 Numel\n",
      "353 Camerupt\n",
      "354 CameruptMega Camerupt\n",
      "355 Torkoal\n",
      "356 Spoink\n",
      "357 Grumpig\n",
      "358 Spinda\n",
      "359 Trapinch\n",
      "360 Vibrava\n",
      "361 Flygon\n",
      "362 Cacnea\n",
      "363 Cacturne\n",
      "364 Swablu\n",
      "365 Altaria\n",
      "366 AltariaMega Altaria\n",
      "367 Zangoose\n",
      "368 Seviper\n",
      "369 Lunatone\n",
      "370 Solrock\n",
      "371 Barboach\n",
      "372 Whiscash\n",
      "373 Corphish\n",
      "374 Crawdaunt\n",
      "375 Baltoy\n",
      "376 Claydol\n",
      "377 Lileep\n",
      "378 Cradily\n",
      "379 Anorith\n",
      "380 Armaldo\n",
      "381 Feebas\n",
      "382 Milotic\n",
      "383 Castform\n",
      "384 Kecleon\n",
      "385 Shuppet\n",
      "386 Banette\n",
      "387 BanetteMega Banette\n",
      "388 Duskull\n",
      "389 Dusclops\n",
      "390 Tropius\n",
      "391 Chimecho\n",
      "392 Absol\n",
      "393 AbsolMega Absol\n",
      "394 Wynaut\n",
      "395 Snorunt\n",
      "396 Glalie\n",
      "397 GlalieMega Glalie\n",
      "398 Spheal\n",
      "399 Sealeo\n",
      "400 Walrein\n",
      "401 Clamperl\n",
      "402 Huntail\n",
      "403 Gorebyss\n",
      "404 Relicanth\n",
      "405 Luvdisc\n",
      "406 Bagon\n",
      "407 Shelgon\n",
      "408 Salamence\n",
      "409 SalamenceMega Salamence\n",
      "410 Beldum\n",
      "411 Metang\n",
      "412 Metagross\n",
      "413 MetagrossMega Metagross\n",
      "414 Regirock\n",
      "415 Regice\n",
      "416 Registeel\n",
      "417 Latias\n",
      "418 LatiasMega Latias\n",
      "419 Latios\n",
      "420 LatiosMega Latios\n",
      "421 Kyogre\n",
      "422 KyogrePrimal Kyogre\n",
      "423 Groudon\n",
      "424 GroudonPrimal Groudon\n",
      "425 Rayquaza\n",
      "426 RayquazaMega Rayquaza\n",
      "427 Jirachi\n",
      "428 DeoxysNormal Forme\n",
      "429 DeoxysAttack Forme\n",
      "430 DeoxysDefense Forme\n",
      "431 DeoxysSpeed Forme\n",
      "432 Turtwig\n",
      "433 Grotle\n",
      "434 Torterra\n",
      "435 Chimchar\n",
      "436 Monferno\n",
      "437 Infernape\n",
      "438 Piplup\n",
      "439 Prinplup\n",
      "440 Empoleon\n",
      "441 Starly\n",
      "442 Staravia\n",
      "443 Staraptor\n",
      "444 Bidoof\n",
      "445 Bibarel\n",
      "446 Kricketot\n",
      "447 Kricketune\n",
      "448 Shinx\n",
      "449 Luxio\n",
      "450 Luxray\n",
      "451 Budew\n",
      "452 Roserade\n",
      "453 Cranidos\n",
      "454 Rampardos\n",
      "455 Shieldon\n",
      "456 Bastiodon\n",
      "457 Burmy\n",
      "458 WormadamPlant Cloak\n",
      "459 WormadamSandy Cloak\n",
      "460 WormadamTrash Cloak\n",
      "461 Mothim\n",
      "462 Combee\n",
      "463 Vespiquen\n",
      "464 Pachirisu\n",
      "465 Buizel\n",
      "466 Floatzel\n",
      "467 Cherubi\n",
      "468 Cherrim\n",
      "469 Shellos\n",
      "470 Gastrodon\n",
      "471 Ambipom\n",
      "472 Drifloon\n",
      "473 Drifblim\n",
      "474 Buneary\n",
      "475 Lopunny\n",
      "476 LopunnyMega Lopunny\n",
      "477 Mismagius\n",
      "478 Honchkrow\n",
      "479 Glameow\n",
      "480 Purugly\n",
      "481 Chingling\n",
      "482 Stunky\n",
      "483 Skuntank\n",
      "484 Bronzor\n",
      "485 Bronzong\n",
      "486 Bonsly\n",
      "487 Mime Jr.\n",
      "488 Happiny\n",
      "489 Chatot\n",
      "490 Spiritomb\n",
      "491 Gible\n",
      "492 Gabite\n",
      "493 Garchomp\n",
      "494 GarchompMega Garchomp\n",
      "495 Munchlax\n",
      "496 Riolu\n",
      "497 Lucario\n",
      "498 LucarioMega Lucario\n",
      "499 Hippopotas\n",
      "500 Hippowdon\n",
      "501 Skorupi\n",
      "502 Drapion\n",
      "503 Croagunk\n",
      "504 Toxicroak\n",
      "505 Carnivine\n",
      "506 Finneon\n",
      "507 Lumineon\n",
      "508 Mantyke\n",
      "509 Snover\n",
      "510 Abomasnow\n",
      "511 AbomasnowMega Abomasnow\n",
      "512 Weavile\n",
      "513 Magnezone\n",
      "514 Lickilicky\n",
      "515 Rhyperior\n",
      "516 Tangrowth\n",
      "517 Electivire\n",
      "518 Magmortar\n",
      "519 Togekiss\n",
      "520 Yanmega\n",
      "521 Leafeon\n",
      "522 Glaceon\n",
      "523 Gliscor\n",
      "524 Mamoswine\n",
      "525 Porygon-Z\n",
      "526 Gallade\n",
      "527 GalladeMega Gallade\n",
      "528 Probopass\n",
      "529 Dusknoir\n",
      "530 Froslass\n",
      "531 Rotom\n",
      "532 RotomHeat Rotom\n",
      "533 RotomWash Rotom\n",
      "534 RotomFrost Rotom\n",
      "535 RotomFan Rotom\n",
      "536 RotomMow Rotom\n",
      "537 Uxie\n",
      "538 Mesprit\n",
      "539 Azelf\n",
      "540 Dialga\n",
      "541 Palkia\n",
      "542 Heatran\n",
      "543 Regigigas\n",
      "544 GiratinaAltered Forme\n",
      "545 GiratinaOrigin Forme\n",
      "546 Cresselia\n",
      "547 Phione\n",
      "548 Manaphy\n",
      "549 Darkrai\n",
      "550 ShayminLand Forme\n",
      "551 ShayminSky Forme\n",
      "552 Arceus\n",
      "553 Victini\n",
      "554 Snivy\n",
      "555 Servine\n",
      "556 Serperior\n",
      "557 Tepig\n",
      "558 Pignite\n",
      "559 Emboar\n",
      "560 Oshawott\n",
      "561 Dewott\n",
      "562 Samurott\n",
      "563 Patrat\n",
      "564 Watchog\n",
      "565 Lillipup\n",
      "566 Herdier\n",
      "567 Stoutland\n",
      "568 Purrloin\n",
      "569 Liepard\n",
      "570 Pansage\n",
      "571 Simisage\n",
      "572 Pansear\n",
      "573 Simisear\n",
      "574 Panpour\n",
      "575 Simipour\n",
      "576 Munna\n",
      "577 Musharna\n",
      "578 Pidove\n",
      "579 Tranquill\n",
      "580 Unfezant\n",
      "581 Blitzle\n",
      "582 Zebstrika\n",
      "583 Roggenrola\n",
      "584 Boldore\n",
      "585 Gigalith\n",
      "586 Woobat\n",
      "587 Swoobat\n",
      "588 Drilbur\n",
      "589 Excadrill\n",
      "590 Audino\n",
      "591 AudinoMega Audino\n",
      "592 Timburr\n",
      "593 Gurdurr\n",
      "594 Conkeldurr\n",
      "595 Tympole\n",
      "596 Palpitoad\n",
      "597 Seismitoad\n",
      "598 Throh\n",
      "599 Sawk\n",
      "600 Sewaddle\n",
      "601 Swadloon\n",
      "602 Leavanny\n",
      "603 Venipede\n",
      "604 Whirlipede\n",
      "605 Scolipede\n",
      "606 Cottonee\n",
      "607 Whimsicott\n",
      "608 Petilil\n",
      "609 Lilligant\n",
      "610 Basculin\n",
      "611 Sandile\n",
      "612 Krokorok\n",
      "613 Krookodile\n",
      "614 Darumaka\n",
      "615 DarmanitanStandard Mode\n",
      "616 DarmanitanZen Mode\n",
      "617 Maractus\n",
      "618 Dwebble\n",
      "619 Crustle\n",
      "620 Scraggy\n",
      "621 Scrafty\n",
      "622 Sigilyph\n",
      "623 Yamask\n",
      "624 Cofagrigus\n",
      "625 Tirtouga\n",
      "626 Carracosta\n",
      "627 Archen\n",
      "628 Archeops\n",
      "629 Trubbish\n",
      "630 Garbodor\n",
      "631 Zorua\n",
      "632 Zoroark\n",
      "633 Minccino\n",
      "634 Cinccino\n",
      "635 Gothita\n",
      "636 Gothorita\n",
      "637 Gothitelle\n",
      "638 Solosis\n",
      "639 Duosion\n",
      "640 Reuniclus\n",
      "641 Ducklett\n",
      "642 Swanna\n",
      "643 Vanillite\n",
      "644 Vanillish\n",
      "645 Vanilluxe\n",
      "646 Deerling\n",
      "647 Sawsbuck\n",
      "648 Emolga\n",
      "649 Karrablast\n",
      "650 Escavalier\n",
      "651 Foongus\n",
      "652 Amoonguss\n",
      "653 Frillish\n",
      "654 Jellicent\n",
      "655 Alomomola\n",
      "656 Joltik\n",
      "657 Galvantula\n",
      "658 Ferroseed\n",
      "659 Ferrothorn\n",
      "660 Klink\n",
      "661 Klang\n",
      "662 Klinklang\n",
      "663 Tynamo\n",
      "664 Eelektrik\n",
      "665 Eelektross\n",
      "666 Elgyem\n",
      "667 Beheeyem\n",
      "668 Litwick\n",
      "669 Lampent\n",
      "670 Chandelure\n",
      "671 Axew\n",
      "672 Fraxure\n",
      "673 Haxorus\n",
      "674 Cubchoo\n",
      "675 Beartic\n",
      "676 Cryogonal\n",
      "677 Shelmet\n",
      "678 Accelgor\n",
      "679 Stunfisk\n",
      "680 Mienfoo\n",
      "681 Mienshao\n",
      "682 Druddigon\n",
      "683 Golett\n",
      "684 Golurk\n",
      "685 Pawniard\n",
      "686 Bisharp\n",
      "687 Bouffalant\n",
      "688 Rufflet\n",
      "689 Braviary\n",
      "690 Vullaby\n",
      "691 Mandibuzz\n",
      "692 Heatmor\n",
      "693 Durant\n",
      "694 Deino\n",
      "695 Zweilous\n",
      "696 Hydreigon\n",
      "697 Larvesta\n",
      "698 Volcarona\n",
      "699 Cobalion\n",
      "700 Terrakion\n",
      "701 Virizion\n",
      "702 TornadusIncarnate Forme\n",
      "703 TornadusTherian Forme\n",
      "704 ThundurusIncarnate Forme\n",
      "705 ThundurusTherian Forme\n",
      "706 Reshiram\n",
      "707 Zekrom\n",
      "708 LandorusIncarnate Forme\n",
      "709 LandorusTherian Forme\n",
      "710 Kyurem\n",
      "711 KyuremBlack Kyurem\n",
      "712 KyuremWhite Kyurem\n",
      "713 KeldeoOrdinary Forme\n",
      "714 KeldeoResolute Forme\n",
      "715 MeloettaAria Forme\n",
      "716 MeloettaPirouette Forme\n",
      "717 Genesect\n",
      "718 Chespin\n",
      "719 Quilladin\n",
      "720 Chesnaught\n",
      "721 Fennekin\n",
      "722 Braixen\n",
      "723 Delphox\n",
      "724 Froakie\n",
      "725 Frogadier\n",
      "726 Greninja\n",
      "727 Bunnelby\n",
      "728 Diggersby\n",
      "729 Fletchling\n",
      "730 Fletchinder\n",
      "731 Talonflame\n",
      "732 Scatterbug\n",
      "733 Spewpa\n",
      "734 Vivillon\n",
      "735 Litleo\n",
      "736 Pyroar\n",
      "737 Flabébé\n",
      "738 Floette\n",
      "739 Florges\n",
      "740 Skiddo\n",
      "741 Gogoat\n",
      "742 Pancham\n",
      "743 Pangoro\n",
      "744 Furfrou\n",
      "745 Espurr\n",
      "746 MeowsticMale\n",
      "747 MeowsticFemale\n",
      "748 Honedge\n",
      "749 Doublade\n",
      "750 AegislashBlade Forme\n",
      "751 AegislashShield Forme\n",
      "752 Spritzee\n",
      "753 Aromatisse\n",
      "754 Swirlix\n",
      "755 Slurpuff\n",
      "756 Inkay\n",
      "757 Malamar\n",
      "758 Binacle\n",
      "759 Barbaracle\n",
      "760 Skrelp\n",
      "761 Dragalge\n",
      "762 Clauncher\n",
      "763 Clawitzer\n",
      "764 Helioptile\n",
      "765 Heliolisk\n",
      "766 Tyrunt\n",
      "767 Tyrantrum\n",
      "768 Amaura\n",
      "769 Aurorus\n",
      "770 Sylveon\n",
      "771 Hawlucha\n",
      "772 Dedenne\n",
      "773 Carbink\n",
      "774 Goomy\n",
      "775 Sliggoo\n",
      "776 Goodra\n",
      "777 Klefki\n",
      "778 Phantump\n",
      "779 Trevenant\n",
      "780 PumpkabooAverage Size\n",
      "781 PumpkabooSmall Size\n",
      "782 PumpkabooLarge Size\n",
      "783 PumpkabooSuper Size\n",
      "784 GourgeistAverage Size\n",
      "785 GourgeistSmall Size\n",
      "786 GourgeistLarge Size\n",
      "787 GourgeistSuper Size\n",
      "788 Bergmite\n",
      "789 Avalugg\n",
      "790 Noibat\n",
      "791 Noivern\n",
      "792 Xerneas\n",
      "793 Yveltal\n",
      "794 Zygarde50% Forme\n",
      "795 Diancie\n",
      "796 DiancieMega Diancie\n",
      "797 HoopaHoopa Confined\n",
      "798 HoopaHoopa Unbound\n",
      "799 Volcanion\n"
     ]
    }
   ],
   "source": [
    "# using a for loop to access some rows\n",
    "for index, row in df.iterrows():\n",
    "    print(index, row[\"Name\"])"
   ],
   "metadata": {
    "collapsed": false,
    "ExecuteTime": {
     "end_time": "2024-01-27T13:52:58.535913125Z",
     "start_time": "2024-01-27T13:52:58.464601749Z"
    }
   },
   "id": "23aaf3ee4a1d921b",
   "execution_count": 151
  },
  {
   "cell_type": "code",
   "outputs": [
    {
     "data": {
      "text/plain": "       #                       Name Type 1    Type 2   HP  Attack  Defense  \\\n4      4                 Charmander   Fire       NaN   39      52       43   \n5      5                 Charmeleon   Fire       NaN   58      64       58   \n6      6                  Charizard   Fire    Flying   78      84       78   \n7      6  CharizardMega Charizard X   Fire    Dragon   78     130      111   \n8      6  CharizardMega Charizard Y   Fire    Flying   78     104       78   \n42    37                     Vulpix   Fire       NaN   38      41       40   \n43    38                  Ninetales   Fire       NaN   73      76       75   \n63    58                  Growlithe   Fire       NaN   55      70       45   \n64    59                   Arcanine   Fire       NaN   90     110       80   \n83    77                     Ponyta   Fire       NaN   50      85       55   \n84    78                   Rapidash   Fire       NaN   65     100       70   \n135  126                     Magmar   Fire       NaN   65      95       57   \n147  136                    Flareon   Fire       NaN   65     130       60   \n158  146                    Moltres   Fire    Flying   90     100       90   \n169  155                  Cyndaquil   Fire       NaN   39      52       43   \n170  156                    Quilava   Fire       NaN   58      64       58   \n171  157                 Typhlosion   Fire       NaN   78      84       78   \n236  218                     Slugma   Fire       NaN   40      40       40   \n237  219                   Magcargo   Fire      Rock   50      50      120   \n259  240                      Magby   Fire       NaN   45      75       37   \n263  244                      Entei   Fire       NaN  115     115       85   \n270  250                      Ho-oh   Fire    Flying  106     130       90   \n276  255                    Torchic   Fire       NaN   45      60       40   \n277  256                  Combusken   Fire  Fighting   60      85       60   \n278  257                   Blaziken   Fire  Fighting   80     120       70   \n279  257      BlazikenMega Blaziken   Fire  Fighting   80     160       80   \n352  322                      Numel   Fire    Ground   60      60       40   \n353  323                   Camerupt   Fire    Ground   70     100       70   \n354  323      CameruptMega Camerupt   Fire    Ground   70     120      100   \n355  324                    Torkoal   Fire       NaN   70      85      140   \n435  390                   Chimchar   Fire       NaN   44      58       44   \n436  391                   Monferno   Fire  Fighting   64      78       52   \n437  392                  Infernape   Fire  Fighting   76     104       71   \n518  467                  Magmortar   Fire       NaN   75      95       67   \n542  485                    Heatran   Fire     Steel   91      90      106   \n557  498                      Tepig   Fire       NaN   65      63       45   \n558  499                    Pignite   Fire  Fighting   90      93       55   \n559  500                     Emboar   Fire  Fighting  110     123       65   \n572  513                    Pansear   Fire       NaN   50      53       48   \n573  514                   Simisear   Fire       NaN   75      98       63   \n614  554                   Darumaka   Fire       NaN   70      90       45   \n615  555    DarmanitanStandard Mode   Fire       NaN  105     140       55   \n616  555         DarmanitanZen Mode   Fire   Psychic  105      30      105   \n692  631                    Heatmor   Fire       NaN   85      97       66   \n721  653                   Fennekin   Fire       NaN   40      45       40   \n722  654                    Braixen   Fire       NaN   59      59       58   \n723  655                    Delphox   Fire   Psychic   75      69       72   \n730  662                Fletchinder   Fire    Flying   62      73       55   \n731  663                 Talonflame   Fire    Flying   78      81       71   \n735  667                     Litleo   Fire    Normal   62      50       58   \n736  668                     Pyroar   Fire    Normal   86      68       72   \n799  721                  Volcanion   Fire     Water   80     110      120   \n\n     Sp. Atk  Sp. Def  Speed  Generation  Legendary  \n4         60       50     65           1      False  \n5         80       65     80           1      False  \n6        109       85    100           1      False  \n7        130       85    100           1      False  \n8        159      115    100           1      False  \n42        50       65     65           1      False  \n43        81      100    100           1      False  \n63        70       50     60           1      False  \n64       100       80     95           1      False  \n83        65       65     90           1      False  \n84        80       80    105           1      False  \n135      100       85     93           1      False  \n147       95      110     65           1      False  \n158      125       85     90           1       True  \n169       60       50     65           2      False  \n170       80       65     80           2      False  \n171      109       85    100           2      False  \n236       70       40     20           2      False  \n237       80       80     30           2      False  \n259       70       55     83           2      False  \n263       90       75    100           2       True  \n270      110      154     90           2       True  \n276       70       50     45           3      False  \n277       85       60     55           3      False  \n278      110       70     80           3      False  \n279      130       80    100           3      False  \n352       65       45     35           3      False  \n353      105       75     40           3      False  \n354      145      105     20           3      False  \n355       85       70     20           3      False  \n435       58       44     61           4      False  \n436       78       52     81           4      False  \n437      104       71    108           4      False  \n518      125       95     83           4      False  \n542      130      106     77           4       True  \n557       45       45     45           5      False  \n558       70       55     55           5      False  \n559      100       65     65           5      False  \n572       53       48     64           5      False  \n573       98       63    101           5      False  \n614       15       45     50           5      False  \n615       30       55     95           5      False  \n616      140      105     55           5      False  \n692      105       66     65           5      False  \n721       62       60     60           6      False  \n722       90       70     73           6      False  \n723      114      100    104           6      False  \n730       56       52     84           6      False  \n731       74       69    126           6      False  \n735       73       54     72           6      False  \n736      109       66    106           6      False  \n799      130       90     70           6       True  ",
      "text/html": "<div>\n<style scoped>\n    .dataframe tbody tr th:only-of-type {\n        vertical-align: middle;\n    }\n\n    .dataframe tbody tr th {\n        vertical-align: top;\n    }\n\n    .dataframe thead th {\n        text-align: right;\n    }\n</style>\n<table border=\"1\" class=\"dataframe\">\n  <thead>\n    <tr style=\"text-align: right;\">\n      <th></th>\n      <th>#</th>\n      <th>Name</th>\n      <th>Type 1</th>\n      <th>Type 2</th>\n      <th>HP</th>\n      <th>Attack</th>\n      <th>Defense</th>\n      <th>Sp. Atk</th>\n      <th>Sp. Def</th>\n      <th>Speed</th>\n      <th>Generation</th>\n      <th>Legendary</th>\n    </tr>\n  </thead>\n  <tbody>\n    <tr>\n      <th>4</th>\n      <td>4</td>\n      <td>Charmander</td>\n      <td>Fire</td>\n      <td>NaN</td>\n      <td>39</td>\n      <td>52</td>\n      <td>43</td>\n      <td>60</td>\n      <td>50</td>\n      <td>65</td>\n      <td>1</td>\n      <td>False</td>\n    </tr>\n    <tr>\n      <th>5</th>\n      <td>5</td>\n      <td>Charmeleon</td>\n      <td>Fire</td>\n      <td>NaN</td>\n      <td>58</td>\n      <td>64</td>\n      <td>58</td>\n      <td>80</td>\n      <td>65</td>\n      <td>80</td>\n      <td>1</td>\n      <td>False</td>\n    </tr>\n    <tr>\n      <th>6</th>\n      <td>6</td>\n      <td>Charizard</td>\n      <td>Fire</td>\n      <td>Flying</td>\n      <td>78</td>\n      <td>84</td>\n      <td>78</td>\n      <td>109</td>\n      <td>85</td>\n      <td>100</td>\n      <td>1</td>\n      <td>False</td>\n    </tr>\n    <tr>\n      <th>7</th>\n      <td>6</td>\n      <td>CharizardMega Charizard X</td>\n      <td>Fire</td>\n      <td>Dragon</td>\n      <td>78</td>\n      <td>130</td>\n      <td>111</td>\n      <td>130</td>\n      <td>85</td>\n      <td>100</td>\n      <td>1</td>\n      <td>False</td>\n    </tr>\n    <tr>\n      <th>8</th>\n      <td>6</td>\n      <td>CharizardMega Charizard Y</td>\n      <td>Fire</td>\n      <td>Flying</td>\n      <td>78</td>\n      <td>104</td>\n      <td>78</td>\n      <td>159</td>\n      <td>115</td>\n      <td>100</td>\n      <td>1</td>\n      <td>False</td>\n    </tr>\n    <tr>\n      <th>42</th>\n      <td>37</td>\n      <td>Vulpix</td>\n      <td>Fire</td>\n      <td>NaN</td>\n      <td>38</td>\n      <td>41</td>\n      <td>40</td>\n      <td>50</td>\n      <td>65</td>\n      <td>65</td>\n      <td>1</td>\n      <td>False</td>\n    </tr>\n    <tr>\n      <th>43</th>\n      <td>38</td>\n      <td>Ninetales</td>\n      <td>Fire</td>\n      <td>NaN</td>\n      <td>73</td>\n      <td>76</td>\n      <td>75</td>\n      <td>81</td>\n      <td>100</td>\n      <td>100</td>\n      <td>1</td>\n      <td>False</td>\n    </tr>\n    <tr>\n      <th>63</th>\n      <td>58</td>\n      <td>Growlithe</td>\n      <td>Fire</td>\n      <td>NaN</td>\n      <td>55</td>\n      <td>70</td>\n      <td>45</td>\n      <td>70</td>\n      <td>50</td>\n      <td>60</td>\n      <td>1</td>\n      <td>False</td>\n    </tr>\n    <tr>\n      <th>64</th>\n      <td>59</td>\n      <td>Arcanine</td>\n      <td>Fire</td>\n      <td>NaN</td>\n      <td>90</td>\n      <td>110</td>\n      <td>80</td>\n      <td>100</td>\n      <td>80</td>\n      <td>95</td>\n      <td>1</td>\n      <td>False</td>\n    </tr>\n    <tr>\n      <th>83</th>\n      <td>77</td>\n      <td>Ponyta</td>\n      <td>Fire</td>\n      <td>NaN</td>\n      <td>50</td>\n      <td>85</td>\n      <td>55</td>\n      <td>65</td>\n      <td>65</td>\n      <td>90</td>\n      <td>1</td>\n      <td>False</td>\n    </tr>\n    <tr>\n      <th>84</th>\n      <td>78</td>\n      <td>Rapidash</td>\n      <td>Fire</td>\n      <td>NaN</td>\n      <td>65</td>\n      <td>100</td>\n      <td>70</td>\n      <td>80</td>\n      <td>80</td>\n      <td>105</td>\n      <td>1</td>\n      <td>False</td>\n    </tr>\n    <tr>\n      <th>135</th>\n      <td>126</td>\n      <td>Magmar</td>\n      <td>Fire</td>\n      <td>NaN</td>\n      <td>65</td>\n      <td>95</td>\n      <td>57</td>\n      <td>100</td>\n      <td>85</td>\n      <td>93</td>\n      <td>1</td>\n      <td>False</td>\n    </tr>\n    <tr>\n      <th>147</th>\n      <td>136</td>\n      <td>Flareon</td>\n      <td>Fire</td>\n      <td>NaN</td>\n      <td>65</td>\n      <td>130</td>\n      <td>60</td>\n      <td>95</td>\n      <td>110</td>\n      <td>65</td>\n      <td>1</td>\n      <td>False</td>\n    </tr>\n    <tr>\n      <th>158</th>\n      <td>146</td>\n      <td>Moltres</td>\n      <td>Fire</td>\n      <td>Flying</td>\n      <td>90</td>\n      <td>100</td>\n      <td>90</td>\n      <td>125</td>\n      <td>85</td>\n      <td>90</td>\n      <td>1</td>\n      <td>True</td>\n    </tr>\n    <tr>\n      <th>169</th>\n      <td>155</td>\n      <td>Cyndaquil</td>\n      <td>Fire</td>\n      <td>NaN</td>\n      <td>39</td>\n      <td>52</td>\n      <td>43</td>\n      <td>60</td>\n      <td>50</td>\n      <td>65</td>\n      <td>2</td>\n      <td>False</td>\n    </tr>\n    <tr>\n      <th>170</th>\n      <td>156</td>\n      <td>Quilava</td>\n      <td>Fire</td>\n      <td>NaN</td>\n      <td>58</td>\n      <td>64</td>\n      <td>58</td>\n      <td>80</td>\n      <td>65</td>\n      <td>80</td>\n      <td>2</td>\n      <td>False</td>\n    </tr>\n    <tr>\n      <th>171</th>\n      <td>157</td>\n      <td>Typhlosion</td>\n      <td>Fire</td>\n      <td>NaN</td>\n      <td>78</td>\n      <td>84</td>\n      <td>78</td>\n      <td>109</td>\n      <td>85</td>\n      <td>100</td>\n      <td>2</td>\n      <td>False</td>\n    </tr>\n    <tr>\n      <th>236</th>\n      <td>218</td>\n      <td>Slugma</td>\n      <td>Fire</td>\n      <td>NaN</td>\n      <td>40</td>\n      <td>40</td>\n      <td>40</td>\n      <td>70</td>\n      <td>40</td>\n      <td>20</td>\n      <td>2</td>\n      <td>False</td>\n    </tr>\n    <tr>\n      <th>237</th>\n      <td>219</td>\n      <td>Magcargo</td>\n      <td>Fire</td>\n      <td>Rock</td>\n      <td>50</td>\n      <td>50</td>\n      <td>120</td>\n      <td>80</td>\n      <td>80</td>\n      <td>30</td>\n      <td>2</td>\n      <td>False</td>\n    </tr>\n    <tr>\n      <th>259</th>\n      <td>240</td>\n      <td>Magby</td>\n      <td>Fire</td>\n      <td>NaN</td>\n      <td>45</td>\n      <td>75</td>\n      <td>37</td>\n      <td>70</td>\n      <td>55</td>\n      <td>83</td>\n      <td>2</td>\n      <td>False</td>\n    </tr>\n    <tr>\n      <th>263</th>\n      <td>244</td>\n      <td>Entei</td>\n      <td>Fire</td>\n      <td>NaN</td>\n      <td>115</td>\n      <td>115</td>\n      <td>85</td>\n      <td>90</td>\n      <td>75</td>\n      <td>100</td>\n      <td>2</td>\n      <td>True</td>\n    </tr>\n    <tr>\n      <th>270</th>\n      <td>250</td>\n      <td>Ho-oh</td>\n      <td>Fire</td>\n      <td>Flying</td>\n      <td>106</td>\n      <td>130</td>\n      <td>90</td>\n      <td>110</td>\n      <td>154</td>\n      <td>90</td>\n      <td>2</td>\n      <td>True</td>\n    </tr>\n    <tr>\n      <th>276</th>\n      <td>255</td>\n      <td>Torchic</td>\n      <td>Fire</td>\n      <td>NaN</td>\n      <td>45</td>\n      <td>60</td>\n      <td>40</td>\n      <td>70</td>\n      <td>50</td>\n      <td>45</td>\n      <td>3</td>\n      <td>False</td>\n    </tr>\n    <tr>\n      <th>277</th>\n      <td>256</td>\n      <td>Combusken</td>\n      <td>Fire</td>\n      <td>Fighting</td>\n      <td>60</td>\n      <td>85</td>\n      <td>60</td>\n      <td>85</td>\n      <td>60</td>\n      <td>55</td>\n      <td>3</td>\n      <td>False</td>\n    </tr>\n    <tr>\n      <th>278</th>\n      <td>257</td>\n      <td>Blaziken</td>\n      <td>Fire</td>\n      <td>Fighting</td>\n      <td>80</td>\n      <td>120</td>\n      <td>70</td>\n      <td>110</td>\n      <td>70</td>\n      <td>80</td>\n      <td>3</td>\n      <td>False</td>\n    </tr>\n    <tr>\n      <th>279</th>\n      <td>257</td>\n      <td>BlazikenMega Blaziken</td>\n      <td>Fire</td>\n      <td>Fighting</td>\n      <td>80</td>\n      <td>160</td>\n      <td>80</td>\n      <td>130</td>\n      <td>80</td>\n      <td>100</td>\n      <td>3</td>\n      <td>False</td>\n    </tr>\n    <tr>\n      <th>352</th>\n      <td>322</td>\n      <td>Numel</td>\n      <td>Fire</td>\n      <td>Ground</td>\n      <td>60</td>\n      <td>60</td>\n      <td>40</td>\n      <td>65</td>\n      <td>45</td>\n      <td>35</td>\n      <td>3</td>\n      <td>False</td>\n    </tr>\n    <tr>\n      <th>353</th>\n      <td>323</td>\n      <td>Camerupt</td>\n      <td>Fire</td>\n      <td>Ground</td>\n      <td>70</td>\n      <td>100</td>\n      <td>70</td>\n      <td>105</td>\n      <td>75</td>\n      <td>40</td>\n      <td>3</td>\n      <td>False</td>\n    </tr>\n    <tr>\n      <th>354</th>\n      <td>323</td>\n      <td>CameruptMega Camerupt</td>\n      <td>Fire</td>\n      <td>Ground</td>\n      <td>70</td>\n      <td>120</td>\n      <td>100</td>\n      <td>145</td>\n      <td>105</td>\n      <td>20</td>\n      <td>3</td>\n      <td>False</td>\n    </tr>\n    <tr>\n      <th>355</th>\n      <td>324</td>\n      <td>Torkoal</td>\n      <td>Fire</td>\n      <td>NaN</td>\n      <td>70</td>\n      <td>85</td>\n      <td>140</td>\n      <td>85</td>\n      <td>70</td>\n      <td>20</td>\n      <td>3</td>\n      <td>False</td>\n    </tr>\n    <tr>\n      <th>435</th>\n      <td>390</td>\n      <td>Chimchar</td>\n      <td>Fire</td>\n      <td>NaN</td>\n      <td>44</td>\n      <td>58</td>\n      <td>44</td>\n      <td>58</td>\n      <td>44</td>\n      <td>61</td>\n      <td>4</td>\n      <td>False</td>\n    </tr>\n    <tr>\n      <th>436</th>\n      <td>391</td>\n      <td>Monferno</td>\n      <td>Fire</td>\n      <td>Fighting</td>\n      <td>64</td>\n      <td>78</td>\n      <td>52</td>\n      <td>78</td>\n      <td>52</td>\n      <td>81</td>\n      <td>4</td>\n      <td>False</td>\n    </tr>\n    <tr>\n      <th>437</th>\n      <td>392</td>\n      <td>Infernape</td>\n      <td>Fire</td>\n      <td>Fighting</td>\n      <td>76</td>\n      <td>104</td>\n      <td>71</td>\n      <td>104</td>\n      <td>71</td>\n      <td>108</td>\n      <td>4</td>\n      <td>False</td>\n    </tr>\n    <tr>\n      <th>518</th>\n      <td>467</td>\n      <td>Magmortar</td>\n      <td>Fire</td>\n      <td>NaN</td>\n      <td>75</td>\n      <td>95</td>\n      <td>67</td>\n      <td>125</td>\n      <td>95</td>\n      <td>83</td>\n      <td>4</td>\n      <td>False</td>\n    </tr>\n    <tr>\n      <th>542</th>\n      <td>485</td>\n      <td>Heatran</td>\n      <td>Fire</td>\n      <td>Steel</td>\n      <td>91</td>\n      <td>90</td>\n      <td>106</td>\n      <td>130</td>\n      <td>106</td>\n      <td>77</td>\n      <td>4</td>\n      <td>True</td>\n    </tr>\n    <tr>\n      <th>557</th>\n      <td>498</td>\n      <td>Tepig</td>\n      <td>Fire</td>\n      <td>NaN</td>\n      <td>65</td>\n      <td>63</td>\n      <td>45</td>\n      <td>45</td>\n      <td>45</td>\n      <td>45</td>\n      <td>5</td>\n      <td>False</td>\n    </tr>\n    <tr>\n      <th>558</th>\n      <td>499</td>\n      <td>Pignite</td>\n      <td>Fire</td>\n      <td>Fighting</td>\n      <td>90</td>\n      <td>93</td>\n      <td>55</td>\n      <td>70</td>\n      <td>55</td>\n      <td>55</td>\n      <td>5</td>\n      <td>False</td>\n    </tr>\n    <tr>\n      <th>559</th>\n      <td>500</td>\n      <td>Emboar</td>\n      <td>Fire</td>\n      <td>Fighting</td>\n      <td>110</td>\n      <td>123</td>\n      <td>65</td>\n      <td>100</td>\n      <td>65</td>\n      <td>65</td>\n      <td>5</td>\n      <td>False</td>\n    </tr>\n    <tr>\n      <th>572</th>\n      <td>513</td>\n      <td>Pansear</td>\n      <td>Fire</td>\n      <td>NaN</td>\n      <td>50</td>\n      <td>53</td>\n      <td>48</td>\n      <td>53</td>\n      <td>48</td>\n      <td>64</td>\n      <td>5</td>\n      <td>False</td>\n    </tr>\n    <tr>\n      <th>573</th>\n      <td>514</td>\n      <td>Simisear</td>\n      <td>Fire</td>\n      <td>NaN</td>\n      <td>75</td>\n      <td>98</td>\n      <td>63</td>\n      <td>98</td>\n      <td>63</td>\n      <td>101</td>\n      <td>5</td>\n      <td>False</td>\n    </tr>\n    <tr>\n      <th>614</th>\n      <td>554</td>\n      <td>Darumaka</td>\n      <td>Fire</td>\n      <td>NaN</td>\n      <td>70</td>\n      <td>90</td>\n      <td>45</td>\n      <td>15</td>\n      <td>45</td>\n      <td>50</td>\n      <td>5</td>\n      <td>False</td>\n    </tr>\n    <tr>\n      <th>615</th>\n      <td>555</td>\n      <td>DarmanitanStandard Mode</td>\n      <td>Fire</td>\n      <td>NaN</td>\n      <td>105</td>\n      <td>140</td>\n      <td>55</td>\n      <td>30</td>\n      <td>55</td>\n      <td>95</td>\n      <td>5</td>\n      <td>False</td>\n    </tr>\n    <tr>\n      <th>616</th>\n      <td>555</td>\n      <td>DarmanitanZen Mode</td>\n      <td>Fire</td>\n      <td>Psychic</td>\n      <td>105</td>\n      <td>30</td>\n      <td>105</td>\n      <td>140</td>\n      <td>105</td>\n      <td>55</td>\n      <td>5</td>\n      <td>False</td>\n    </tr>\n    <tr>\n      <th>692</th>\n      <td>631</td>\n      <td>Heatmor</td>\n      <td>Fire</td>\n      <td>NaN</td>\n      <td>85</td>\n      <td>97</td>\n      <td>66</td>\n      <td>105</td>\n      <td>66</td>\n      <td>65</td>\n      <td>5</td>\n      <td>False</td>\n    </tr>\n    <tr>\n      <th>721</th>\n      <td>653</td>\n      <td>Fennekin</td>\n      <td>Fire</td>\n      <td>NaN</td>\n      <td>40</td>\n      <td>45</td>\n      <td>40</td>\n      <td>62</td>\n      <td>60</td>\n      <td>60</td>\n      <td>6</td>\n      <td>False</td>\n    </tr>\n    <tr>\n      <th>722</th>\n      <td>654</td>\n      <td>Braixen</td>\n      <td>Fire</td>\n      <td>NaN</td>\n      <td>59</td>\n      <td>59</td>\n      <td>58</td>\n      <td>90</td>\n      <td>70</td>\n      <td>73</td>\n      <td>6</td>\n      <td>False</td>\n    </tr>\n    <tr>\n      <th>723</th>\n      <td>655</td>\n      <td>Delphox</td>\n      <td>Fire</td>\n      <td>Psychic</td>\n      <td>75</td>\n      <td>69</td>\n      <td>72</td>\n      <td>114</td>\n      <td>100</td>\n      <td>104</td>\n      <td>6</td>\n      <td>False</td>\n    </tr>\n    <tr>\n      <th>730</th>\n      <td>662</td>\n      <td>Fletchinder</td>\n      <td>Fire</td>\n      <td>Flying</td>\n      <td>62</td>\n      <td>73</td>\n      <td>55</td>\n      <td>56</td>\n      <td>52</td>\n      <td>84</td>\n      <td>6</td>\n      <td>False</td>\n    </tr>\n    <tr>\n      <th>731</th>\n      <td>663</td>\n      <td>Talonflame</td>\n      <td>Fire</td>\n      <td>Flying</td>\n      <td>78</td>\n      <td>81</td>\n      <td>71</td>\n      <td>74</td>\n      <td>69</td>\n      <td>126</td>\n      <td>6</td>\n      <td>False</td>\n    </tr>\n    <tr>\n      <th>735</th>\n      <td>667</td>\n      <td>Litleo</td>\n      <td>Fire</td>\n      <td>Normal</td>\n      <td>62</td>\n      <td>50</td>\n      <td>58</td>\n      <td>73</td>\n      <td>54</td>\n      <td>72</td>\n      <td>6</td>\n      <td>False</td>\n    </tr>\n    <tr>\n      <th>736</th>\n      <td>668</td>\n      <td>Pyroar</td>\n      <td>Fire</td>\n      <td>Normal</td>\n      <td>86</td>\n      <td>68</td>\n      <td>72</td>\n      <td>109</td>\n      <td>66</td>\n      <td>106</td>\n      <td>6</td>\n      <td>False</td>\n    </tr>\n    <tr>\n      <th>799</th>\n      <td>721</td>\n      <td>Volcanion</td>\n      <td>Fire</td>\n      <td>Water</td>\n      <td>80</td>\n      <td>110</td>\n      <td>120</td>\n      <td>130</td>\n      <td>90</td>\n      <td>70</td>\n      <td>6</td>\n      <td>True</td>\n    </tr>\n  </tbody>\n</table>\n</div>"
     },
     "execution_count": 152,
     "metadata": {},
     "output_type": "execute_result"
    }
   ],
   "source": [
    "# Finding rows due to a condition\n",
    "df[df[\"Type 1\"] == \"Fire\"]\n",
    "# df.loc[df[\"Type 1\"] == \"Fire\"]"
   ],
   "metadata": {
    "collapsed": false,
    "ExecuteTime": {
     "end_time": "2024-01-27T13:52:59.778971872Z",
     "start_time": "2024-01-27T13:52:59.749964703Z"
    }
   },
   "id": "55a4cb2b8469bd85",
   "execution_count": 152
  },
  {
   "cell_type": "markdown",
   "source": [
    "# Sorting/Describing Data"
   ],
   "metadata": {
    "collapsed": false
   },
   "id": "531dbfbbaf9afbf3"
  },
  {
   "cell_type": "code",
   "outputs": [
    {
     "data": {
      "text/plain": "                #          HP      Attack     Defense     Sp. Atk     Sp. Def  \\\ncount  800.000000  800.000000  800.000000  800.000000  800.000000  800.000000   \nmean   362.813750   69.258750   79.001250   73.842500   72.820000   71.902500   \nstd    208.343798   25.534669   32.457366   31.183501   32.722294   27.828916   \nmin      1.000000    1.000000    5.000000    5.000000   10.000000   20.000000   \n25%    184.750000   50.000000   55.000000   50.000000   49.750000   50.000000   \n50%    364.500000   65.000000   75.000000   70.000000   65.000000   70.000000   \n75%    539.250000   80.000000  100.000000   90.000000   95.000000   90.000000   \nmax    721.000000  255.000000  190.000000  230.000000  194.000000  230.000000   \n\n            Speed  Generation  \ncount  800.000000   800.00000  \nmean    68.277500     3.32375  \nstd     29.060474     1.66129  \nmin      5.000000     1.00000  \n25%     45.000000     2.00000  \n50%     65.000000     3.00000  \n75%     90.000000     5.00000  \nmax    180.000000     6.00000  ",
      "text/html": "<div>\n<style scoped>\n    .dataframe tbody tr th:only-of-type {\n        vertical-align: middle;\n    }\n\n    .dataframe tbody tr th {\n        vertical-align: top;\n    }\n\n    .dataframe thead th {\n        text-align: right;\n    }\n</style>\n<table border=\"1\" class=\"dataframe\">\n  <thead>\n    <tr style=\"text-align: right;\">\n      <th></th>\n      <th>#</th>\n      <th>HP</th>\n      <th>Attack</th>\n      <th>Defense</th>\n      <th>Sp. Atk</th>\n      <th>Sp. Def</th>\n      <th>Speed</th>\n      <th>Generation</th>\n    </tr>\n  </thead>\n  <tbody>\n    <tr>\n      <th>count</th>\n      <td>800.000000</td>\n      <td>800.000000</td>\n      <td>800.000000</td>\n      <td>800.000000</td>\n      <td>800.000000</td>\n      <td>800.000000</td>\n      <td>800.000000</td>\n      <td>800.00000</td>\n    </tr>\n    <tr>\n      <th>mean</th>\n      <td>362.813750</td>\n      <td>69.258750</td>\n      <td>79.001250</td>\n      <td>73.842500</td>\n      <td>72.820000</td>\n      <td>71.902500</td>\n      <td>68.277500</td>\n      <td>3.32375</td>\n    </tr>\n    <tr>\n      <th>std</th>\n      <td>208.343798</td>\n      <td>25.534669</td>\n      <td>32.457366</td>\n      <td>31.183501</td>\n      <td>32.722294</td>\n      <td>27.828916</td>\n      <td>29.060474</td>\n      <td>1.66129</td>\n    </tr>\n    <tr>\n      <th>min</th>\n      <td>1.000000</td>\n      <td>1.000000</td>\n      <td>5.000000</td>\n      <td>5.000000</td>\n      <td>10.000000</td>\n      <td>20.000000</td>\n      <td>5.000000</td>\n      <td>1.00000</td>\n    </tr>\n    <tr>\n      <th>25%</th>\n      <td>184.750000</td>\n      <td>50.000000</td>\n      <td>55.000000</td>\n      <td>50.000000</td>\n      <td>49.750000</td>\n      <td>50.000000</td>\n      <td>45.000000</td>\n      <td>2.00000</td>\n    </tr>\n    <tr>\n      <th>50%</th>\n      <td>364.500000</td>\n      <td>65.000000</td>\n      <td>75.000000</td>\n      <td>70.000000</td>\n      <td>65.000000</td>\n      <td>70.000000</td>\n      <td>65.000000</td>\n      <td>3.00000</td>\n    </tr>\n    <tr>\n      <th>75%</th>\n      <td>539.250000</td>\n      <td>80.000000</td>\n      <td>100.000000</td>\n      <td>90.000000</td>\n      <td>95.000000</td>\n      <td>90.000000</td>\n      <td>90.000000</td>\n      <td>5.00000</td>\n    </tr>\n    <tr>\n      <th>max</th>\n      <td>721.000000</td>\n      <td>255.000000</td>\n      <td>190.000000</td>\n      <td>230.000000</td>\n      <td>194.000000</td>\n      <td>230.000000</td>\n      <td>180.000000</td>\n      <td>6.00000</td>\n    </tr>\n  </tbody>\n</table>\n</div>"
     },
     "execution_count": 153,
     "metadata": {},
     "output_type": "execute_result"
    }
   ],
   "source": [
    "# describe is a method that gives you some statistics about the data\n",
    "df.describe()"
   ],
   "metadata": {
    "collapsed": false,
    "ExecuteTime": {
     "end_time": "2024-01-27T13:53:02.895365648Z",
     "start_time": "2024-01-27T13:53:02.848561972Z"
    }
   },
   "id": "d9639e9e57b6d43a",
   "execution_count": 153
  },
  {
   "cell_type": "code",
   "outputs": [
    {
     "data": {
      "text/plain": "       #                     Name Type 1    Type 2  HP  Attack  Defense  \\\n139  129                 Magikarp  Water       NaN  20      10       55   \n381  349                   Feebas  Water       NaN  20      15       20   \n97    90                 Shellder  Water       NaN  30      65      100   \n106   98                   Krabby  Water       NaN  30     105       90   \n125  116                   Horsea  Water       NaN  30      40       70   \n..   ...                      ...    ...       ...  ..     ...      ...   \n232  214  HeracrossMega Heracross    Bug  Fighting  80     185      115   \n678  617                 Accelgor    Bug       NaN  80      70       40   \n734  666                 Vivillon    Bug    Flying  80      52       50   \n698  637                Volcarona    Bug      Fire  85      60       65   \n520  469                  Yanmega    Bug    Flying  86      76       86   \n\n     Sp. Atk  Sp. Def  Speed  Generation  Legendary  \n139       15       20     80           1      False  \n381       10       55     80           3      False  \n97        45       25     40           1      False  \n106       25       25     50           1      False  \n125       70       25     60           1      False  \n..       ...      ...    ...         ...        ...  \n232       40      105     75           2      False  \n678      100       60    145           5      False  \n734       90       50     89           6      False  \n698      135      105    100           5      False  \n520      116       56     95           4      False  \n\n[800 rows x 12 columns]",
      "text/html": "<div>\n<style scoped>\n    .dataframe tbody tr th:only-of-type {\n        vertical-align: middle;\n    }\n\n    .dataframe tbody tr th {\n        vertical-align: top;\n    }\n\n    .dataframe thead th {\n        text-align: right;\n    }\n</style>\n<table border=\"1\" class=\"dataframe\">\n  <thead>\n    <tr style=\"text-align: right;\">\n      <th></th>\n      <th>#</th>\n      <th>Name</th>\n      <th>Type 1</th>\n      <th>Type 2</th>\n      <th>HP</th>\n      <th>Attack</th>\n      <th>Defense</th>\n      <th>Sp. Atk</th>\n      <th>Sp. Def</th>\n      <th>Speed</th>\n      <th>Generation</th>\n      <th>Legendary</th>\n    </tr>\n  </thead>\n  <tbody>\n    <tr>\n      <th>139</th>\n      <td>129</td>\n      <td>Magikarp</td>\n      <td>Water</td>\n      <td>NaN</td>\n      <td>20</td>\n      <td>10</td>\n      <td>55</td>\n      <td>15</td>\n      <td>20</td>\n      <td>80</td>\n      <td>1</td>\n      <td>False</td>\n    </tr>\n    <tr>\n      <th>381</th>\n      <td>349</td>\n      <td>Feebas</td>\n      <td>Water</td>\n      <td>NaN</td>\n      <td>20</td>\n      <td>15</td>\n      <td>20</td>\n      <td>10</td>\n      <td>55</td>\n      <td>80</td>\n      <td>3</td>\n      <td>False</td>\n    </tr>\n    <tr>\n      <th>97</th>\n      <td>90</td>\n      <td>Shellder</td>\n      <td>Water</td>\n      <td>NaN</td>\n      <td>30</td>\n      <td>65</td>\n      <td>100</td>\n      <td>45</td>\n      <td>25</td>\n      <td>40</td>\n      <td>1</td>\n      <td>False</td>\n    </tr>\n    <tr>\n      <th>106</th>\n      <td>98</td>\n      <td>Krabby</td>\n      <td>Water</td>\n      <td>NaN</td>\n      <td>30</td>\n      <td>105</td>\n      <td>90</td>\n      <td>25</td>\n      <td>25</td>\n      <td>50</td>\n      <td>1</td>\n      <td>False</td>\n    </tr>\n    <tr>\n      <th>125</th>\n      <td>116</td>\n      <td>Horsea</td>\n      <td>Water</td>\n      <td>NaN</td>\n      <td>30</td>\n      <td>40</td>\n      <td>70</td>\n      <td>70</td>\n      <td>25</td>\n      <td>60</td>\n      <td>1</td>\n      <td>False</td>\n    </tr>\n    <tr>\n      <th>...</th>\n      <td>...</td>\n      <td>...</td>\n      <td>...</td>\n      <td>...</td>\n      <td>...</td>\n      <td>...</td>\n      <td>...</td>\n      <td>...</td>\n      <td>...</td>\n      <td>...</td>\n      <td>...</td>\n      <td>...</td>\n    </tr>\n    <tr>\n      <th>232</th>\n      <td>214</td>\n      <td>HeracrossMega Heracross</td>\n      <td>Bug</td>\n      <td>Fighting</td>\n      <td>80</td>\n      <td>185</td>\n      <td>115</td>\n      <td>40</td>\n      <td>105</td>\n      <td>75</td>\n      <td>2</td>\n      <td>False</td>\n    </tr>\n    <tr>\n      <th>678</th>\n      <td>617</td>\n      <td>Accelgor</td>\n      <td>Bug</td>\n      <td>NaN</td>\n      <td>80</td>\n      <td>70</td>\n      <td>40</td>\n      <td>100</td>\n      <td>60</td>\n      <td>145</td>\n      <td>5</td>\n      <td>False</td>\n    </tr>\n    <tr>\n      <th>734</th>\n      <td>666</td>\n      <td>Vivillon</td>\n      <td>Bug</td>\n      <td>Flying</td>\n      <td>80</td>\n      <td>52</td>\n      <td>50</td>\n      <td>90</td>\n      <td>50</td>\n      <td>89</td>\n      <td>6</td>\n      <td>False</td>\n    </tr>\n    <tr>\n      <th>698</th>\n      <td>637</td>\n      <td>Volcarona</td>\n      <td>Bug</td>\n      <td>Fire</td>\n      <td>85</td>\n      <td>60</td>\n      <td>65</td>\n      <td>135</td>\n      <td>105</td>\n      <td>100</td>\n      <td>5</td>\n      <td>False</td>\n    </tr>\n    <tr>\n      <th>520</th>\n      <td>469</td>\n      <td>Yanmega</td>\n      <td>Bug</td>\n      <td>Flying</td>\n      <td>86</td>\n      <td>76</td>\n      <td>86</td>\n      <td>116</td>\n      <td>56</td>\n      <td>95</td>\n      <td>4</td>\n      <td>False</td>\n    </tr>\n  </tbody>\n</table>\n<p>800 rows × 12 columns</p>\n</div>"
     },
     "execution_count": 154,
     "metadata": {},
     "output_type": "execute_result"
    }
   ],
   "source": [
    "# sorting the data frame due to some column/columns descending\n",
    "# This will result in a DataFrame where rows are sorted primarily by 'Type 1' in descending order and, within each 'Type 1' group, the rows are sorted by 'HP' in ascending order.\n",
    "df.sort_values(['Type 1', 'HP'], ascending=[0,1])"
   ],
   "metadata": {
    "collapsed": false,
    "ExecuteTime": {
     "end_time": "2024-01-27T13:53:04.287131289Z",
     "start_time": "2024-01-27T13:53:04.240921943Z"
    }
   },
   "id": "60ef82e575cb06c7",
   "execution_count": 154
  },
  {
   "cell_type": "markdown",
   "source": [
    "# Making Changes to the data "
   ],
   "metadata": {
    "collapsed": false
   },
   "id": "fde0f59ee35a4fa5"
  },
  {
   "cell_type": "code",
   "outputs": [
    {
     "data": {
      "text/plain": "   #                   Name Type 1  Type 2  HP  Attack  Defense  Sp. Atk  \\\n0  1              Bulbasaur  Grass  Poison  45      49       49       65   \n1  2                Ivysaur  Grass  Poison  60      62       63       80   \n2  3               Venusaur  Grass  Poison  80      82       83      100   \n3  3  VenusaurMega Venusaur  Grass  Poison  80     100      123      122   \n4  4             Charmander   Fire     NaN  39      52       43       60   \n\n   Sp. Def  Speed  Generation  Legendary  Total  \n0       65     45           1      False    318  \n1       80     60           1      False    405  \n2      100     80           1      False    525  \n3      120     80           1      False    625  \n4       50     65           1      False    309  ",
      "text/html": "<div>\n<style scoped>\n    .dataframe tbody tr th:only-of-type {\n        vertical-align: middle;\n    }\n\n    .dataframe tbody tr th {\n        vertical-align: top;\n    }\n\n    .dataframe thead th {\n        text-align: right;\n    }\n</style>\n<table border=\"1\" class=\"dataframe\">\n  <thead>\n    <tr style=\"text-align: right;\">\n      <th></th>\n      <th>#</th>\n      <th>Name</th>\n      <th>Type 1</th>\n      <th>Type 2</th>\n      <th>HP</th>\n      <th>Attack</th>\n      <th>Defense</th>\n      <th>Sp. Atk</th>\n      <th>Sp. Def</th>\n      <th>Speed</th>\n      <th>Generation</th>\n      <th>Legendary</th>\n      <th>Total</th>\n    </tr>\n  </thead>\n  <tbody>\n    <tr>\n      <th>0</th>\n      <td>1</td>\n      <td>Bulbasaur</td>\n      <td>Grass</td>\n      <td>Poison</td>\n      <td>45</td>\n      <td>49</td>\n      <td>49</td>\n      <td>65</td>\n      <td>65</td>\n      <td>45</td>\n      <td>1</td>\n      <td>False</td>\n      <td>318</td>\n    </tr>\n    <tr>\n      <th>1</th>\n      <td>2</td>\n      <td>Ivysaur</td>\n      <td>Grass</td>\n      <td>Poison</td>\n      <td>60</td>\n      <td>62</td>\n      <td>63</td>\n      <td>80</td>\n      <td>80</td>\n      <td>60</td>\n      <td>1</td>\n      <td>False</td>\n      <td>405</td>\n    </tr>\n    <tr>\n      <th>2</th>\n      <td>3</td>\n      <td>Venusaur</td>\n      <td>Grass</td>\n      <td>Poison</td>\n      <td>80</td>\n      <td>82</td>\n      <td>83</td>\n      <td>100</td>\n      <td>100</td>\n      <td>80</td>\n      <td>1</td>\n      <td>False</td>\n      <td>525</td>\n    </tr>\n    <tr>\n      <th>3</th>\n      <td>3</td>\n      <td>VenusaurMega Venusaur</td>\n      <td>Grass</td>\n      <td>Poison</td>\n      <td>80</td>\n      <td>100</td>\n      <td>123</td>\n      <td>122</td>\n      <td>120</td>\n      <td>80</td>\n      <td>1</td>\n      <td>False</td>\n      <td>625</td>\n    </tr>\n    <tr>\n      <th>4</th>\n      <td>4</td>\n      <td>Charmander</td>\n      <td>Fire</td>\n      <td>NaN</td>\n      <td>39</td>\n      <td>52</td>\n      <td>43</td>\n      <td>60</td>\n      <td>50</td>\n      <td>65</td>\n      <td>1</td>\n      <td>False</td>\n      <td>309</td>\n    </tr>\n  </tbody>\n</table>\n</div>"
     },
     "execution_count": 155,
     "metadata": {},
     "output_type": "execute_result"
    }
   ],
   "source": [
    "# Adding a column\n",
    "# df['Total'] = df['HP'] + df['Attack'] + df['Defense'] + df['Sp. Atk'] + df['Sp. Def'] + df['Speed']\n",
    "\n",
    "df['Total'] = df.iloc[:, 4:10].sum(axis=1)\n",
    "\n",
    "# df.iloc[:, 4:10]: This selects a subset of the DataFrame, including all rows (:) and columns 4 through 9 (indexing starts from 0).\n",
    "# .sum(axis=1): This calculates the sum along each row (axis=1). So, for each row, the values in columns 4 through 9 are summed up, and the result is stored in the 'Total' column.\n",
    "\n",
    "df.head()"
   ],
   "metadata": {
    "collapsed": false,
    "ExecuteTime": {
     "end_time": "2024-01-27T13:53:06.400277798Z",
     "start_time": "2024-01-27T13:53:06.389780673Z"
    }
   },
   "id": "b04712202edc7e85",
   "execution_count": 155
  },
  {
   "cell_type": "code",
   "outputs": [
    {
     "data": {
      "text/plain": "   #                   Name Type 1  Type 2  HP  Attack  Defense  Sp. Atk  \\\n0  1              Bulbasaur  Grass  Poison  45      49       49       65   \n1  2                Ivysaur  Grass  Poison  60      62       63       80   \n2  3               Venusaur  Grass  Poison  80      82       83      100   \n3  3  VenusaurMega Venusaur  Grass  Poison  80     100      123      122   \n4  4             Charmander   Fire     NaN  39      52       43       60   \n\n   Sp. Def  Speed  Generation  Legendary  \n0       65     45           1      False  \n1       80     60           1      False  \n2      100     80           1      False  \n3      120     80           1      False  \n4       50     65           1      False  ",
      "text/html": "<div>\n<style scoped>\n    .dataframe tbody tr th:only-of-type {\n        vertical-align: middle;\n    }\n\n    .dataframe tbody tr th {\n        vertical-align: top;\n    }\n\n    .dataframe thead th {\n        text-align: right;\n    }\n</style>\n<table border=\"1\" class=\"dataframe\">\n  <thead>\n    <tr style=\"text-align: right;\">\n      <th></th>\n      <th>#</th>\n      <th>Name</th>\n      <th>Type 1</th>\n      <th>Type 2</th>\n      <th>HP</th>\n      <th>Attack</th>\n      <th>Defense</th>\n      <th>Sp. Atk</th>\n      <th>Sp. Def</th>\n      <th>Speed</th>\n      <th>Generation</th>\n      <th>Legendary</th>\n    </tr>\n  </thead>\n  <tbody>\n    <tr>\n      <th>0</th>\n      <td>1</td>\n      <td>Bulbasaur</td>\n      <td>Grass</td>\n      <td>Poison</td>\n      <td>45</td>\n      <td>49</td>\n      <td>49</td>\n      <td>65</td>\n      <td>65</td>\n      <td>45</td>\n      <td>1</td>\n      <td>False</td>\n    </tr>\n    <tr>\n      <th>1</th>\n      <td>2</td>\n      <td>Ivysaur</td>\n      <td>Grass</td>\n      <td>Poison</td>\n      <td>60</td>\n      <td>62</td>\n      <td>63</td>\n      <td>80</td>\n      <td>80</td>\n      <td>60</td>\n      <td>1</td>\n      <td>False</td>\n    </tr>\n    <tr>\n      <th>2</th>\n      <td>3</td>\n      <td>Venusaur</td>\n      <td>Grass</td>\n      <td>Poison</td>\n      <td>80</td>\n      <td>82</td>\n      <td>83</td>\n      <td>100</td>\n      <td>100</td>\n      <td>80</td>\n      <td>1</td>\n      <td>False</td>\n    </tr>\n    <tr>\n      <th>3</th>\n      <td>3</td>\n      <td>VenusaurMega Venusaur</td>\n      <td>Grass</td>\n      <td>Poison</td>\n      <td>80</td>\n      <td>100</td>\n      <td>123</td>\n      <td>122</td>\n      <td>120</td>\n      <td>80</td>\n      <td>1</td>\n      <td>False</td>\n    </tr>\n    <tr>\n      <th>4</th>\n      <td>4</td>\n      <td>Charmander</td>\n      <td>Fire</td>\n      <td>NaN</td>\n      <td>39</td>\n      <td>52</td>\n      <td>43</td>\n      <td>60</td>\n      <td>50</td>\n      <td>65</td>\n      <td>1</td>\n      <td>False</td>\n    </tr>\n  </tbody>\n</table>\n</div>"
     },
     "execution_count": 34,
     "metadata": {},
     "output_type": "execute_result"
    }
   ],
   "source": [
    "# Dropping a column\n",
    "# df = df.drop(columns=['Total'])\n",
    "# df.head()"
   ],
   "metadata": {
    "collapsed": false,
    "ExecuteTime": {
     "end_time": "2024-01-27T06:49:38.684179584Z",
     "start_time": "2024-01-27T06:49:38.675193375Z"
    }
   },
   "id": "8aa0660e8b541d3d",
   "execution_count": 34
  },
  {
   "cell_type": "code",
   "outputs": [
    {
     "data": {
      "text/plain": "   #                   Name Type 1  Type 2  Total  HP  Attack  Defense  \\\n0  1              Bulbasaur  Grass  Poison    318  45      49       49   \n1  2                Ivysaur  Grass  Poison    405  60      62       63   \n2  3               Venusaur  Grass  Poison    525  80      82       83   \n3  3  VenusaurMega Venusaur  Grass  Poison    625  80     100      123   \n4  4             Charmander   Fire     NaN    309  39      52       43   \n\n   Sp. Atk  Sp. Def  Speed  Generation  Legendary  \n0       65       65     45           1      False  \n1       80       80     60           1      False  \n2      100      100     80           1      False  \n3      122      120     80           1      False  \n4       60       50     65           1      False  ",
      "text/html": "<div>\n<style scoped>\n    .dataframe tbody tr th:only-of-type {\n        vertical-align: middle;\n    }\n\n    .dataframe tbody tr th {\n        vertical-align: top;\n    }\n\n    .dataframe thead th {\n        text-align: right;\n    }\n</style>\n<table border=\"1\" class=\"dataframe\">\n  <thead>\n    <tr style=\"text-align: right;\">\n      <th></th>\n      <th>#</th>\n      <th>Name</th>\n      <th>Type 1</th>\n      <th>Type 2</th>\n      <th>Total</th>\n      <th>HP</th>\n      <th>Attack</th>\n      <th>Defense</th>\n      <th>Sp. Atk</th>\n      <th>Sp. Def</th>\n      <th>Speed</th>\n      <th>Generation</th>\n      <th>Legendary</th>\n    </tr>\n  </thead>\n  <tbody>\n    <tr>\n      <th>0</th>\n      <td>1</td>\n      <td>Bulbasaur</td>\n      <td>Grass</td>\n      <td>Poison</td>\n      <td>318</td>\n      <td>45</td>\n      <td>49</td>\n      <td>49</td>\n      <td>65</td>\n      <td>65</td>\n      <td>45</td>\n      <td>1</td>\n      <td>False</td>\n    </tr>\n    <tr>\n      <th>1</th>\n      <td>2</td>\n      <td>Ivysaur</td>\n      <td>Grass</td>\n      <td>Poison</td>\n      <td>405</td>\n      <td>60</td>\n      <td>62</td>\n      <td>63</td>\n      <td>80</td>\n      <td>80</td>\n      <td>60</td>\n      <td>1</td>\n      <td>False</td>\n    </tr>\n    <tr>\n      <th>2</th>\n      <td>3</td>\n      <td>Venusaur</td>\n      <td>Grass</td>\n      <td>Poison</td>\n      <td>525</td>\n      <td>80</td>\n      <td>82</td>\n      <td>83</td>\n      <td>100</td>\n      <td>100</td>\n      <td>80</td>\n      <td>1</td>\n      <td>False</td>\n    </tr>\n    <tr>\n      <th>3</th>\n      <td>3</td>\n      <td>VenusaurMega Venusaur</td>\n      <td>Grass</td>\n      <td>Poison</td>\n      <td>625</td>\n      <td>80</td>\n      <td>100</td>\n      <td>123</td>\n      <td>122</td>\n      <td>120</td>\n      <td>80</td>\n      <td>1</td>\n      <td>False</td>\n    </tr>\n    <tr>\n      <th>4</th>\n      <td>4</td>\n      <td>Charmander</td>\n      <td>Fire</td>\n      <td>NaN</td>\n      <td>309</td>\n      <td>39</td>\n      <td>52</td>\n      <td>43</td>\n      <td>60</td>\n      <td>50</td>\n      <td>65</td>\n      <td>1</td>\n      <td>False</td>\n    </tr>\n  </tbody>\n</table>\n</div>"
     },
     "execution_count": 156,
     "metadata": {},
     "output_type": "execute_result"
    }
   ],
   "source": [
    "# # reordering the columns\n",
    "# cols = list(df.columns.values)\n",
    "# df = df[cols[0:4] + [cols[-1]] + cols[4:12]]\n",
    "# df.head()"
   ],
   "metadata": {
    "collapsed": false,
    "ExecuteTime": {
     "end_time": "2024-01-27T13:53:12.581500192Z",
     "start_time": "2024-01-27T13:53:12.572202871Z"
    }
   },
   "id": "2cec6d5a4e29c10a",
   "execution_count": 156
  },
  {
   "cell_type": "markdown",
   "source": [
    "# Saving our data"
   ],
   "metadata": {
    "collapsed": false
   },
   "id": "4f60bd93432b88c0"
  },
  {
   "cell_type": "code",
   "outputs": [],
   "source": [
    "# df.to_csv('modified.csv', index=False)\n",
    "# # index=False: This parameter specifies whether to write row names (index) to the CSV file. By setting index to False, you are indicating that you do not want to include the row index in the CSV file. If you omit this parameter or set it to True (the default), the row index will be included in the CSV file.\n",
    "# df.to_csv('modified.txt', index=False, sep='\\t')"
   ],
   "metadata": {
    "collapsed": false,
    "ExecuteTime": {
     "end_time": "2024-01-27T13:53:36.474518811Z",
     "start_time": "2024-01-27T13:53:36.434382194Z"
    }
   },
   "id": "3f9acd1a69a9627d",
   "execution_count": 157
  },
  {
   "cell_type": "markdown",
   "source": [
    "# Filtering Data"
   ],
   "metadata": {
    "collapsed": false
   },
   "id": "c00b205d0e83de18"
  },
  {
   "cell_type": "code",
   "outputs": [],
   "source": [
    "## Filtering data due to some condition #1\n",
    "# new_df = df.loc[(df['Type 1'] == 'Grass') & (df['Type 2'] == 'Poison') & (df['HP'] > 70)]\n",
    "\n",
    "## Filtering data due to some condition #2\n",
    "# df.loc[df['Name'].str.contains('Mega')]\n",
    "\n",
    "## Filtering data due to some condition #3\n",
    "# df.loc[~df['Name'].str.contains('Mega')]\n",
    "# ~ : negation"
   ],
   "metadata": {
    "collapsed": false
   },
   "id": "cded3a5eeeccb66c",
   "execution_count": 0
  },
  {
   "cell_type": "code",
   "outputs": [
    {
     "name": "stdout",
     "output_type": "stream",
     "text": [
      "     Name  Age\n",
      "0    John   25\n",
      "1   Alice   30\n",
      "2     Bob   22\n",
      "3   David   28\n",
      "4  Andrew   45\n",
      "================\n",
      "   Name  Age\n",
      "0  John   25\n",
      "2   Bob   22\n",
      "================\n",
      "     Name  Age\n",
      "1   Alice   30\n",
      "4  Andrew   45\n",
      "5   Ayman   22\n",
      "================\n"
     ]
    }
   ],
   "source": [
    "# Sample DataFrame\n",
    "data = {'Name': ['John', 'Alice', 'Bob', 'David', 'Andrew', 'Ayman'],\n",
    "        'Age': [25, 30, 22, 28, 45, 22]}\n",
    "data = pd.DataFrame(data)\n",
    "print (data.head(), end='\\n================\\n')\n",
    "\n",
    "# Check if 'Name' column contains the substring 'o'\n",
    "print(data.loc[data['Name'].str.contains('o')],end='\\n================\\n')\n",
    "# Regular expression to extract rows with name column begins with 'A'\n",
    "print(data[data['Name'].str.contains('A.', regex=True)],end='\\n================\\n')\n",
    "\n",
    "# pattern = r'a.c'  # Matches any character between 'a' and 'c'\n",
    "# pattern = r'^start'  # Matches if the string starts with 'start'\n",
    "# pattern = r'this$'  # Matches if the string ends with 'this'\n",
    "# pattern = r'[aeiou]'  # Matches any vowel\n",
    "# pattern = r'a*'  # Matches zero or more occurrences of 'a'"
   ],
   "metadata": {
    "collapsed": false,
    "ExecuteTime": {
     "end_time": "2024-01-27T11:30:27.885871979Z",
     "start_time": "2024-01-27T11:30:27.875400869Z"
    }
   },
   "id": "92383c8bfc096927",
   "execution_count": 92
  },
  {
   "cell_type": "code",
   "outputs": [
    {
     "data": {
      "text/plain": "     #                   Name Type 1  Type 2  Legendary  Total   HP  Attack  \\\n0    3               Venusaur  Grass  Poison      False    525   80      82   \n1    3  VenusaurMega Venusaur  Grass  Poison      False    625   80     100   \n2   45              Vileplume  Grass  Poison      False    490   75      80   \n3   71             Victreebel  Grass  Poison      False    490   80     105   \n4  591              Amoonguss  Grass  Poison      False    464  114      85   \n\n   Defense  Sp. Atk  Sp. Def  Speed  Generation  \n0       83      100      100     80           1  \n1      123      122      120     80           1  \n2       85      110       90     50           1  \n3       65      100       70     70           1  \n4       70       85       80     30           5  ",
      "text/html": "<div>\n<style scoped>\n    .dataframe tbody tr th:only-of-type {\n        vertical-align: middle;\n    }\n\n    .dataframe tbody tr th {\n        vertical-align: top;\n    }\n\n    .dataframe thead th {\n        text-align: right;\n    }\n</style>\n<table border=\"1\" class=\"dataframe\">\n  <thead>\n    <tr style=\"text-align: right;\">\n      <th></th>\n      <th>#</th>\n      <th>Name</th>\n      <th>Type 1</th>\n      <th>Type 2</th>\n      <th>Legendary</th>\n      <th>Total</th>\n      <th>HP</th>\n      <th>Attack</th>\n      <th>Defense</th>\n      <th>Sp. Atk</th>\n      <th>Sp. Def</th>\n      <th>Speed</th>\n      <th>Generation</th>\n    </tr>\n  </thead>\n  <tbody>\n    <tr>\n      <th>0</th>\n      <td>3</td>\n      <td>Venusaur</td>\n      <td>Grass</td>\n      <td>Poison</td>\n      <td>False</td>\n      <td>525</td>\n      <td>80</td>\n      <td>82</td>\n      <td>83</td>\n      <td>100</td>\n      <td>100</td>\n      <td>80</td>\n      <td>1</td>\n    </tr>\n    <tr>\n      <th>1</th>\n      <td>3</td>\n      <td>VenusaurMega Venusaur</td>\n      <td>Grass</td>\n      <td>Poison</td>\n      <td>False</td>\n      <td>625</td>\n      <td>80</td>\n      <td>100</td>\n      <td>123</td>\n      <td>122</td>\n      <td>120</td>\n      <td>80</td>\n      <td>1</td>\n    </tr>\n    <tr>\n      <th>2</th>\n      <td>45</td>\n      <td>Vileplume</td>\n      <td>Grass</td>\n      <td>Poison</td>\n      <td>False</td>\n      <td>490</td>\n      <td>75</td>\n      <td>80</td>\n      <td>85</td>\n      <td>110</td>\n      <td>90</td>\n      <td>50</td>\n      <td>1</td>\n    </tr>\n    <tr>\n      <th>3</th>\n      <td>71</td>\n      <td>Victreebel</td>\n      <td>Grass</td>\n      <td>Poison</td>\n      <td>False</td>\n      <td>490</td>\n      <td>80</td>\n      <td>105</td>\n      <td>65</td>\n      <td>100</td>\n      <td>70</td>\n      <td>70</td>\n      <td>1</td>\n    </tr>\n    <tr>\n      <th>4</th>\n      <td>591</td>\n      <td>Amoonguss</td>\n      <td>Grass</td>\n      <td>Poison</td>\n      <td>False</td>\n      <td>464</td>\n      <td>114</td>\n      <td>85</td>\n      <td>70</td>\n      <td>85</td>\n      <td>80</td>\n      <td>30</td>\n      <td>5</td>\n    </tr>\n  </tbody>\n</table>\n</div>"
     },
     "execution_count": 65,
     "metadata": {},
     "output_type": "execute_result"
    }
   ],
   "source": [
    "# Resetting index\n",
    "\n",
    "# new_df = new_df.reset_index(drop=True)\n",
    "# new_df.reset_index(drop=True, inplace=True)\n",
    "# new_df\n",
    "\n",
    "# drop=True: This parameter is set to True, indicating that the existing index column should be removed after resetting the index. If drop is False or not specified, the existing index will become a new column in the DataFrame.\n",
    "# \n",
    "# inplace=True: This parameter modifies the DataFrame in place, meaning the changes are applied directly to the original DataFrame without the need to assign it back to a variable. If inplace is False or not specified, a new DataFrame with the reset index is returned, and you need to assign it back to a variable if you want to keep the changes."
   ],
   "metadata": {
    "collapsed": false,
    "ExecuteTime": {
     "end_time": "2024-01-27T09:27:55.106578942Z",
     "start_time": "2024-01-27T09:27:55.103006820Z"
    }
   },
   "id": "4462f4f19d6a3fac",
   "execution_count": 65
  },
  {
   "cell_type": "code",
   "outputs": [
    {
     "data": {
      "text/plain": "       #                 Name    Type 1    Type 2  Legendary  Total   HP  \\\n20    16               Pidgey    Normal    Flying      False    251   40   \n21    17            Pidgeotto    Normal    Flying      False    349   63   \n22    18              Pidgeot    Normal    Flying      False    479   83   \n23    18  PidgeotMega Pidgeot    Normal    Flying      False    579   83   \n30    25              Pikachu  Electric       NaN      False    320   35   \n136  127               Pinsir       Bug       NaN      False    500   65   \n137  127    PinsirMega Pinsir       Bug    Flying      False    600   65   \n186  172                Pichu  Electric       NaN      False    205   20   \n219  204               Pineco       Bug       NaN      False    290   50   \n239  221            Piloswine       Ice    Ground      False    450  100   \n438  393               Piplup     Water       NaN      False    314   53   \n558  499              Pignite      Fire  Fighting      False    418   90   \n578  519               Pidove    Normal    Flying      False    264   50   \n\n     Attack  Defense  Sp. Atk  Sp. Def  Speed  Generation  \n20       45       40       35       35     56           1  \n21       60       55       50       50     71           1  \n22       80       75       70       70    101           1  \n23       80       80      135       80    121           1  \n30       55       40       50       50     90           1  \n136     125      100       55       70     85           1  \n137     155      120       65       90    105           1  \n186      40       15       35       35     60           2  \n219      65       90       35       35     15           2  \n239     100       80       60       60     50           2  \n438      51       53       61       56     40           4  \n558      93       55       70       55     55           5  \n578      55       50       36       30     43           5  ",
      "text/html": "<div>\n<style scoped>\n    .dataframe tbody tr th:only-of-type {\n        vertical-align: middle;\n    }\n\n    .dataframe tbody tr th {\n        vertical-align: top;\n    }\n\n    .dataframe thead th {\n        text-align: right;\n    }\n</style>\n<table border=\"1\" class=\"dataframe\">\n  <thead>\n    <tr style=\"text-align: right;\">\n      <th></th>\n      <th>#</th>\n      <th>Name</th>\n      <th>Type 1</th>\n      <th>Type 2</th>\n      <th>Legendary</th>\n      <th>Total</th>\n      <th>HP</th>\n      <th>Attack</th>\n      <th>Defense</th>\n      <th>Sp. Atk</th>\n      <th>Sp. Def</th>\n      <th>Speed</th>\n      <th>Generation</th>\n    </tr>\n  </thead>\n  <tbody>\n    <tr>\n      <th>20</th>\n      <td>16</td>\n      <td>Pidgey</td>\n      <td>Normal</td>\n      <td>Flying</td>\n      <td>False</td>\n      <td>251</td>\n      <td>40</td>\n      <td>45</td>\n      <td>40</td>\n      <td>35</td>\n      <td>35</td>\n      <td>56</td>\n      <td>1</td>\n    </tr>\n    <tr>\n      <th>21</th>\n      <td>17</td>\n      <td>Pidgeotto</td>\n      <td>Normal</td>\n      <td>Flying</td>\n      <td>False</td>\n      <td>349</td>\n      <td>63</td>\n      <td>60</td>\n      <td>55</td>\n      <td>50</td>\n      <td>50</td>\n      <td>71</td>\n      <td>1</td>\n    </tr>\n    <tr>\n      <th>22</th>\n      <td>18</td>\n      <td>Pidgeot</td>\n      <td>Normal</td>\n      <td>Flying</td>\n      <td>False</td>\n      <td>479</td>\n      <td>83</td>\n      <td>80</td>\n      <td>75</td>\n      <td>70</td>\n      <td>70</td>\n      <td>101</td>\n      <td>1</td>\n    </tr>\n    <tr>\n      <th>23</th>\n      <td>18</td>\n      <td>PidgeotMega Pidgeot</td>\n      <td>Normal</td>\n      <td>Flying</td>\n      <td>False</td>\n      <td>579</td>\n      <td>83</td>\n      <td>80</td>\n      <td>80</td>\n      <td>135</td>\n      <td>80</td>\n      <td>121</td>\n      <td>1</td>\n    </tr>\n    <tr>\n      <th>30</th>\n      <td>25</td>\n      <td>Pikachu</td>\n      <td>Electric</td>\n      <td>NaN</td>\n      <td>False</td>\n      <td>320</td>\n      <td>35</td>\n      <td>55</td>\n      <td>40</td>\n      <td>50</td>\n      <td>50</td>\n      <td>90</td>\n      <td>1</td>\n    </tr>\n    <tr>\n      <th>136</th>\n      <td>127</td>\n      <td>Pinsir</td>\n      <td>Bug</td>\n      <td>NaN</td>\n      <td>False</td>\n      <td>500</td>\n      <td>65</td>\n      <td>125</td>\n      <td>100</td>\n      <td>55</td>\n      <td>70</td>\n      <td>85</td>\n      <td>1</td>\n    </tr>\n    <tr>\n      <th>137</th>\n      <td>127</td>\n      <td>PinsirMega Pinsir</td>\n      <td>Bug</td>\n      <td>Flying</td>\n      <td>False</td>\n      <td>600</td>\n      <td>65</td>\n      <td>155</td>\n      <td>120</td>\n      <td>65</td>\n      <td>90</td>\n      <td>105</td>\n      <td>1</td>\n    </tr>\n    <tr>\n      <th>186</th>\n      <td>172</td>\n      <td>Pichu</td>\n      <td>Electric</td>\n      <td>NaN</td>\n      <td>False</td>\n      <td>205</td>\n      <td>20</td>\n      <td>40</td>\n      <td>15</td>\n      <td>35</td>\n      <td>35</td>\n      <td>60</td>\n      <td>2</td>\n    </tr>\n    <tr>\n      <th>219</th>\n      <td>204</td>\n      <td>Pineco</td>\n      <td>Bug</td>\n      <td>NaN</td>\n      <td>False</td>\n      <td>290</td>\n      <td>50</td>\n      <td>65</td>\n      <td>90</td>\n      <td>35</td>\n      <td>35</td>\n      <td>15</td>\n      <td>2</td>\n    </tr>\n    <tr>\n      <th>239</th>\n      <td>221</td>\n      <td>Piloswine</td>\n      <td>Ice</td>\n      <td>Ground</td>\n      <td>False</td>\n      <td>450</td>\n      <td>100</td>\n      <td>100</td>\n      <td>80</td>\n      <td>60</td>\n      <td>60</td>\n      <td>50</td>\n      <td>2</td>\n    </tr>\n    <tr>\n      <th>438</th>\n      <td>393</td>\n      <td>Piplup</td>\n      <td>Water</td>\n      <td>NaN</td>\n      <td>False</td>\n      <td>314</td>\n      <td>53</td>\n      <td>51</td>\n      <td>53</td>\n      <td>61</td>\n      <td>56</td>\n      <td>40</td>\n      <td>4</td>\n    </tr>\n    <tr>\n      <th>558</th>\n      <td>499</td>\n      <td>Pignite</td>\n      <td>Fire</td>\n      <td>Fighting</td>\n      <td>False</td>\n      <td>418</td>\n      <td>90</td>\n      <td>93</td>\n      <td>55</td>\n      <td>70</td>\n      <td>55</td>\n      <td>55</td>\n      <td>5</td>\n    </tr>\n    <tr>\n      <th>578</th>\n      <td>519</td>\n      <td>Pidove</td>\n      <td>Normal</td>\n      <td>Flying</td>\n      <td>False</td>\n      <td>264</td>\n      <td>50</td>\n      <td>55</td>\n      <td>50</td>\n      <td>36</td>\n      <td>30</td>\n      <td>43</td>\n      <td>5</td>\n    </tr>\n  </tbody>\n</table>\n</div>"
     },
     "execution_count": 95,
     "metadata": {},
     "output_type": "execute_result"
    }
   ],
   "source": [
    "## Regular Expressions\n",
    "import re\n",
    "# df.loc[df['Type 1'].str.contains('Fire|Grass', regex=True)]\n",
    "# df.loc[df['Type 1'].str.contains('fire|grass', flags=re.I, regex=True)]\n",
    "df.loc[df['Name'].str.contains('^pi.', flags=re.I, regex=True)]\n",
    "\n",
    "## save data to a file.csv\n",
    "# new_df.to_csv('filtered.csv')"
   ],
   "metadata": {
    "collapsed": false,
    "ExecuteTime": {
     "end_time": "2024-01-27T11:37:41.700275508Z",
     "start_time": "2024-01-27T11:37:41.658723498Z"
    }
   },
   "id": "3e3bf03254796cf4",
   "execution_count": 95
  },
  {
   "cell_type": "markdown",
   "source": [
    "**Difference between `iloc` and `loc`** \n",
    "\n",
    "`iloc` (Integer Location):\n",
    "`iloc` is primarily integer-based indexing. It is used when you want to select rows and columns by their integer positions.\n",
    "The syntax for `iloc` is `df.iloc[row_indices, column_indices]`, where row_indices and column_indices are integer-based indexers.\n",
    "\n",
    "`loc` (Label Location):\n",
    "`loc` is label-based indexing. It is used when you want to select rows and columns based on their labels (row and column names).\n",
    "The syntax for `loc` is `df.loc[row_labels, column_labels]`, where row_labels and column_labels are label-based indexers."
   ],
   "metadata": {
    "collapsed": false
   },
   "id": "e3d31558ccfd423c"
  },
  {
   "cell_type": "markdown",
   "source": [
    "# Conditional Changes"
   ],
   "metadata": {
    "collapsed": false
   },
   "id": "a990744b40ec9b35"
  },
  {
   "cell_type": "code",
   "outputs": [
    {
     "name": "stdout",
     "output_type": "stream",
     "text": [
      "   #                       Name Type 1  Type 2  Legendary  Total  HP  Attack  \\\n",
      "4  4                 Charmander   Fire     NaN      False    309  39      52   \n",
      "5  5                 Charmeleon   Fire     NaN      False    405  58      64   \n",
      "6  6                  Charizard   Fire  Flying      False    534  78      84   \n",
      "7  6  CharizardMega Charizard X   Fire  Dragon      False    634  78     130   \n",
      "8  6  CharizardMega Charizard Y   Fire  Flying      False    634  78     104   \n",
      "\n",
      "   Defense  Sp. Atk  Sp. Def  Speed  Generation  \n",
      "4       43       60       50     65           1  \n",
      "5       58       80       65     80           1  \n",
      "6       78      109       85    100           1  \n",
      "7      111      130       85    100           1  \n",
      "8       78      159      115    100           1  \n",
      "==================\n",
      "   #                       Name  Type 1  Type 2  Legendary  Total  HP  Attack  \\\n",
      "4  4                 Charmander  Flamer     NaN      False    309  39      52   \n",
      "5  5                 Charmeleon  Flamer     NaN      False    405  58      64   \n",
      "6  6                  Charizard  Flamer  Flying      False    534  78      84   \n",
      "7  6  CharizardMega Charizard X  Flamer  Dragon      False    634  78     130   \n",
      "8  6  CharizardMega Charizard Y  Flamer  Flying      False    634  78     104   \n",
      "\n",
      "   Defense  Sp. Atk  Sp. Def  Speed  Generation  \n",
      "4       43       60       50     65           1  \n",
      "5       58       80       65     80           1  \n",
      "6       78      109       85    100           1  \n",
      "7      111      130       85    100           1  \n",
      "8       78      159      115    100           1  \n"
     ]
    }
   ],
   "source": [
    "df1 = df.loc[df['Type 1'] == 'Fire']\n",
    "df1.loc[df1['Type 1'] == 'Fire', 'Type 1'] = 'Flamer'\n",
    "print((df.loc[df['Type 1'] == 'Fire']).head(5), end='\\n==================\\n')\n",
    "print(df1.head(5))\n",
    "# the overall effect of this line of code is to replace any occurrence of 'Fire' in the 'Type 1' column with 'Flamer'. This is a common operation when you want to rename or recode certain values in a specific column based on a condition. After executing this line, the DataFrame df1 will be updated with the new values in the 'Type 1' column."
   ],
   "metadata": {
    "collapsed": false,
    "ExecuteTime": {
     "end_time": "2024-01-27T11:57:44.072101516Z",
     "start_time": "2024-01-27T11:57:44.030890744Z"
    }
   },
   "id": "6f2bf80da7a554ec",
   "execution_count": 106
  },
  {
   "cell_type": "code",
   "outputs": [
    {
     "data": {
      "text/plain": "       #                       Name  Type 1    Type 2 Legendary  Total   HP  \\\n4      4                 Charmander  Flamer       NaN     False    309   39   \n5      5                 Charmeleon  Flamer       NaN     False    405   58   \n6      6                  Charizard  Flamer    Flying    TEST 2    534   78   \n7      6  CharizardMega Charizard X  Flamer    Dragon    TEST 2    634   78   \n8      6  CharizardMega Charizard Y  Flamer    Flying    TEST 2    634   78   \n42    37                     Vulpix  Flamer       NaN     False    299   38   \n43    38                  Ninetales  Flamer       NaN    TEST 2    505   73   \n63    58                  Growlithe  Flamer       NaN     False    350   55   \n64    59                   Arcanine  Flamer       NaN    TEST 2    555   90   \n83    77                     Ponyta  Flamer       NaN     False    410   50   \n84    78                   Rapidash  Flamer       NaN     False    500   65   \n135  126                     Magmar  Flamer       NaN     False    495   65   \n147  136                    Flareon  Flamer       NaN    TEST 2    525   65   \n158  146                    Moltres  Flamer    Flying    TEST 2    580   90   \n169  155                  Cyndaquil  Flamer       NaN     False    309   39   \n170  156                    Quilava  Flamer       NaN     False    405   58   \n171  157                 Typhlosion  Flamer       NaN    TEST 2    534   78   \n236  218                     Slugma  Flamer       NaN     False    250   40   \n237  219                   Magcargo  Flamer      Rock     False    410   50   \n259  240                      Magby  Flamer       NaN     False    365   45   \n263  244                      Entei  Flamer       NaN    TEST 2    580  115   \n270  250                      Ho-oh  Flamer    Flying    TEST 2    680  106   \n276  255                    Torchic  Flamer       NaN     False    310   45   \n277  256                  Combusken  Flamer  Fighting     False    405   60   \n278  257                   Blaziken  Flamer  Fighting    TEST 2    530   80   \n279  257      BlazikenMega Blaziken  Flamer  Fighting    TEST 2    630   80   \n352  322                      Numel  Flamer    Ground     False    305   60   \n353  323                   Camerupt  Flamer    Ground     False    460   70   \n354  323      CameruptMega Camerupt  Flamer    Ground    TEST 2    560   70   \n355  324                    Torkoal  Flamer       NaN     False    470   70   \n435  390                   Chimchar  Flamer       NaN     False    309   44   \n436  391                   Monferno  Flamer  Fighting     False    405   64   \n437  392                  Infernape  Flamer  Fighting    TEST 2    534   76   \n518  467                  Magmortar  Flamer       NaN    TEST 2    540   75   \n542  485                    Heatran  Flamer     Steel    TEST 2    600   91   \n557  498                      Tepig  Flamer       NaN     False    308   65   \n558  499                    Pignite  Flamer  Fighting     False    418   90   \n559  500                     Emboar  Flamer  Fighting    TEST 2    528  110   \n572  513                    Pansear  Flamer       NaN     False    316   50   \n573  514                   Simisear  Flamer       NaN     False    498   75   \n614  554                   Darumaka  Flamer       NaN     False    315   70   \n615  555    DarmanitanStandard Mode  Flamer       NaN     False    480  105   \n616  555         DarmanitanZen Mode  Flamer   Psychic    TEST 2    540  105   \n692  631                    Heatmor  Flamer       NaN     False    484   85   \n721  653                   Fennekin  Flamer       NaN     False    307   40   \n722  654                    Braixen  Flamer       NaN     False    409   59   \n723  655                    Delphox  Flamer   Psychic    TEST 2    534   75   \n730  662                Fletchinder  Flamer    Flying     False    382   62   \n731  663                 Talonflame  Flamer    Flying     False    499   78   \n735  667                     Litleo  Flamer    Normal     False    369   62   \n736  668                     Pyroar  Flamer    Normal    TEST 2    507   86   \n799  721                  Volcanion  Flamer     Water    TEST 2    600   80   \n\n     Attack  Defense  Sp. Atk  Sp. Def  Speed Generation  \n4        52       43       60       50     65          1  \n5        64       58       80       65     80          1  \n6        84       78      109       85    100     TEST 1  \n7       130      111      130       85    100     TEST 1  \n8       104       78      159      115    100     TEST 1  \n42       41       40       50       65     65          1  \n43       76       75       81      100    100     TEST 1  \n63       70       45       70       50     60          1  \n64      110       80      100       80     95     TEST 1  \n83       85       55       65       65     90          1  \n84      100       70       80       80    105          1  \n135      95       57      100       85     93          1  \n147     130       60       95      110     65     TEST 1  \n158     100       90      125       85     90     TEST 1  \n169      52       43       60       50     65          2  \n170      64       58       80       65     80          2  \n171      84       78      109       85    100     TEST 1  \n236      40       40       70       40     20          2  \n237      50      120       80       80     30          2  \n259      75       37       70       55     83          2  \n263     115       85       90       75    100     TEST 1  \n270     130       90      110      154     90     TEST 1  \n276      60       40       70       50     45          3  \n277      85       60       85       60     55          3  \n278     120       70      110       70     80     TEST 1  \n279     160       80      130       80    100     TEST 1  \n352      60       40       65       45     35          3  \n353     100       70      105       75     40          3  \n354     120      100      145      105     20     TEST 1  \n355      85      140       85       70     20          3  \n435      58       44       58       44     61          4  \n436      78       52       78       52     81          4  \n437     104       71      104       71    108     TEST 1  \n518      95       67      125       95     83     TEST 1  \n542      90      106      130      106     77     TEST 1  \n557      63       45       45       45     45          5  \n558      93       55       70       55     55          5  \n559     123       65      100       65     65     TEST 1  \n572      53       48       53       48     64          5  \n573      98       63       98       63    101          5  \n614      90       45       15       45     50          5  \n615     140       55       30       55     95          5  \n616      30      105      140      105     55     TEST 1  \n692      97       66      105       66     65          5  \n721      45       40       62       60     60          6  \n722      59       58       90       70     73          6  \n723      69       72      114      100    104     TEST 1  \n730      73       55       56       52     84          6  \n731      81       71       74       69    126          6  \n735      50       58       73       54     72          6  \n736      68       72      109       66    106     TEST 1  \n799     110      120      130       90     70     TEST 1  ",
      "text/html": "<div>\n<style scoped>\n    .dataframe tbody tr th:only-of-type {\n        vertical-align: middle;\n    }\n\n    .dataframe tbody tr th {\n        vertical-align: top;\n    }\n\n    .dataframe thead th {\n        text-align: right;\n    }\n</style>\n<table border=\"1\" class=\"dataframe\">\n  <thead>\n    <tr style=\"text-align: right;\">\n      <th></th>\n      <th>#</th>\n      <th>Name</th>\n      <th>Type 1</th>\n      <th>Type 2</th>\n      <th>Legendary</th>\n      <th>Total</th>\n      <th>HP</th>\n      <th>Attack</th>\n      <th>Defense</th>\n      <th>Sp. Atk</th>\n      <th>Sp. Def</th>\n      <th>Speed</th>\n      <th>Generation</th>\n    </tr>\n  </thead>\n  <tbody>\n    <tr>\n      <th>4</th>\n      <td>4</td>\n      <td>Charmander</td>\n      <td>Flamer</td>\n      <td>NaN</td>\n      <td>False</td>\n      <td>309</td>\n      <td>39</td>\n      <td>52</td>\n      <td>43</td>\n      <td>60</td>\n      <td>50</td>\n      <td>65</td>\n      <td>1</td>\n    </tr>\n    <tr>\n      <th>5</th>\n      <td>5</td>\n      <td>Charmeleon</td>\n      <td>Flamer</td>\n      <td>NaN</td>\n      <td>False</td>\n      <td>405</td>\n      <td>58</td>\n      <td>64</td>\n      <td>58</td>\n      <td>80</td>\n      <td>65</td>\n      <td>80</td>\n      <td>1</td>\n    </tr>\n    <tr>\n      <th>6</th>\n      <td>6</td>\n      <td>Charizard</td>\n      <td>Flamer</td>\n      <td>Flying</td>\n      <td>TEST 2</td>\n      <td>534</td>\n      <td>78</td>\n      <td>84</td>\n      <td>78</td>\n      <td>109</td>\n      <td>85</td>\n      <td>100</td>\n      <td>TEST 1</td>\n    </tr>\n    <tr>\n      <th>7</th>\n      <td>6</td>\n      <td>CharizardMega Charizard X</td>\n      <td>Flamer</td>\n      <td>Dragon</td>\n      <td>TEST 2</td>\n      <td>634</td>\n      <td>78</td>\n      <td>130</td>\n      <td>111</td>\n      <td>130</td>\n      <td>85</td>\n      <td>100</td>\n      <td>TEST 1</td>\n    </tr>\n    <tr>\n      <th>8</th>\n      <td>6</td>\n      <td>CharizardMega Charizard Y</td>\n      <td>Flamer</td>\n      <td>Flying</td>\n      <td>TEST 2</td>\n      <td>634</td>\n      <td>78</td>\n      <td>104</td>\n      <td>78</td>\n      <td>159</td>\n      <td>115</td>\n      <td>100</td>\n      <td>TEST 1</td>\n    </tr>\n    <tr>\n      <th>42</th>\n      <td>37</td>\n      <td>Vulpix</td>\n      <td>Flamer</td>\n      <td>NaN</td>\n      <td>False</td>\n      <td>299</td>\n      <td>38</td>\n      <td>41</td>\n      <td>40</td>\n      <td>50</td>\n      <td>65</td>\n      <td>65</td>\n      <td>1</td>\n    </tr>\n    <tr>\n      <th>43</th>\n      <td>38</td>\n      <td>Ninetales</td>\n      <td>Flamer</td>\n      <td>NaN</td>\n      <td>TEST 2</td>\n      <td>505</td>\n      <td>73</td>\n      <td>76</td>\n      <td>75</td>\n      <td>81</td>\n      <td>100</td>\n      <td>100</td>\n      <td>TEST 1</td>\n    </tr>\n    <tr>\n      <th>63</th>\n      <td>58</td>\n      <td>Growlithe</td>\n      <td>Flamer</td>\n      <td>NaN</td>\n      <td>False</td>\n      <td>350</td>\n      <td>55</td>\n      <td>70</td>\n      <td>45</td>\n      <td>70</td>\n      <td>50</td>\n      <td>60</td>\n      <td>1</td>\n    </tr>\n    <tr>\n      <th>64</th>\n      <td>59</td>\n      <td>Arcanine</td>\n      <td>Flamer</td>\n      <td>NaN</td>\n      <td>TEST 2</td>\n      <td>555</td>\n      <td>90</td>\n      <td>110</td>\n      <td>80</td>\n      <td>100</td>\n      <td>80</td>\n      <td>95</td>\n      <td>TEST 1</td>\n    </tr>\n    <tr>\n      <th>83</th>\n      <td>77</td>\n      <td>Ponyta</td>\n      <td>Flamer</td>\n      <td>NaN</td>\n      <td>False</td>\n      <td>410</td>\n      <td>50</td>\n      <td>85</td>\n      <td>55</td>\n      <td>65</td>\n      <td>65</td>\n      <td>90</td>\n      <td>1</td>\n    </tr>\n    <tr>\n      <th>84</th>\n      <td>78</td>\n      <td>Rapidash</td>\n      <td>Flamer</td>\n      <td>NaN</td>\n      <td>False</td>\n      <td>500</td>\n      <td>65</td>\n      <td>100</td>\n      <td>70</td>\n      <td>80</td>\n      <td>80</td>\n      <td>105</td>\n      <td>1</td>\n    </tr>\n    <tr>\n      <th>135</th>\n      <td>126</td>\n      <td>Magmar</td>\n      <td>Flamer</td>\n      <td>NaN</td>\n      <td>False</td>\n      <td>495</td>\n      <td>65</td>\n      <td>95</td>\n      <td>57</td>\n      <td>100</td>\n      <td>85</td>\n      <td>93</td>\n      <td>1</td>\n    </tr>\n    <tr>\n      <th>147</th>\n      <td>136</td>\n      <td>Flareon</td>\n      <td>Flamer</td>\n      <td>NaN</td>\n      <td>TEST 2</td>\n      <td>525</td>\n      <td>65</td>\n      <td>130</td>\n      <td>60</td>\n      <td>95</td>\n      <td>110</td>\n      <td>65</td>\n      <td>TEST 1</td>\n    </tr>\n    <tr>\n      <th>158</th>\n      <td>146</td>\n      <td>Moltres</td>\n      <td>Flamer</td>\n      <td>Flying</td>\n      <td>TEST 2</td>\n      <td>580</td>\n      <td>90</td>\n      <td>100</td>\n      <td>90</td>\n      <td>125</td>\n      <td>85</td>\n      <td>90</td>\n      <td>TEST 1</td>\n    </tr>\n    <tr>\n      <th>169</th>\n      <td>155</td>\n      <td>Cyndaquil</td>\n      <td>Flamer</td>\n      <td>NaN</td>\n      <td>False</td>\n      <td>309</td>\n      <td>39</td>\n      <td>52</td>\n      <td>43</td>\n      <td>60</td>\n      <td>50</td>\n      <td>65</td>\n      <td>2</td>\n    </tr>\n    <tr>\n      <th>170</th>\n      <td>156</td>\n      <td>Quilava</td>\n      <td>Flamer</td>\n      <td>NaN</td>\n      <td>False</td>\n      <td>405</td>\n      <td>58</td>\n      <td>64</td>\n      <td>58</td>\n      <td>80</td>\n      <td>65</td>\n      <td>80</td>\n      <td>2</td>\n    </tr>\n    <tr>\n      <th>171</th>\n      <td>157</td>\n      <td>Typhlosion</td>\n      <td>Flamer</td>\n      <td>NaN</td>\n      <td>TEST 2</td>\n      <td>534</td>\n      <td>78</td>\n      <td>84</td>\n      <td>78</td>\n      <td>109</td>\n      <td>85</td>\n      <td>100</td>\n      <td>TEST 1</td>\n    </tr>\n    <tr>\n      <th>236</th>\n      <td>218</td>\n      <td>Slugma</td>\n      <td>Flamer</td>\n      <td>NaN</td>\n      <td>False</td>\n      <td>250</td>\n      <td>40</td>\n      <td>40</td>\n      <td>40</td>\n      <td>70</td>\n      <td>40</td>\n      <td>20</td>\n      <td>2</td>\n    </tr>\n    <tr>\n      <th>237</th>\n      <td>219</td>\n      <td>Magcargo</td>\n      <td>Flamer</td>\n      <td>Rock</td>\n      <td>False</td>\n      <td>410</td>\n      <td>50</td>\n      <td>50</td>\n      <td>120</td>\n      <td>80</td>\n      <td>80</td>\n      <td>30</td>\n      <td>2</td>\n    </tr>\n    <tr>\n      <th>259</th>\n      <td>240</td>\n      <td>Magby</td>\n      <td>Flamer</td>\n      <td>NaN</td>\n      <td>False</td>\n      <td>365</td>\n      <td>45</td>\n      <td>75</td>\n      <td>37</td>\n      <td>70</td>\n      <td>55</td>\n      <td>83</td>\n      <td>2</td>\n    </tr>\n    <tr>\n      <th>263</th>\n      <td>244</td>\n      <td>Entei</td>\n      <td>Flamer</td>\n      <td>NaN</td>\n      <td>TEST 2</td>\n      <td>580</td>\n      <td>115</td>\n      <td>115</td>\n      <td>85</td>\n      <td>90</td>\n      <td>75</td>\n      <td>100</td>\n      <td>TEST 1</td>\n    </tr>\n    <tr>\n      <th>270</th>\n      <td>250</td>\n      <td>Ho-oh</td>\n      <td>Flamer</td>\n      <td>Flying</td>\n      <td>TEST 2</td>\n      <td>680</td>\n      <td>106</td>\n      <td>130</td>\n      <td>90</td>\n      <td>110</td>\n      <td>154</td>\n      <td>90</td>\n      <td>TEST 1</td>\n    </tr>\n    <tr>\n      <th>276</th>\n      <td>255</td>\n      <td>Torchic</td>\n      <td>Flamer</td>\n      <td>NaN</td>\n      <td>False</td>\n      <td>310</td>\n      <td>45</td>\n      <td>60</td>\n      <td>40</td>\n      <td>70</td>\n      <td>50</td>\n      <td>45</td>\n      <td>3</td>\n    </tr>\n    <tr>\n      <th>277</th>\n      <td>256</td>\n      <td>Combusken</td>\n      <td>Flamer</td>\n      <td>Fighting</td>\n      <td>False</td>\n      <td>405</td>\n      <td>60</td>\n      <td>85</td>\n      <td>60</td>\n      <td>85</td>\n      <td>60</td>\n      <td>55</td>\n      <td>3</td>\n    </tr>\n    <tr>\n      <th>278</th>\n      <td>257</td>\n      <td>Blaziken</td>\n      <td>Flamer</td>\n      <td>Fighting</td>\n      <td>TEST 2</td>\n      <td>530</td>\n      <td>80</td>\n      <td>120</td>\n      <td>70</td>\n      <td>110</td>\n      <td>70</td>\n      <td>80</td>\n      <td>TEST 1</td>\n    </tr>\n    <tr>\n      <th>279</th>\n      <td>257</td>\n      <td>BlazikenMega Blaziken</td>\n      <td>Flamer</td>\n      <td>Fighting</td>\n      <td>TEST 2</td>\n      <td>630</td>\n      <td>80</td>\n      <td>160</td>\n      <td>80</td>\n      <td>130</td>\n      <td>80</td>\n      <td>100</td>\n      <td>TEST 1</td>\n    </tr>\n    <tr>\n      <th>352</th>\n      <td>322</td>\n      <td>Numel</td>\n      <td>Flamer</td>\n      <td>Ground</td>\n      <td>False</td>\n      <td>305</td>\n      <td>60</td>\n      <td>60</td>\n      <td>40</td>\n      <td>65</td>\n      <td>45</td>\n      <td>35</td>\n      <td>3</td>\n    </tr>\n    <tr>\n      <th>353</th>\n      <td>323</td>\n      <td>Camerupt</td>\n      <td>Flamer</td>\n      <td>Ground</td>\n      <td>False</td>\n      <td>460</td>\n      <td>70</td>\n      <td>100</td>\n      <td>70</td>\n      <td>105</td>\n      <td>75</td>\n      <td>40</td>\n      <td>3</td>\n    </tr>\n    <tr>\n      <th>354</th>\n      <td>323</td>\n      <td>CameruptMega Camerupt</td>\n      <td>Flamer</td>\n      <td>Ground</td>\n      <td>TEST 2</td>\n      <td>560</td>\n      <td>70</td>\n      <td>120</td>\n      <td>100</td>\n      <td>145</td>\n      <td>105</td>\n      <td>20</td>\n      <td>TEST 1</td>\n    </tr>\n    <tr>\n      <th>355</th>\n      <td>324</td>\n      <td>Torkoal</td>\n      <td>Flamer</td>\n      <td>NaN</td>\n      <td>False</td>\n      <td>470</td>\n      <td>70</td>\n      <td>85</td>\n      <td>140</td>\n      <td>85</td>\n      <td>70</td>\n      <td>20</td>\n      <td>3</td>\n    </tr>\n    <tr>\n      <th>435</th>\n      <td>390</td>\n      <td>Chimchar</td>\n      <td>Flamer</td>\n      <td>NaN</td>\n      <td>False</td>\n      <td>309</td>\n      <td>44</td>\n      <td>58</td>\n      <td>44</td>\n      <td>58</td>\n      <td>44</td>\n      <td>61</td>\n      <td>4</td>\n    </tr>\n    <tr>\n      <th>436</th>\n      <td>391</td>\n      <td>Monferno</td>\n      <td>Flamer</td>\n      <td>Fighting</td>\n      <td>False</td>\n      <td>405</td>\n      <td>64</td>\n      <td>78</td>\n      <td>52</td>\n      <td>78</td>\n      <td>52</td>\n      <td>81</td>\n      <td>4</td>\n    </tr>\n    <tr>\n      <th>437</th>\n      <td>392</td>\n      <td>Infernape</td>\n      <td>Flamer</td>\n      <td>Fighting</td>\n      <td>TEST 2</td>\n      <td>534</td>\n      <td>76</td>\n      <td>104</td>\n      <td>71</td>\n      <td>104</td>\n      <td>71</td>\n      <td>108</td>\n      <td>TEST 1</td>\n    </tr>\n    <tr>\n      <th>518</th>\n      <td>467</td>\n      <td>Magmortar</td>\n      <td>Flamer</td>\n      <td>NaN</td>\n      <td>TEST 2</td>\n      <td>540</td>\n      <td>75</td>\n      <td>95</td>\n      <td>67</td>\n      <td>125</td>\n      <td>95</td>\n      <td>83</td>\n      <td>TEST 1</td>\n    </tr>\n    <tr>\n      <th>542</th>\n      <td>485</td>\n      <td>Heatran</td>\n      <td>Flamer</td>\n      <td>Steel</td>\n      <td>TEST 2</td>\n      <td>600</td>\n      <td>91</td>\n      <td>90</td>\n      <td>106</td>\n      <td>130</td>\n      <td>106</td>\n      <td>77</td>\n      <td>TEST 1</td>\n    </tr>\n    <tr>\n      <th>557</th>\n      <td>498</td>\n      <td>Tepig</td>\n      <td>Flamer</td>\n      <td>NaN</td>\n      <td>False</td>\n      <td>308</td>\n      <td>65</td>\n      <td>63</td>\n      <td>45</td>\n      <td>45</td>\n      <td>45</td>\n      <td>45</td>\n      <td>5</td>\n    </tr>\n    <tr>\n      <th>558</th>\n      <td>499</td>\n      <td>Pignite</td>\n      <td>Flamer</td>\n      <td>Fighting</td>\n      <td>False</td>\n      <td>418</td>\n      <td>90</td>\n      <td>93</td>\n      <td>55</td>\n      <td>70</td>\n      <td>55</td>\n      <td>55</td>\n      <td>5</td>\n    </tr>\n    <tr>\n      <th>559</th>\n      <td>500</td>\n      <td>Emboar</td>\n      <td>Flamer</td>\n      <td>Fighting</td>\n      <td>TEST 2</td>\n      <td>528</td>\n      <td>110</td>\n      <td>123</td>\n      <td>65</td>\n      <td>100</td>\n      <td>65</td>\n      <td>65</td>\n      <td>TEST 1</td>\n    </tr>\n    <tr>\n      <th>572</th>\n      <td>513</td>\n      <td>Pansear</td>\n      <td>Flamer</td>\n      <td>NaN</td>\n      <td>False</td>\n      <td>316</td>\n      <td>50</td>\n      <td>53</td>\n      <td>48</td>\n      <td>53</td>\n      <td>48</td>\n      <td>64</td>\n      <td>5</td>\n    </tr>\n    <tr>\n      <th>573</th>\n      <td>514</td>\n      <td>Simisear</td>\n      <td>Flamer</td>\n      <td>NaN</td>\n      <td>False</td>\n      <td>498</td>\n      <td>75</td>\n      <td>98</td>\n      <td>63</td>\n      <td>98</td>\n      <td>63</td>\n      <td>101</td>\n      <td>5</td>\n    </tr>\n    <tr>\n      <th>614</th>\n      <td>554</td>\n      <td>Darumaka</td>\n      <td>Flamer</td>\n      <td>NaN</td>\n      <td>False</td>\n      <td>315</td>\n      <td>70</td>\n      <td>90</td>\n      <td>45</td>\n      <td>15</td>\n      <td>45</td>\n      <td>50</td>\n      <td>5</td>\n    </tr>\n    <tr>\n      <th>615</th>\n      <td>555</td>\n      <td>DarmanitanStandard Mode</td>\n      <td>Flamer</td>\n      <td>NaN</td>\n      <td>False</td>\n      <td>480</td>\n      <td>105</td>\n      <td>140</td>\n      <td>55</td>\n      <td>30</td>\n      <td>55</td>\n      <td>95</td>\n      <td>5</td>\n    </tr>\n    <tr>\n      <th>616</th>\n      <td>555</td>\n      <td>DarmanitanZen Mode</td>\n      <td>Flamer</td>\n      <td>Psychic</td>\n      <td>TEST 2</td>\n      <td>540</td>\n      <td>105</td>\n      <td>30</td>\n      <td>105</td>\n      <td>140</td>\n      <td>105</td>\n      <td>55</td>\n      <td>TEST 1</td>\n    </tr>\n    <tr>\n      <th>692</th>\n      <td>631</td>\n      <td>Heatmor</td>\n      <td>Flamer</td>\n      <td>NaN</td>\n      <td>False</td>\n      <td>484</td>\n      <td>85</td>\n      <td>97</td>\n      <td>66</td>\n      <td>105</td>\n      <td>66</td>\n      <td>65</td>\n      <td>5</td>\n    </tr>\n    <tr>\n      <th>721</th>\n      <td>653</td>\n      <td>Fennekin</td>\n      <td>Flamer</td>\n      <td>NaN</td>\n      <td>False</td>\n      <td>307</td>\n      <td>40</td>\n      <td>45</td>\n      <td>40</td>\n      <td>62</td>\n      <td>60</td>\n      <td>60</td>\n      <td>6</td>\n    </tr>\n    <tr>\n      <th>722</th>\n      <td>654</td>\n      <td>Braixen</td>\n      <td>Flamer</td>\n      <td>NaN</td>\n      <td>False</td>\n      <td>409</td>\n      <td>59</td>\n      <td>59</td>\n      <td>58</td>\n      <td>90</td>\n      <td>70</td>\n      <td>73</td>\n      <td>6</td>\n    </tr>\n    <tr>\n      <th>723</th>\n      <td>655</td>\n      <td>Delphox</td>\n      <td>Flamer</td>\n      <td>Psychic</td>\n      <td>TEST 2</td>\n      <td>534</td>\n      <td>75</td>\n      <td>69</td>\n      <td>72</td>\n      <td>114</td>\n      <td>100</td>\n      <td>104</td>\n      <td>TEST 1</td>\n    </tr>\n    <tr>\n      <th>730</th>\n      <td>662</td>\n      <td>Fletchinder</td>\n      <td>Flamer</td>\n      <td>Flying</td>\n      <td>False</td>\n      <td>382</td>\n      <td>62</td>\n      <td>73</td>\n      <td>55</td>\n      <td>56</td>\n      <td>52</td>\n      <td>84</td>\n      <td>6</td>\n    </tr>\n    <tr>\n      <th>731</th>\n      <td>663</td>\n      <td>Talonflame</td>\n      <td>Flamer</td>\n      <td>Flying</td>\n      <td>False</td>\n      <td>499</td>\n      <td>78</td>\n      <td>81</td>\n      <td>71</td>\n      <td>74</td>\n      <td>69</td>\n      <td>126</td>\n      <td>6</td>\n    </tr>\n    <tr>\n      <th>735</th>\n      <td>667</td>\n      <td>Litleo</td>\n      <td>Flamer</td>\n      <td>Normal</td>\n      <td>False</td>\n      <td>369</td>\n      <td>62</td>\n      <td>50</td>\n      <td>58</td>\n      <td>73</td>\n      <td>54</td>\n      <td>72</td>\n      <td>6</td>\n    </tr>\n    <tr>\n      <th>736</th>\n      <td>668</td>\n      <td>Pyroar</td>\n      <td>Flamer</td>\n      <td>Normal</td>\n      <td>TEST 2</td>\n      <td>507</td>\n      <td>86</td>\n      <td>68</td>\n      <td>72</td>\n      <td>109</td>\n      <td>66</td>\n      <td>106</td>\n      <td>TEST 1</td>\n    </tr>\n    <tr>\n      <th>799</th>\n      <td>721</td>\n      <td>Volcanion</td>\n      <td>Flamer</td>\n      <td>Water</td>\n      <td>TEST 2</td>\n      <td>600</td>\n      <td>80</td>\n      <td>110</td>\n      <td>120</td>\n      <td>130</td>\n      <td>90</td>\n      <td>70</td>\n      <td>TEST 1</td>\n    </tr>\n  </tbody>\n</table>\n</div>"
     },
     "execution_count": 108,
     "metadata": {},
     "output_type": "execute_result"
    }
   ],
   "source": [
    "df1.loc[df1['Total'] > 500, ['Generation', 'Legendary']] = ['TEST 1', 'TEST 2']\n",
    "df1"
   ],
   "metadata": {
    "collapsed": false,
    "ExecuteTime": {
     "end_time": "2024-01-27T12:03:20.542427303Z",
     "start_time": "2024-01-27T12:03:20.502478606Z"
    }
   },
   "id": "f7a8eee7bd8e4369",
   "execution_count": 108
  },
  {
   "cell_type": "markdown",
   "source": [
    "# Aggregate Statistics (Groupby)"
   ],
   "metadata": {
    "collapsed": false
   },
   "id": "c9b27f3324e27d2e"
  },
  {
   "cell_type": "code",
   "outputs": [
    {
     "name": "stdout",
     "output_type": "stream",
     "text": [
      "  Type 1  Attack  Defense\n",
      "0   Fire      78       65\n",
      "1  Water      50       45\n",
      "2   Fire      84       75\n",
      "3  Water      65       50\n",
      "4  Grass      70       55\n",
      "5  Grass      85       75\n"
     ]
    }
   ],
   "source": [
    "# Sample DataFrame\n",
    "data = {'Type 1': ['Fire', 'Water', 'Fire', 'Water', 'Grass', 'Grass'],\n",
    "        'Attack': [78, 50, 84, 65, 70, 85],\n",
    "        'Defense': [65, 45, 75, 50, 55, 75]}\n",
    "df = pd.DataFrame(data)\n",
    "print(df)"
   ],
   "metadata": {
    "collapsed": false,
    "ExecuteTime": {
     "end_time": "2024-01-31T19:46:16.560984556Z",
     "start_time": "2024-01-31T19:46:16.549972408Z"
    }
   },
   "id": "a9849398940df190",
   "execution_count": 3
  },
  {
   "cell_type": "code",
   "outputs": [],
   "source": [
    "# 1. Grouping the Data:\n",
    "\n",
    "# Grouping by 'Type 1'\n",
    "grouped_data = df.groupby('Type 1')"
   ],
   "metadata": {
    "collapsed": false,
    "ExecuteTime": {
     "end_time": "2024-01-31T19:47:21.358528434Z",
     "start_time": "2024-01-31T19:47:21.338060343Z"
    }
   },
   "id": "3f2598ce3a7b2529",
   "execution_count": 9
  },
  {
   "cell_type": "code",
   "outputs": [
    {
     "name": "stdout",
     "output_type": "stream",
     "text": [
      "        Attack  Defense\n",
      "Type 1                 \n",
      "Fire      81.0     70.0\n",
      "Grass     77.5     65.0\n",
      "Water     57.5     47.5\n"
     ]
    }
   ],
   "source": [
    "# 2. Applying Aggregate Functions:\n",
    "# Once you have grouped the data, you can apply aggregate functions such as sum, mean, count, min, max, etc.\n",
    "\n",
    "# Calculating the mean for each group\n",
    "mean_stats = grouped_data.mean()\n",
    "print(mean_stats)\n"
   ],
   "metadata": {
    "collapsed": false,
    "ExecuteTime": {
     "end_time": "2024-01-27T13:18:56.489574724Z",
     "start_time": "2024-01-27T13:18:56.445753948Z"
    }
   },
   "id": "b5bb6cea7fa3e418",
   "execution_count": 118
  },
  {
   "cell_type": "code",
   "outputs": [
    {
     "name": "stdout",
     "output_type": "stream",
     "text": [
      "        Attack  Defense\n",
      "Type 1                 \n",
      "Fire      81.0      140\n",
      "Grass     77.5      130\n",
      "Water     57.5       95\n"
     ]
    }
   ],
   "source": [
    "# 3. Aggregating Multiple Functions:\n",
    "# You can also apply multiple aggregate functions at once using the agg method.\n",
    "# Calculating the mean and sum for each group\n",
    "agg_stats = grouped_data.agg({'Attack': 'mean', 'Defense': 'sum'})\n",
    "print(agg_stats)\n"
   ],
   "metadata": {
    "collapsed": false,
    "ExecuteTime": {
     "end_time": "2024-01-27T13:28:31.857264198Z",
     "start_time": "2024-01-27T13:28:31.848060515Z"
    }
   },
   "id": "e17786d9b4d7d0b7",
   "execution_count": 122
  },
  {
   "cell_type": "code",
   "outputs": [
    {
     "name": "stdout",
     "output_type": "stream",
     "text": [
      "   Attack  Defense\n",
      "0    81.0      140\n",
      "1    77.5      130\n",
      "2    57.5       95\n"
     ]
    }
   ],
   "source": [
    "# 4. Resetting Index:\n",
    "# If you want to reset the index after grouping, you can use the reset_index method.\n",
    "agg_stats.reset_index(inplace=True, drop=True)\n",
    "print(agg_stats)\n"
   ],
   "metadata": {
    "collapsed": false,
    "ExecuteTime": {
     "end_time": "2024-01-27T13:30:44.871968799Z",
     "start_time": "2024-01-27T13:30:44.828592178Z"
    }
   },
   "id": "192de86a71618811",
   "execution_count": 124
  },
  {
   "cell_type": "code",
   "outputs": [
    {
     "name": "stdout",
     "output_type": "stream",
     "text": [
      "        Attack  Defense\n",
      "Type 1                 \n",
      "Fire         6     70.0\n",
      "Grass       15     65.0\n",
      "Water       15     47.5\n"
     ]
    }
   ],
   "source": [
    "# 5. Applying Custom Aggregation Functions:\n",
    "# You can also apply custom aggregation functions using the agg method with a lambda function.\n",
    "custom_stats = grouped_data.agg({'Attack': lambda x: x.max() - x.min(), 'Defense': 'mean'})\n",
    "print(custom_stats)\n"
   ],
   "metadata": {
    "collapsed": false,
    "ExecuteTime": {
     "end_time": "2024-01-27T13:33:33.899761847Z",
     "start_time": "2024-01-27T13:33:33.881353080Z"
    }
   },
   "id": "43e487c23ad549a0",
   "execution_count": 125
  },
  {
   "cell_type": "code",
   "outputs": [],
   "source": [
    "# Finding the name of the groups\n",
    "# Sample DataFrame\n",
    "data = {'Type 1': ['Fire', 'Water', 'Fire', 'Water', 'Grass', 'Grass'],\n",
    "        'Attack': [78, 50, 84, 65, 70, 85],\n",
    "        'Defense': [65, 45, 75, 50, 55, 75]}\n",
    "df = pd.DataFrame(data)\n",
    "\n",
    "# Grouping by 'Type 1'\n",
    "grouped_data = df.groupby('Type 1')\n",
    "\n",
    "# Getting the group names\n",
    "group_names = list(grouped_data.groups.keys())\n",
    "\n",
    "# Displaying the group names\n",
    "print(group_names)\n"
   ],
   "metadata": {
    "collapsed": false
   },
   "id": "6c99e084712d7f48"
  },
  {
   "cell_type": "code",
   "outputs": [
    {
     "name": "stdout",
     "output_type": "stream",
     "text": [
      "               Total         HP      Attack     Defense    Sp. Atk    Sp. Def  \\\n",
      "Type 1                                                                          \n",
      "Dragon    550.531250  83.312500  112.125000   86.375000  96.843750  88.843750   \n",
      "Normal    401.683673  77.275510   73.469388   59.846939  55.816327  63.724490   \n",
      "Fairy     413.176471  74.117647   61.529412   65.705882  78.529412  84.705882   \n",
      "Ground    437.500000  73.781250   95.750000   84.843750  56.468750  62.750000   \n",
      "Water     430.455357  72.062500   74.151786   72.946429  74.812500  70.517857   \n",
      "Ice       433.458333  72.000000   72.750000   71.416667  77.541667  76.291667   \n",
      "Flying    485.000000  70.750000   78.750000   66.250000  94.250000  72.500000   \n",
      "Psychic   475.947368  70.631579   71.456140   67.684211  98.403509  86.280702   \n",
      "Fire      458.076923  69.903846   84.769231   67.769231  88.980769  72.211538   \n",
      "Fighting  416.444444  69.851852   96.777778   65.925926  53.111111  64.703704   \n",
      "Grass     421.142857  67.271429   73.214286   70.800000  77.500000  70.428571   \n",
      "Poison    399.142857  67.250000   74.678571   68.821429  60.428571  64.392857   \n",
      "Dark      445.741935  66.806452   88.387097   70.225806  74.645161  69.516129   \n",
      "Rock      453.750000  65.363636   92.863636  100.795455  63.340909  75.477273   \n",
      "Steel     487.703704  65.222222   92.703704  126.370370  67.518519  80.629630   \n",
      "Ghost     439.562500  64.437500   73.781250   81.187500  79.343750  76.468750   \n",
      "Electric  443.409091  59.795455   69.090909   66.295455  90.022727  73.704545   \n",
      "Bug       378.927536  56.884058   70.971014   70.724638  53.869565  64.797101   \n",
      "\n",
      "               Speed  Generation  Legendary  \n",
      "Type 1                                       \n",
      "Dragon     83.031250    3.875000   0.375000  \n",
      "Normal     71.551020    3.051020   0.020408  \n",
      "Fairy      48.588235    4.117647   0.058824  \n",
      "Ground     63.906250    3.156250   0.125000  \n",
      "Water      65.964286    2.857143   0.035714  \n",
      "Ice        63.458333    3.541667   0.083333  \n",
      "Flying    102.500000    5.500000   0.500000  \n",
      "Psychic    81.491228    3.385965   0.245614  \n",
      "Fire       74.442308    3.211538   0.096154  \n",
      "Fighting   66.074074    3.370370   0.000000  \n",
      "Grass      61.928571    3.357143   0.042857  \n",
      "Poison     63.571429    2.535714   0.000000  \n",
      "Dark       76.161290    4.032258   0.064516  \n",
      "Rock       55.909091    3.454545   0.090909  \n",
      "Steel      55.259259    3.851852   0.148148  \n",
      "Ghost      64.343750    4.187500   0.062500  \n",
      "Electric   84.500000    3.272727   0.090909  \n",
      "Bug        61.681159    3.217391   0.000000  \n"
     ]
    }
   ],
   "source": [
    "df = pd.read_csv('modified.csv')\n",
    "cols = list(df.columns.values)\n",
    "df = df[[cols[2]] + cols[4:13]]\n",
    "print(df.groupby(['Type 1']).mean().sort_values(by=['HP'], ascending=False))\n",
    "# print(df.groupby(['Type 1']).agg(lambda x: x.sum()/x.count()).sort_values(by=['HP'], ascending=False))"
   ],
   "metadata": {
    "collapsed": false,
    "ExecuteTime": {
     "end_time": "2024-01-27T19:02:08.138210365Z",
     "start_time": "2024-01-27T19:02:08.089465589Z"
    }
   },
   "id": "9a455491fdee271b",
   "execution_count": 216
  },
  {
   "cell_type": "code",
   "outputs": [
    {
     "name": "stdout",
     "output_type": "stream",
     "text": [
      "Type 1\n",
      "Bug          69\n",
      "Dark         31\n",
      "Dragon       32\n",
      "Electric     44\n",
      "Fairy        17\n",
      "Fighting     27\n",
      "Fire         52\n",
      "Flying        4\n",
      "Ghost        32\n",
      "Grass        70\n",
      "Ground       32\n",
      "Ice          24\n",
      "Normal       98\n",
      "Poison       28\n",
      "Psychic      57\n",
      "Rock         44\n",
      "Steel        27\n",
      "Water       112\n",
      "Name: count, dtype: int64\n"
     ]
    }
   ],
   "source": [
    "df = pd.read_csv('modified.csv')\n",
    "df['count'] = 1\n",
    "print(df.groupby(['Type 1']).count()['count'])"
   ],
   "metadata": {
    "collapsed": false,
    "ExecuteTime": {
     "end_time": "2024-01-27T16:38:24.441201903Z",
     "start_time": "2024-01-27T16:38:24.432914706Z"
    }
   },
   "id": "ac9b7c6122cabc57",
   "execution_count": 189
  },
  {
   "cell_type": "code",
   "outputs": [],
   "source": [
    "df = pd.read_csv('modified.csv')\n",
    "df['count'] = 1\n",
    "df.groupby(['Type 1', 'Type 2']).count()['count']"
   ],
   "metadata": {
    "collapsed": false
   },
   "id": "8920458ae694aa32"
  },
  {
   "cell_type": "markdown",
   "source": [
    "# Working with large amounts of data"
   ],
   "metadata": {
    "collapsed": false
   },
   "id": "233491e5ceda39ec"
  },
  {
   "cell_type": "code",
   "outputs": [
    {
     "data": {
      "text/plain": "      Type 1 Total HP Attack Defense Sp. Atk Sp. Def Speed Generation  \\\nFire     NaN     1  1      1       1       1       1     1          1   \nGrass    NaN     4  4      4       4       4       4     4          4   \nFire     NaN     4  4      4       4       4       4     4          4   \nWater    NaN     1  1      1       1       1       1     1          1   \nBug      NaN     2  2      2       2       2       2     2          2   \n\n      Legendary    #  Name  Type 2  \nFire          1  1.0   1.0     0.0  \nGrass         4  4.0   4.0     4.0  \nFire          4  4.0   4.0     3.0  \nWater         1  1.0   1.0     0.0  \nBug           2  2.0   2.0     0.0  ",
      "text/html": "<div>\n<style scoped>\n    .dataframe tbody tr th:only-of-type {\n        vertical-align: middle;\n    }\n\n    .dataframe tbody tr th {\n        vertical-align: top;\n    }\n\n    .dataframe thead th {\n        text-align: right;\n    }\n</style>\n<table border=\"1\" class=\"dataframe\">\n  <thead>\n    <tr style=\"text-align: right;\">\n      <th></th>\n      <th>Type 1</th>\n      <th>Total</th>\n      <th>HP</th>\n      <th>Attack</th>\n      <th>Defense</th>\n      <th>Sp. Atk</th>\n      <th>Sp. Def</th>\n      <th>Speed</th>\n      <th>Generation</th>\n      <th>Legendary</th>\n      <th>#</th>\n      <th>Name</th>\n      <th>Type 2</th>\n    </tr>\n  </thead>\n  <tbody>\n    <tr>\n      <th>Fire</th>\n      <td>NaN</td>\n      <td>1</td>\n      <td>1</td>\n      <td>1</td>\n      <td>1</td>\n      <td>1</td>\n      <td>1</td>\n      <td>1</td>\n      <td>1</td>\n      <td>1</td>\n      <td>1.0</td>\n      <td>1.0</td>\n      <td>0.0</td>\n    </tr>\n    <tr>\n      <th>Grass</th>\n      <td>NaN</td>\n      <td>4</td>\n      <td>4</td>\n      <td>4</td>\n      <td>4</td>\n      <td>4</td>\n      <td>4</td>\n      <td>4</td>\n      <td>4</td>\n      <td>4</td>\n      <td>4.0</td>\n      <td>4.0</td>\n      <td>4.0</td>\n    </tr>\n    <tr>\n      <th>Fire</th>\n      <td>NaN</td>\n      <td>4</td>\n      <td>4</td>\n      <td>4</td>\n      <td>4</td>\n      <td>4</td>\n      <td>4</td>\n      <td>4</td>\n      <td>4</td>\n      <td>4</td>\n      <td>4.0</td>\n      <td>4.0</td>\n      <td>3.0</td>\n    </tr>\n    <tr>\n      <th>Water</th>\n      <td>NaN</td>\n      <td>1</td>\n      <td>1</td>\n      <td>1</td>\n      <td>1</td>\n      <td>1</td>\n      <td>1</td>\n      <td>1</td>\n      <td>1</td>\n      <td>1</td>\n      <td>1.0</td>\n      <td>1.0</td>\n      <td>0.0</td>\n    </tr>\n    <tr>\n      <th>Bug</th>\n      <td>NaN</td>\n      <td>2</td>\n      <td>2</td>\n      <td>2</td>\n      <td>2</td>\n      <td>2</td>\n      <td>2</td>\n      <td>2</td>\n      <td>2</td>\n      <td>2</td>\n      <td>2.0</td>\n      <td>2.0</td>\n      <td>0.0</td>\n    </tr>\n  </tbody>\n</table>\n</div>"
     },
     "execution_count": 218,
     "metadata": {},
     "output_type": "execute_result"
    }
   ],
   "source": [
    "csv_file = 'modified.csv'\n",
    "\n",
    "# Initialize a new DataFrame with the same columns as the original DataFrame\n",
    "new_df = pd.DataFrame(columns=df.columns)\n",
    "\n",
    "# Process the CSV file in chunks\n",
    "chunk_size = 5\n",
    "for chunk in pd.read_csv(csv_file, chunksize=chunk_size):\n",
    "    # Perform grouping and aggregation\n",
    "    results = chunk.groupby(['Type 1']).count()\n",
    "    # Concatenate the results to the new DataFrame\n",
    "    new_df = pd.concat([new_df, results])\n",
    "\n",
    "new_df.head()"
   ],
   "metadata": {
    "collapsed": false,
    "ExecuteTime": {
     "end_time": "2024-01-27T19:06:11.674917154Z",
     "start_time": "2024-01-27T19:06:11.390444843Z"
    }
   },
   "id": "2b2d9c9da5143c40",
   "execution_count": 218
  },
  {
   "cell_type": "code",
   "outputs": [],
   "source": [],
   "metadata": {
    "collapsed": false
   },
   "id": "e522b52ad99178f7"
  }
 ],
 "metadata": {
  "kernelspec": {
   "display_name": "Python 3",
   "language": "python",
   "name": "python3"
  },
  "language_info": {
   "codemirror_mode": {
    "name": "ipython",
    "version": 2
   },
   "file_extension": ".py",
   "mimetype": "text/x-python",
   "name": "python",
   "nbconvert_exporter": "python",
   "pygments_lexer": "ipython2",
   "version": "2.7.6"
  }
 },
 "nbformat": 4,
 "nbformat_minor": 5
}
