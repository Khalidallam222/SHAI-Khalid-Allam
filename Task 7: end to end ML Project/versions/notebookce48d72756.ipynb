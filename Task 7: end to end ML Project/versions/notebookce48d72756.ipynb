{
 "metadata": {
  "kernelspec": {
   "display_name": "Python 3",
   "language": "python",
   "name": "python3"
  },
  "language_info": {
   "name": "python",
   "version": "3.10.13",
   "mimetype": "text/x-python",
   "codemirror_mode": {
    "name": "ipython",
    "version": 3
   },
   "pygments_lexer": "ipython3",
   "nbconvert_exporter": "python",
   "file_extension": ".py"
  },
  "kaggle": {
   "accelerator": "none",
   "dataSources": [],
   "dockerImageVersionId": 30698,
   "isInternetEnabled": true,
   "language": "python",
   "sourceType": "notebook",
   "isGpuEnabled": false
  }
 },
 "nbformat_minor": 5,
 "nbformat": 4,
 "cells": [
  {
   "cell_type": "markdown",
   "source": "# About Dataset\n## Context\nThis classic dataset contains the prices and other attributes of almost 54,000 diamonds. It's a great dataset for beginners learning to work with data analysis and visualization.\n\n## Content\nprice price in US dollars 326--18,823\n\ncarat weight of the diamond (0.2--5.01)\n\ncut quality of the cut (Fair, Good, Very Good, Premium, Ideal)\n\ncolor diamond colour, from J (worst) to D (best)\n\nclarity a measurement of how clear the diamond is (I1 (worst), SI2, SI1, VS2, VS1, VVS2, VVS1, IF (best))\n\nx length in mm (0--10.74)\n\ny width in mm (0--58.9)\n\nz depth in mm (0--31.8)\n\ndepth total depth percentage = z / mean(x, y) = 2 * z / (x + y) (43--79)\n\ntable width of top of diamond relative to widest point (43--95)\n\n        (\"cut_cat\", OrdinalEncoder(categories=[['Fair', 'Good', 'Very Good', 'Premium', 'Ideal']]), ['cut']),\n        (\"color_cat\", OrdinalEncoder(categories=[['J', 'I', 'H', 'G', 'F', 'E', 'D']]), ['color']),\n        (\"clarity_cat\", OrdinalEncoder(categories=[['I1', 'SI2', 'SI1', 'VS2', 'VS1', 'VVS2', 'VVS1', 'IF']]), ['clarity']),",
   "metadata": {},
   "id": "8f4d8ad799dcf052"
  },
  {
   "cell_type": "code",
   "source": "import pandas as pd\nimport numpy as np\nimport seaborn as sns\nimport matplotlib.pyplot as plt\nX_train = pd.read_csv(\"https://raw.githubusercontent.com/Khalidallam222/SHAI-Khalid-Allam/main/Task%207%3A%20end%20to%20end%20ML%20Project/train.csv\")\nX_sub = pd.read_csv(\"https://raw.githubusercontent.com/Khalidallam222/SHAI-Khalid-Allam/main/Task%207%3A%20end%20to%20end%20ML%20Project/test.csv\")",
   "metadata": {
    "execution": {
     "iopub.status.busy": "2024-05-15T05:56:25.266446Z",
     "iopub.execute_input": "2024-05-15T05:56:25.266822Z",
     "iopub.status.idle": "2024-05-15T05:56:26.014119Z",
     "shell.execute_reply.started": "2024-05-15T05:56:25.266795Z",
     "shell.execute_reply": "2024-05-15T05:56:26.013342Z"
    },
    "trusted": true
   },
   "execution_count": 5,
   "outputs": [],
   "id": "ca635ce4665b8c57"
  },
  {
   "cell_type": "code",
   "source": "X_train.drop('Id', axis=1, inplace=True)",
   "metadata": {
    "ExecuteTime": {
     "end_time": "2024-05-15T05:09:44.860983Z",
     "start_time": "2024-05-15T05:09:44.855468Z"
    },
    "execution": {
     "iopub.status.busy": "2024-05-15T05:56:30.638261Z",
     "iopub.execute_input": "2024-05-15T05:56:30.638579Z",
     "iopub.status.idle": "2024-05-15T05:56:30.645853Z",
     "shell.execute_reply.started": "2024-05-15T05:56:30.638555Z",
     "shell.execute_reply": "2024-05-15T05:56:30.645098Z"
    },
    "trusted": true
   },
   "execution_count": 6,
   "outputs": [],
   "id": "b5670948df6c17b8"
  },
  {
   "cell_type": "code",
   "source": "X_train.info()",
   "metadata": {
    "ExecuteTime": {
     "end_time": "2024-05-15T05:09:13.670951Z",
     "start_time": "2024-05-15T05:09:13.661507Z"
    },
    "execution": {
     "iopub.status.busy": "2024-05-15T05:56:35.098987Z",
     "iopub.execute_input": "2024-05-15T05:56:35.099596Z",
     "iopub.status.idle": "2024-05-15T05:56:35.120934Z",
     "shell.execute_reply.started": "2024-05-15T05:56:35.099566Z",
     "shell.execute_reply": "2024-05-15T05:56:35.119884Z"
    },
    "trusted": true
   },
   "execution_count": 7,
   "outputs": [
    {
     "name": "stdout",
     "text": "<class 'pandas.core.frame.DataFrame'>\nRangeIndex: 43152 entries, 0 to 43151\nData columns (total 10 columns):\n #   Column   Non-Null Count  Dtype  \n---  ------   --------------  -----  \n 0   carat    43152 non-null  float64\n 1   cut      43152 non-null  object \n 2   color    43152 non-null  object \n 3   clarity  43152 non-null  object \n 4   depth    43152 non-null  float64\n 5   table    43152 non-null  float64\n 6   price    43152 non-null  int64  \n 7   x        43152 non-null  float64\n 8   y        43152 non-null  float64\n 9   z        43152 non-null  float64\ndtypes: float64(6), int64(1), object(3)\nmemory usage: 3.3+ MB\n",
     "output_type": "stream"
    }
   ],
   "id": "bf28f6217c5da422"
  },
  {
   "cell_type": "markdown",
   "source": "# Utilities",
   "metadata": {},
   "id": "54207430e4dadb39"
  },
  {
   "cell_type": "code",
   "source": "def winsorize(df, feature_name, lower_bound=None, upper_bound=None):\n  \"\"\"\n  Winsorizes outliers in a feature by replacing them with nearest non-outlier values.\n\n  Args:\n      df (pandas.DataFrame): The DataFrame containing the feature.\n      feature_name (str): The name of the feature column.\n      lower_bound (float, optional): The lower bound for outlier replacement. Defaults to None (calculated from IQR).\n      upper_bound (float, optional): The upper bound for outlier replacement. Defaults to None (calculated from IQR).\n\n  Returns:\n      pandas.DataFrame: The DataFrame with outliers winsorized.\n  \"\"\"\n  if lower_bound is None or upper_bound is None:\n    Q1 = df[feature_name].quantile(0.25)\n    Q3 = df[feature_name].quantile(0.75)\n    IQR = Q3 - Q1\n    lower_bound = Q1 - (1.5 * IQR) if lower_bound is None else lower_bound\n    upper_bound = Q3 + (1.5 * IQR) if upper_bound is None else upper_bound\n  df.loc[df[feature_name] < lower_bound, feature_name] = lower_bound\n  df.loc[df[feature_name] > upper_bound, feature_name] = upper_bound\n  return df\n\n# Winsorize outliers in the 'table' feature (assuming you want to use IQR for bounds)\n# X_train_filtered = winsorize(X_train.copy(), 'table')\n\n# Now 'X_train_filtered' contains your data with outliers in 'table' winsorized\n\n# Alternatively, specify custom bounds (optional)\n# lower_bound = ...  # Define a specific value for the lower bound\n# upper_bound = ...  # Define a specific value for the upper bound\n# X_train_filtered = winsorize(X_train.copy(), 'table', lower_bound, upper_bound)\n",
   "metadata": {
    "ExecuteTime": {
     "end_time": "2024-05-15T05:09:13.677614Z",
     "start_time": "2024-05-15T05:09:13.672683Z"
    },
    "trusted": true
   },
   "execution_count": null,
   "outputs": [],
   "id": "9e3c578395809a9"
  },
  {
   "cell_type": "code",
   "source": "import pandas as pd\n\ndef remove_outliers_iqr(df, feature_name, thresh=1.5):\n  \"\"\"\n  Removes outliers from a feature using IQR (Interquartile Range).\n\n  Args:\n      df (pandas.DataFrame): The DataFrame containing the feature.\n      feature_name (str): The name of the feature column.\n      thresh (float, optional): The multiplier for IQR to define outlier threshold. Defaults to 1.5.\n\n  Returns:\n      pandas.DataFrame: The DataFrame with outliers removed.\n  \"\"\"\n  Q1 = df[feature_name].quantile(0.25)\n  Q3 = df[feature_name].quantile(0.75)\n  IQR = Q3 - Q1\n  lower_bound = Q1 - (thresh * IQR)\n  upper_bound = Q3 + (thresh * IQR)\n  return df[(df[feature_name] >= lower_bound) & (df[feature_name] <= upper_bound)]\n",
   "metadata": {
    "ExecuteTime": {
     "end_time": "2024-05-15T05:09:48.598103Z",
     "start_time": "2024-05-15T05:09:48.594221Z"
    },
    "trusted": true
   },
   "execution_count": null,
   "outputs": [],
   "id": "3c8749d9233419d7"
  },
  {
   "cell_type": "code",
   "source": "from sklearn.preprocessing import StandardScaler\n\ndef scale_columns(df, columns):\n  \"\"\"\n  Applies StandardScaler to specified columns in a DataFrame.\n\n  Args:\n      df (pandas.DataFrame): The DataFrame containing the features.\n      columns (list): A list of column names to be scaled.\n\n  Returns:\n      pandas.DataFrame: The DataFrame with scaled columns.\n      StandardScaler: The fitted StandardScaler object (optional).\n  \"\"\"\n  scaler = StandardScaler()\n  scaled_df = df.copy()\n  scaled_df[columns] = scaler.fit_transform(df[columns])\n  return scaled_df, scaler  # Optional to return the scaler object\n\n# # Example usage\n# df = pd.DataFrame({'col1': [1, 2, 3], 'col2': [10, 20, 30], 'col3': ['a', 'b', 'c']})\n# scaled_df, scaler = scale_columns(df, ['col1', 'col2'])\n# print(scaled_df)\n",
   "metadata": {
    "ExecuteTime": {
     "end_time": "2024-05-15T05:09:13.688723Z",
     "start_time": "2024-05-15T05:09:13.684271Z"
    }
   },
   "execution_count": null,
   "outputs": [],
   "id": "c9f76ceb9dbc9a57"
  },
  {
   "cell_type": "markdown",
   "source": "# Correlation Matrix",
   "metadata": {},
   "id": "d5badbfcae295ac9"
  },
  {
   "cell_type": "code",
   "source": "X_train.corr(numeric_only=True)",
   "metadata": {
    "ExecuteTime": {
     "end_time": "2024-05-15T05:09:13.703600Z",
     "start_time": "2024-05-15T05:09:13.689754Z"
    }
   },
   "execution_count": null,
   "outputs": [],
   "id": "47ac7feaec045831"
  },
  {
   "cell_type": "markdown",
   "source": "As you can see there a strong correlation between price and carat, x, y, z",
   "metadata": {},
   "id": "52d2bfebfadf0bcb"
  },
  {
   "cell_type": "code",
   "source": "sns.pairplot(data=X_train, y_vars='price', diag_kind='hist', height=(4))",
   "metadata": {
    "ExecuteTime": {
     "end_time": "2024-05-15T05:09:16.096726Z",
     "start_time": "2024-05-15T05:09:13.704706Z"
    }
   },
   "execution_count": null,
   "outputs": [],
   "id": "3dce299364878a83"
  },
  {
   "cell_type": "markdown",
   "source": "# Carat Feature",
   "metadata": {},
   "id": "5abeaa531241540e"
  },
  {
   "cell_type": "markdown",
   "source": "## some outliers\n        (\"cut_cat\", OrdinalEncoder(categories=[['Fair', 'Good', 'Very Good', 'Premium', 'Ideal']]), ['cut']),\n        (\"color_cat\", OrdinalEncoder(categories=[['J', 'I', 'H', 'G', 'F', 'E', 'D']]), ['color']),\n        (\"clarity_cat\", OrdinalEncoder(categories=[['I1', 'SI2', 'SI1', 'VS2', 'VS1', 'VVS2', 'VVS1', 'IF']]), ['clarity']),",
   "metadata": {},
   "id": "566617c2da7185a"
  },
  {
   "cell_type": "code",
   "source": "sns.pairplot(data=X_train, y_vars='price', x_vars='carat')",
   "metadata": {
    "ExecuteTime": {
     "end_time": "2024-05-15T05:09:16.400038Z",
     "start_time": "2024-05-15T05:09:16.097576Z"
    }
   },
   "execution_count": null,
   "outputs": [],
   "id": "e3d3a3f46e58db87"
  },
  {
   "cell_type": "code",
   "source": "X_train[X_train['carat'] >= 3].sort_values(by='price')",
   "metadata": {
    "ExecuteTime": {
     "end_time": "2024-05-15T05:09:16.415751Z",
     "start_time": "2024-05-15T05:09:16.402194Z"
    }
   },
   "execution_count": null,
   "outputs": [],
   "id": "903bcb311ff172c0"
  },
  {
   "cell_type": "markdown",
   "source": "If you look at the previous data you will notice some unlogical data (look at the first two rows) ",
   "metadata": {},
   "id": "ff1587a68dc45767"
  },
  {
   "cell_type": "code",
   "source": "feature_name = 'carat'\nQ1 = X_train[feature_name].quantile(0.25)\nQ2 = X_train[feature_name].quantile(0.50)\nQ3 = X_train[feature_name].quantile(0.75)\nprint(\"Q1:\", Q1, \"Q2:\", Q2, \"Q3:\", Q3)\nsns.boxplot(data=X_train, y=feature_name)\n",
   "metadata": {
    "ExecuteTime": {
     "end_time": "2024-05-15T05:09:16.539153Z",
     "start_time": "2024-05-15T05:09:16.416736Z"
    }
   },
   "execution_count": null,
   "outputs": [],
   "id": "ad9790a47ab7e1fb"
  },
  {
   "cell_type": "code",
   "source": "X_train_filtered = winsorize(X_train.copy(), 'carat', lower_bound=0.4 ,upper_bound=4)",
   "metadata": {
    "ExecuteTime": {
     "end_time": "2024-05-15T05:09:16.544876Z",
     "start_time": "2024-05-15T05:09:16.540250Z"
    }
   },
   "execution_count": null,
   "outputs": [],
   "id": "35a0d69ee22cb827"
  },
  {
   "cell_type": "code",
   "source": "sns.pairplot(data=X_train_filtered, hue='cut', y_vars='carat', diag_kind='hist')",
   "metadata": {
    "ExecuteTime": {
     "end_time": "2024-05-15T05:09:30.664234Z",
     "start_time": "2024-05-15T05:09:16.546004Z"
    }
   },
   "execution_count": null,
   "outputs": [],
   "id": "e7b4b98bd448dec6"
  },
  {
   "cell_type": "markdown",
   "source": "# Depth Feature",
   "metadata": {},
   "id": "e2aad3f7047419b2"
  },
  {
   "cell_type": "code",
   "source": "sns.pairplot(data=X_train, hue='cut', y_vars='depth', diag_kind='hist')",
   "metadata": {
    "ExecuteTime": {
     "end_time": "2024-05-15T05:09:32.993841Z",
     "start_time": "2024-05-15T05:09:30.665310Z"
    }
   },
   "execution_count": null,
   "outputs": [],
   "id": "1380bc0ec4ff0b35"
  },
  {
   "cell_type": "markdown",
   "source": "As you can see the depth column don't affect the price and have almost a zero correlation so we can delete this column ",
   "metadata": {},
   "id": "163e6ba7e42a0fe5"
  },
  {
   "cell_type": "code",
   "source": "feature_name = 'depth'\nQ1 = X_train[feature_name].quantile(0.25)\nQ2 = X_train[feature_name].quantile(0.50)\nQ3 = X_train[feature_name].quantile(0.75)\nprint(\"Q1:\", Q1, \"Q2:\", Q2, \"Q3:\", Q3)\nsns.boxplot(data=X_train, y=feature_name)\n",
   "metadata": {},
   "execution_count": null,
   "outputs": [],
   "id": "952def2be807d85"
  },
  {
   "cell_type": "code",
   "source": "X_train_filtered = winsorize(X_train.copy(), 'depth', lower_bound=50 ,upper_bound=72)",
   "metadata": {},
   "execution_count": null,
   "outputs": [],
   "id": "6fa64494175881e9"
  },
  {
   "cell_type": "code",
   "source": "sns.pairplot(data=X_train_filtered, hue='cut', y_vars='depth', diag_kind='hist')",
   "metadata": {},
   "execution_count": null,
   "outputs": [],
   "id": "4a8497f10def859"
  },
  {
   "cell_type": "markdown",
   "source": "# Table Feature",
   "metadata": {},
   "id": "764311e209413011"
  },
  {
   "cell_type": "code",
   "source": "sns.pairplot(data=X_train, hue='cut', y_vars='table', diag_kind='hist')",
   "metadata": {},
   "execution_count": null,
   "outputs": [],
   "id": "7be31c84031af8bc"
  },
  {
   "cell_type": "markdown",
   "source": "the table feature doesn't affect the price and it depends on the cut feature so we can delete it",
   "metadata": {},
   "id": "424a4b24aab9518a"
  },
  {
   "cell_type": "code",
   "source": "feature_name = 'table'\nQ1 = X_train[feature_name].quantile(0.25)\nQ2 = X_train[feature_name].quantile(0.50)\nQ3 = X_train[feature_name].quantile(0.75)\nprint(\"Q1:\", Q1, \"Q2:\", Q2, \"Q3:\", Q3)\nsns.boxplot(data=X_train, y=feature_name)",
   "metadata": {},
   "execution_count": null,
   "outputs": [],
   "id": "b2474b4e5c344040"
  },
  {
   "cell_type": "code",
   "source": "X_train_filtered = winsorize(X_train.copy(), 'table', upper_bound=80)",
   "metadata": {},
   "execution_count": null,
   "outputs": [],
   "id": "a245cded26671490"
  },
  {
   "cell_type": "code",
   "source": "sns.pairplot(data=X_train_filtered, hue='cut', y_vars='table', diag_kind='hist')",
   "metadata": {},
   "execution_count": null,
   "outputs": [],
   "id": "aeb2b4c77849c12b"
  },
  {
   "cell_type": "markdown",
   "source": "# X, Y, Z Features",
   "metadata": {},
   "id": "7f2b635a4134be9c"
  },
  {
   "cell_type": "markdown",
   "source": "## X Feature",
   "metadata": {},
   "id": "b39826f1b9c3acaa"
  },
  {
   "cell_type": "code",
   "source": "sns.pairplot(data=X_train, y_vars='price', x_vars='x')",
   "metadata": {},
   "execution_count": null,
   "outputs": [],
   "id": "9be302da1991c177"
  },
  {
   "cell_type": "code",
   "source": "X_train[X_train['x'] < 3].sort_values(by='price')",
   "metadata": {},
   "execution_count": null,
   "outputs": [],
   "id": "4baf4d2ed14e0b1d"
  },
  {
   "cell_type": "markdown",
   "source": "You will have to remove zero x",
   "metadata": {},
   "id": "f791fc15050d361"
  },
  {
   "cell_type": "code",
   "source": "feature_name = 'x'\nQ1 = X_train[feature_name].quantile(0.25)\nQ2 = X_train[feature_name].quantile(0.50)\nQ3 = X_train[feature_name].quantile(0.75)\nprint(\"Q1:\", Q1, \"Q2:\", Q2, \"Q3:\", Q3)\nsns.boxplot(data=X_train, y=feature_name)",
   "metadata": {},
   "execution_count": null,
   "outputs": [],
   "id": "d7f14f9670f5e86d"
  },
  {
   "cell_type": "code",
   "source": "X_train_filtered = winsorize(X_train.copy(), 'x', lower_bound=4)",
   "metadata": {},
   "execution_count": null,
   "outputs": [],
   "id": "b5f7edb7961d148d"
  },
  {
   "cell_type": "code",
   "source": "sns.pairplot(data=X_train_filtered, hue='cut', y_vars='x', diag_kind='hist')\n",
   "metadata": {},
   "execution_count": null,
   "outputs": [],
   "id": "f346ca28d3365087"
  },
  {
   "cell_type": "markdown",
   "source": "## Y Feature",
   "metadata": {},
   "id": "2c0740f34281b9c6"
  },
  {
   "cell_type": "code",
   "source": "sns.pairplot(data=X_train, y_vars='price', x_vars='y', height=5)",
   "metadata": {},
   "execution_count": null,
   "outputs": [],
   "id": "de91323e57329fb6"
  },
  {
   "cell_type": "code",
   "source": "X_train[(X_train['y'] < 0.5) | (X_train['y'] > 20)].sort_values(by='price')",
   "metadata": {},
   "execution_count": null,
   "outputs": [],
   "id": "57b6d6cef6715cce"
  },
  {
   "cell_type": "markdown",
   "source": "Notice the y>20 or y<0.5 they are unlogical in prices",
   "metadata": {},
   "id": "634be654ffae3aa7"
  },
  {
   "cell_type": "code",
   "source": "feature_name = 'y'\nQ1 = X_train[feature_name].quantile(0.25)\nQ2 = X_train[feature_name].quantile(0.50)\nQ3 = X_train[feature_name].quantile(0.75)\nprint(\"Q1:\", Q1, \"Q2:\", Q2, \"Q3:\", Q3)\nsns.boxplot(data=X_train, y=feature_name)",
   "metadata": {},
   "execution_count": null,
   "outputs": [],
   "id": "6cbb722b57a050f3"
  },
  {
   "cell_type": "code",
   "source": "X_train_filtered = winsorize(X_train.copy(), 'y', lower_bound=4)",
   "metadata": {},
   "execution_count": null,
   "outputs": [],
   "id": "c36cb185ca0d3f67"
  },
  {
   "cell_type": "code",
   "source": "sns.pairplot(data=X_train_filtered, hue='cut', y_vars='y', diag_kind='hist')",
   "metadata": {},
   "execution_count": null,
   "outputs": [],
   "id": "33740a1c10aff134"
  },
  {
   "cell_type": "markdown",
   "source": "## Z Feature",
   "metadata": {},
   "id": "b5340c0128516f34"
  },
  {
   "cell_type": "code",
   "source": "sns.pairplot(data=X_train, y_vars='price', x_vars='z', height=5)",
   "metadata": {},
   "execution_count": null,
   "outputs": [],
   "id": "cb58cd6f4e5bb3f5"
  },
  {
   "cell_type": "code",
   "source": "X_train[(X_train['z'] < 1.55) | (X_train['z'] > 6)].sort_values(by='price')",
   "metadata": {},
   "execution_count": null,
   "outputs": [],
   "id": "beffbb0f7c5c3c9d"
  },
  {
   "cell_type": "code",
   "source": "feature_name = 'z'\nQ1 = X_train[feature_name].quantile(0.25)\nQ2 = X_train[feature_name].quantile(0.50)\nQ3 = X_train[feature_name].quantile(0.75)\nprint(\"Q1:\", Q1, \"Q2:\", Q2, \"Q3:\", Q3)\nsns.boxplot(data=X_train, y=feature_name)",
   "metadata": {},
   "execution_count": null,
   "outputs": [],
   "id": "d45a2be91ef6c727"
  },
  {
   "cell_type": "code",
   "source": "X_train_filtered = winsorize(X_train.copy(), 'z', lower_bound=2)",
   "metadata": {},
   "execution_count": null,
   "outputs": [],
   "id": "be19b7560faf2e9f"
  },
  {
   "cell_type": "code",
   "source": "sns.pairplot(data=X_train_filtered, hue='cut', y_vars='z', diag_kind='hist')",
   "metadata": {},
   "execution_count": null,
   "outputs": [],
   "id": "6e22b7cbc6fdef99"
  },
  {
   "cell_type": "markdown",
   "source": "# Extra Volume Feature with caping outliers",
   "metadata": {},
   "id": "99803ff127c0216e"
  },
  {
   "cell_type": "code",
   "source": "# X_train_filtered = winsorize(X_train.copy(), 'x', lower_bound=4)\n# X_train_filtered = winsorize(X_train_filtered.copy(), 'y', lower_bound=4)\n# X_train_filtered = winsorize(X_train_filtered.copy(), 'z')\n# X_train_filtered['volume'] = X_train_filtered['x'] * X_train_filtered['y'] * X_train_filtered['z']\n# # X_train_filtered[\"volume\"] = X_train_filtered[\"volume\"].apply(np.log1p)\n# X_train_filtered = winsorize(X_train_filtered, 'carat', lower_bound=0.4 ,upper_bound=4)\n# X_train_filtered = winsorize(X_train_filtered, 'depth', lower_bound=50 ,upper_bound=72)\n# X_train_filtered = winsorize(X_train_filtered, 'table', upper_bound=80)\n\n# sns.pairplot(data=X_train_filtered, hue='cut', diag_kind='hist')",
   "metadata": {},
   "execution_count": null,
   "outputs": [],
   "id": "ad54ccb8db526c30"
  },
  {
   "cell_type": "markdown",
   "source": "# Dropping outliers\n",
   "metadata": {},
   "id": "7ae08b98bd21957b"
  },
  {
   "cell_type": "code",
   "source": "X_train_filtered = X_train.copy()\nX_train_filtered = X_train_filtered[X_train_filtered['x'] >= 3 ]\nX_train_filtered = X_train_filtered[(X_train_filtered['y'] >= 0.5) & (X_train_filtered['y'] <= 20)]\nX_train_filtered = X_train_filtered[(X_train_filtered['z'] >= 1.55) & (X_train_filtered['z'] <= 6)]\nX_train_filtered = X_train_filtered[X_train_filtered['carat'] < 3]\n\n# sns.pairplot(data=X_train_filtered, hue='cut', diag_kind='hist')\n\n\n# removing Outliers automatically\n# X_train_filtered = X_train.copy()\n# X_train_filtered = X_train.select_dtypes(include=np.number).copy()\n# from sklearn.ensemble import IsolationForest\n# isolation_forest = IsolationForest(random_state=42)\n# outlier_pred = isolation_forest.fit_predict(X_train_filtered)\n# X_train_filtered = X_train_filtered.iloc[outlier_pred == 1]\n# sns.pairplot(data=X_train_filtered, diag_kind='hist')",
   "metadata": {
    "ExecuteTime": {
     "end_time": "2024-05-15T05:10:09.025674Z",
     "start_time": "2024-05-15T05:10:09.013234Z"
    },
    "execution": {
     "iopub.status.busy": "2024-05-15T05:56:51.754978Z",
     "iopub.execute_input": "2024-05-15T05:56:51.755344Z",
     "iopub.status.idle": "2024-05-15T05:56:51.779921Z",
     "shell.execute_reply.started": "2024-05-15T05:56:51.755318Z",
     "shell.execute_reply": "2024-05-15T05:56:51.779151Z"
    },
    "trusted": true
   },
   "execution_count": 8,
   "outputs": [],
   "id": "cc77201464fe7133"
  },
  {
   "cell_type": "code",
   "source": "X_train_filtered.info()",
   "metadata": {
    "execution": {
     "iopub.status.busy": "2024-05-15T05:57:00.609619Z",
     "iopub.execute_input": "2024-05-15T05:57:00.610011Z",
     "iopub.status.idle": "2024-05-15T05:57:00.636148Z",
     "shell.execute_reply.started": "2024-05-15T05:57:00.609984Z",
     "shell.execute_reply": "2024-05-15T05:57:00.634895Z"
    },
    "trusted": true
   },
   "execution_count": 9,
   "outputs": [
    {
     "name": "stdout",
     "text": "<class 'pandas.core.frame.DataFrame'>\nIndex: 43101 entries, 0 to 43151\nData columns (total 10 columns):\n #   Column   Non-Null Count  Dtype  \n---  ------   --------------  -----  \n 0   carat    43101 non-null  float64\n 1   cut      43101 non-null  object \n 2   color    43101 non-null  object \n 3   clarity  43101 non-null  object \n 4   depth    43101 non-null  float64\n 5   table    43101 non-null  float64\n 6   price    43101 non-null  int64  \n 7   x        43101 non-null  float64\n 8   y        43101 non-null  float64\n 9   z        43101 non-null  float64\ndtypes: float64(6), int64(1), object(3)\nmemory usage: 3.6+ MB\n",
     "output_type": "stream"
    }
   ],
   "id": "ecc7d289e0f7b475"
  },
  {
   "cell_type": "markdown",
   "source": " ",
   "metadata": {},
   "id": "569b0735a612d733"
  },
  {
   "cell_type": "markdown",
   "source": "# Pipeline",
   "metadata": {},
   "id": "5138df32473d8391"
  },
  {
   "cell_type": "code",
   "source": "from sklearn.impute import SimpleImputer\nfrom sklearn.compose import ColumnTransformer\nfrom sklearn.preprocessing import FunctionTransformer, StandardScaler, OrdinalEncoder\nfrom sklearn.pipeline import make_pipeline\n\nlog_pipeline = make_pipeline(\n    SimpleImputer(strategy=\"median\"),\n    StandardScaler(),\n    FunctionTransformer(np.log1p, feature_names_out=\"one-to-one\"),\n    )\n# Function to drop 'table' and 'depth' columns\ndef drop_table_depth(X):\n    return X.drop(X.columns ,axis=1)\n\ndef drop_feature_names_out(function_transformer, feature_names_in):\n    return []  # feature names out\n\npreprocessing = ColumnTransformer([\n        (\"drop_table_depth\", FunctionTransformer(drop_table_depth, feature_names_out=drop_feature_names_out), ['table', 'depth']),\n        (\"cut_cat\", OrdinalEncoder(categories=[['Fair', 'Good', 'Very Good', 'Premium', 'Ideal']]), ['cut']),\n        (\"color_cat\", OrdinalEncoder(categories=[['J', 'I', 'H', 'G', 'F', 'E', 'D']]), ['color']),\n        (\"clarity_cat\", OrdinalEncoder(categories=[['I1', 'SI2', 'SI1', 'VS2', 'VS1', 'VVS2', 'VVS1', 'IF']]), ['clarity']),\n    ],\n    remainder=StandardScaler()\n    # remainder='passthrough'\n) ",
   "metadata": {
    "ExecuteTime": {
     "end_time": "2024-05-15T05:10:13.091640Z",
     "start_time": "2024-05-15T05:10:13.084784Z"
    },
    "execution": {
     "iopub.status.busy": "2024-05-15T05:57:05.850606Z",
     "iopub.execute_input": "2024-05-15T05:57:05.850987Z",
     "iopub.status.idle": "2024-05-15T05:57:06.198297Z",
     "shell.execute_reply.started": "2024-05-15T05:57:05.850959Z",
     "shell.execute_reply": "2024-05-15T05:57:06.197568Z"
    },
    "trusted": true
   },
   "execution_count": 10,
   "outputs": [],
   "id": "8a0f76b9291f436b"
  },
  {
   "cell_type": "markdown",
   "source": "# Model",
   "metadata": {},
   "id": "84fbb9b328d4f1f1"
  },
  {
   "cell_type": "code",
   "source": "from sklearn.model_selection import train_test_split\nX_train, X_test, y_train, y_test = train_test_split(X_train_filtered.drop(['price'], axis=1), X_train_filtered['price'], test_size=0.2, random_state=42)       ",
   "metadata": {
    "ExecuteTime": {
     "end_time": "2024-05-15T05:10:15.712539Z",
     "start_time": "2024-05-15T05:10:15.704322Z"
    },
    "execution": {
     "iopub.status.busy": "2024-05-15T06:12:05.108774Z",
     "iopub.execute_input": "2024-05-15T06:12:05.109158Z",
     "iopub.status.idle": "2024-05-15T06:12:05.125116Z",
     "shell.execute_reply.started": "2024-05-15T06:12:05.109113Z",
     "shell.execute_reply": "2024-05-15T06:12:05.123971Z"
    },
    "trusted": true
   },
   "execution_count": 24,
   "outputs": [],
   "id": "41b49a18cbf8bbe4"
  },
  {
   "cell_type": "code",
   "source": "from sklearn.model_selection import cross_val_score\nfrom sklearn.ensemble import RandomForestRegressor    \nfrom sklearn.tree import DecisionTreeRegressor\nfrom sklearn.linear_model import LinearRegression\nfrom xgboost import XGBRFRegressor\n\nclf=make_pipeline(preprocessing, RandomForestRegressor(max_depth=60, max_features=4, n_estimators=960))\nclf_rmses = -cross_val_score(clf, X_train, y_train,\n                                scoring=\"neg_root_mean_squared_error\", cv=3)\n\npd.Series(clf_rmses).describe()",
   "metadata": {
    "ExecuteTime": {
     "end_time": "2024-05-15T05:10:19.351438Z",
     "start_time": "2024-05-15T05:10:19.347681Z"
    },
    "execution": {
     "iopub.status.busy": "2024-05-15T06:12:08.819400Z",
     "iopub.execute_input": "2024-05-15T06:12:08.820192Z",
     "iopub.status.idle": "2024-05-15T06:14:17.073447Z",
     "shell.execute_reply.started": "2024-05-15T06:12:08.820154Z",
     "shell.execute_reply": "2024-05-15T06:14:17.072708Z"
    },
    "trusted": true
   },
   "execution_count": 25,
   "outputs": [
    {
     "execution_count": 25,
     "output_type": "execute_result",
     "data": {
      "text/plain": "count      3.000000\nmean     552.092776\nstd        4.502913\nmin      549.481341\n25%      549.493026\n50%      549.504711\n75%      553.398493\nmax      557.292274\ndtype: float64"
     },
     "metadata": {}
    }
   ],
   "id": "231d7079d1953fab"
  },
  {
   "cell_type": "code",
   "source": "clf.fit(X_train, y_train)",
   "metadata": {
    "ExecuteTime": {
     "end_time": "2024-05-15T05:11:09.346186Z",
     "start_time": "2024-05-15T05:10:22.931887Z"
    },
    "execution": {
     "iopub.status.busy": "2024-05-15T06:14:17.074835Z",
     "iopub.execute_input": "2024-05-15T06:14:17.075096Z",
     "iopub.status.idle": "2024-05-15T06:15:16.969653Z",
     "shell.execute_reply.started": "2024-05-15T06:14:17.075066Z",
     "shell.execute_reply": "2024-05-15T06:15:16.968744Z"
    },
    "trusted": true
   },
   "execution_count": 26,
   "outputs": [
    {
     "execution_count": 26,
     "output_type": "execute_result",
     "data": {
      "text/plain": "Pipeline(steps=[('columntransformer',\n                 ColumnTransformer(remainder=StandardScaler(),\n                                   transformers=[('drop_table_depth',\n                                                  FunctionTransformer(feature_names_out=<function drop_feature_names_out at 0x7d67370e4700>,\n                                                                      func=<function drop_table_depth at 0x7d6756b03eb0>),\n                                                  ['table', 'depth']),\n                                                 ('cut_cat',\n                                                  OrdinalEncoder(categories=[['Fair',\n                                                                              'Good',\n                                                                              'Very '\n                                                                              'Good',\n                                                                              'Premium',\n                                                                              'Ideal']]),\n                                                  ['cut']),\n                                                 ('color_cat',\n                                                  OrdinalEncoder(categories=[['J',\n                                                                              'I',\n                                                                              'H',\n                                                                              'G',\n                                                                              'F',\n                                                                              'E',\n                                                                              'D']]),\n                                                  ['color']),\n                                                 ('clarity_cat',\n                                                  OrdinalEncoder(categories=[['I1',\n                                                                              'SI2',\n                                                                              'SI1',\n                                                                              'VS2',\n                                                                              'VS1',\n                                                                              'VVS2',\n                                                                              'VVS1',\n                                                                              'IF']]),\n                                                  ['clarity'])])),\n                ('randomforestregressor',\n                 RandomForestRegressor(max_depth=60, max_features=4,\n                                       n_estimators=960))])",
      "text/html": "<style>#sk-container-id-2 {color: black;background-color: white;}#sk-container-id-2 pre{padding: 0;}#sk-container-id-2 div.sk-toggleable {background-color: white;}#sk-container-id-2 label.sk-toggleable__label {cursor: pointer;display: block;width: 100%;margin-bottom: 0;padding: 0.3em;box-sizing: border-box;text-align: center;}#sk-container-id-2 label.sk-toggleable__label-arrow:before {content: \"▸\";float: left;margin-right: 0.25em;color: #696969;}#sk-container-id-2 label.sk-toggleable__label-arrow:hover:before {color: black;}#sk-container-id-2 div.sk-estimator:hover label.sk-toggleable__label-arrow:before {color: black;}#sk-container-id-2 div.sk-toggleable__content {max-height: 0;max-width: 0;overflow: hidden;text-align: left;background-color: #f0f8ff;}#sk-container-id-2 div.sk-toggleable__content pre {margin: 0.2em;color: black;border-radius: 0.25em;background-color: #f0f8ff;}#sk-container-id-2 input.sk-toggleable__control:checked~div.sk-toggleable__content {max-height: 200px;max-width: 100%;overflow: auto;}#sk-container-id-2 input.sk-toggleable__control:checked~label.sk-toggleable__label-arrow:before {content: \"▾\";}#sk-container-id-2 div.sk-estimator input.sk-toggleable__control:checked~label.sk-toggleable__label {background-color: #d4ebff;}#sk-container-id-2 div.sk-label input.sk-toggleable__control:checked~label.sk-toggleable__label {background-color: #d4ebff;}#sk-container-id-2 input.sk-hidden--visually {border: 0;clip: rect(1px 1px 1px 1px);clip: rect(1px, 1px, 1px, 1px);height: 1px;margin: -1px;overflow: hidden;padding: 0;position: absolute;width: 1px;}#sk-container-id-2 div.sk-estimator {font-family: monospace;background-color: #f0f8ff;border: 1px dotted black;border-radius: 0.25em;box-sizing: border-box;margin-bottom: 0.5em;}#sk-container-id-2 div.sk-estimator:hover {background-color: #d4ebff;}#sk-container-id-2 div.sk-parallel-item::after {content: \"\";width: 100%;border-bottom: 1px solid gray;flex-grow: 1;}#sk-container-id-2 div.sk-label:hover label.sk-toggleable__label {background-color: #d4ebff;}#sk-container-id-2 div.sk-serial::before {content: \"\";position: absolute;border-left: 1px solid gray;box-sizing: border-box;top: 0;bottom: 0;left: 50%;z-index: 0;}#sk-container-id-2 div.sk-serial {display: flex;flex-direction: column;align-items: center;background-color: white;padding-right: 0.2em;padding-left: 0.2em;position: relative;}#sk-container-id-2 div.sk-item {position: relative;z-index: 1;}#sk-container-id-2 div.sk-parallel {display: flex;align-items: stretch;justify-content: center;background-color: white;position: relative;}#sk-container-id-2 div.sk-item::before, #sk-container-id-2 div.sk-parallel-item::before {content: \"\";position: absolute;border-left: 1px solid gray;box-sizing: border-box;top: 0;bottom: 0;left: 50%;z-index: -1;}#sk-container-id-2 div.sk-parallel-item {display: flex;flex-direction: column;z-index: 1;position: relative;background-color: white;}#sk-container-id-2 div.sk-parallel-item:first-child::after {align-self: flex-end;width: 50%;}#sk-container-id-2 div.sk-parallel-item:last-child::after {align-self: flex-start;width: 50%;}#sk-container-id-2 div.sk-parallel-item:only-child::after {width: 0;}#sk-container-id-2 div.sk-dashed-wrapped {border: 1px dashed gray;margin: 0 0.4em 0.5em 0.4em;box-sizing: border-box;padding-bottom: 0.4em;background-color: white;}#sk-container-id-2 div.sk-label label {font-family: monospace;font-weight: bold;display: inline-block;line-height: 1.2em;}#sk-container-id-2 div.sk-label-container {text-align: center;}#sk-container-id-2 div.sk-container {/* jupyter's `normalize.less` sets `[hidden] { display: none; }` but bootstrap.min.css set `[hidden] { display: none !important; }` so we also need the `!important` here to be able to override the default hidden behavior on the sphinx rendered scikit-learn.org. See: https://github.com/scikit-learn/scikit-learn/issues/21755 */display: inline-block !important;position: relative;}#sk-container-id-2 div.sk-text-repr-fallback {display: none;}</style><div id=\"sk-container-id-2\" class=\"sk-top-container\"><div class=\"sk-text-repr-fallback\"><pre>Pipeline(steps=[(&#x27;columntransformer&#x27;,\n                 ColumnTransformer(remainder=StandardScaler(),\n                                   transformers=[(&#x27;drop_table_depth&#x27;,\n                                                  FunctionTransformer(feature_names_out=&lt;function drop_feature_names_out at 0x7d67370e4700&gt;,\n                                                                      func=&lt;function drop_table_depth at 0x7d6756b03eb0&gt;),\n                                                  [&#x27;table&#x27;, &#x27;depth&#x27;]),\n                                                 (&#x27;cut_cat&#x27;,\n                                                  OrdinalEncoder(categories=[[&#x27;Fair&#x27;,\n                                                                              &#x27;Good&#x27;,\n                                                                              &#x27;Very &#x27;\n                                                                              &#x27;Good&#x27;,\n                                                                              &#x27;Premium&#x27;,\n                                                                              &#x27;Ideal&#x27;]]),\n                                                  [&#x27;cut&#x27;]),\n                                                 (&#x27;color_cat&#x27;,\n                                                  OrdinalEncoder(categories=[[&#x27;J&#x27;,\n                                                                              &#x27;I&#x27;,\n                                                                              &#x27;H&#x27;,\n                                                                              &#x27;G&#x27;,\n                                                                              &#x27;F&#x27;,\n                                                                              &#x27;E&#x27;,\n                                                                              &#x27;D&#x27;]]),\n                                                  [&#x27;color&#x27;]),\n                                                 (&#x27;clarity_cat&#x27;,\n                                                  OrdinalEncoder(categories=[[&#x27;I1&#x27;,\n                                                                              &#x27;SI2&#x27;,\n                                                                              &#x27;SI1&#x27;,\n                                                                              &#x27;VS2&#x27;,\n                                                                              &#x27;VS1&#x27;,\n                                                                              &#x27;VVS2&#x27;,\n                                                                              &#x27;VVS1&#x27;,\n                                                                              &#x27;IF&#x27;]]),\n                                                  [&#x27;clarity&#x27;])])),\n                (&#x27;randomforestregressor&#x27;,\n                 RandomForestRegressor(max_depth=60, max_features=4,\n                                       n_estimators=960))])</pre><b>In a Jupyter environment, please rerun this cell to show the HTML representation or trust the notebook. <br />On GitHub, the HTML representation is unable to render, please try loading this page with nbviewer.org.</b></div><div class=\"sk-container\" hidden><div class=\"sk-item sk-dashed-wrapped\"><div class=\"sk-label-container\"><div class=\"sk-label sk-toggleable\"><input class=\"sk-toggleable__control sk-hidden--visually\" id=\"sk-estimator-id-14\" type=\"checkbox\" ><label for=\"sk-estimator-id-14\" class=\"sk-toggleable__label sk-toggleable__label-arrow\">Pipeline</label><div class=\"sk-toggleable__content\"><pre>Pipeline(steps=[(&#x27;columntransformer&#x27;,\n                 ColumnTransformer(remainder=StandardScaler(),\n                                   transformers=[(&#x27;drop_table_depth&#x27;,\n                                                  FunctionTransformer(feature_names_out=&lt;function drop_feature_names_out at 0x7d67370e4700&gt;,\n                                                                      func=&lt;function drop_table_depth at 0x7d6756b03eb0&gt;),\n                                                  [&#x27;table&#x27;, &#x27;depth&#x27;]),\n                                                 (&#x27;cut_cat&#x27;,\n                                                  OrdinalEncoder(categories=[[&#x27;Fair&#x27;,\n                                                                              &#x27;Good&#x27;,\n                                                                              &#x27;Very &#x27;\n                                                                              &#x27;Good&#x27;,\n                                                                              &#x27;Premium&#x27;,\n                                                                              &#x27;Ideal&#x27;]]),\n                                                  [&#x27;cut&#x27;]),\n                                                 (&#x27;color_cat&#x27;,\n                                                  OrdinalEncoder(categories=[[&#x27;J&#x27;,\n                                                                              &#x27;I&#x27;,\n                                                                              &#x27;H&#x27;,\n                                                                              &#x27;G&#x27;,\n                                                                              &#x27;F&#x27;,\n                                                                              &#x27;E&#x27;,\n                                                                              &#x27;D&#x27;]]),\n                                                  [&#x27;color&#x27;]),\n                                                 (&#x27;clarity_cat&#x27;,\n                                                  OrdinalEncoder(categories=[[&#x27;I1&#x27;,\n                                                                              &#x27;SI2&#x27;,\n                                                                              &#x27;SI1&#x27;,\n                                                                              &#x27;VS2&#x27;,\n                                                                              &#x27;VS1&#x27;,\n                                                                              &#x27;VVS2&#x27;,\n                                                                              &#x27;VVS1&#x27;,\n                                                                              &#x27;IF&#x27;]]),\n                                                  [&#x27;clarity&#x27;])])),\n                (&#x27;randomforestregressor&#x27;,\n                 RandomForestRegressor(max_depth=60, max_features=4,\n                                       n_estimators=960))])</pre></div></div></div><div class=\"sk-serial\"><div class=\"sk-item sk-dashed-wrapped\"><div class=\"sk-label-container\"><div class=\"sk-label sk-toggleable\"><input class=\"sk-toggleable__control sk-hidden--visually\" id=\"sk-estimator-id-15\" type=\"checkbox\" ><label for=\"sk-estimator-id-15\" class=\"sk-toggleable__label sk-toggleable__label-arrow\">columntransformer: ColumnTransformer</label><div class=\"sk-toggleable__content\"><pre>ColumnTransformer(remainder=StandardScaler(),\n                  transformers=[(&#x27;drop_table_depth&#x27;,\n                                 FunctionTransformer(feature_names_out=&lt;function drop_feature_names_out at 0x7d67370e4700&gt;,\n                                                     func=&lt;function drop_table_depth at 0x7d6756b03eb0&gt;),\n                                 [&#x27;table&#x27;, &#x27;depth&#x27;]),\n                                (&#x27;cut_cat&#x27;,\n                                 OrdinalEncoder(categories=[[&#x27;Fair&#x27;, &#x27;Good&#x27;,\n                                                             &#x27;Very Good&#x27;,\n                                                             &#x27;Premium&#x27;,\n                                                             &#x27;Ideal&#x27;]]),\n                                 [&#x27;cut&#x27;]),\n                                (&#x27;color_cat&#x27;,\n                                 OrdinalEncoder(categories=[[&#x27;J&#x27;, &#x27;I&#x27;, &#x27;H&#x27;, &#x27;G&#x27;,\n                                                             &#x27;F&#x27;, &#x27;E&#x27;, &#x27;D&#x27;]]),\n                                 [&#x27;color&#x27;]),\n                                (&#x27;clarity_cat&#x27;,\n                                 OrdinalEncoder(categories=[[&#x27;I1&#x27;, &#x27;SI2&#x27;, &#x27;SI1&#x27;,\n                                                             &#x27;VS2&#x27;, &#x27;VS1&#x27;,\n                                                             &#x27;VVS2&#x27;, &#x27;VVS1&#x27;,\n                                                             &#x27;IF&#x27;]]),\n                                 [&#x27;clarity&#x27;])])</pre></div></div></div><div class=\"sk-parallel\"><div class=\"sk-parallel-item\"><div class=\"sk-item\"><div class=\"sk-label-container\"><div class=\"sk-label sk-toggleable\"><input class=\"sk-toggleable__control sk-hidden--visually\" id=\"sk-estimator-id-16\" type=\"checkbox\" ><label for=\"sk-estimator-id-16\" class=\"sk-toggleable__label sk-toggleable__label-arrow\">drop_table_depth</label><div class=\"sk-toggleable__content\"><pre>[&#x27;table&#x27;, &#x27;depth&#x27;]</pre></div></div></div><div class=\"sk-serial\"><div class=\"sk-item\"><div class=\"sk-estimator sk-toggleable\"><input class=\"sk-toggleable__control sk-hidden--visually\" id=\"sk-estimator-id-17\" type=\"checkbox\" ><label for=\"sk-estimator-id-17\" class=\"sk-toggleable__label sk-toggleable__label-arrow\">FunctionTransformer</label><div class=\"sk-toggleable__content\"><pre>FunctionTransformer(feature_names_out=&lt;function drop_feature_names_out at 0x7d67370e4700&gt;,\n                    func=&lt;function drop_table_depth at 0x7d6756b03eb0&gt;)</pre></div></div></div></div></div></div><div class=\"sk-parallel-item\"><div class=\"sk-item\"><div class=\"sk-label-container\"><div class=\"sk-label sk-toggleable\"><input class=\"sk-toggleable__control sk-hidden--visually\" id=\"sk-estimator-id-18\" type=\"checkbox\" ><label for=\"sk-estimator-id-18\" class=\"sk-toggleable__label sk-toggleable__label-arrow\">cut_cat</label><div class=\"sk-toggleable__content\"><pre>[&#x27;cut&#x27;]</pre></div></div></div><div class=\"sk-serial\"><div class=\"sk-item\"><div class=\"sk-estimator sk-toggleable\"><input class=\"sk-toggleable__control sk-hidden--visually\" id=\"sk-estimator-id-19\" type=\"checkbox\" ><label for=\"sk-estimator-id-19\" class=\"sk-toggleable__label sk-toggleable__label-arrow\">OrdinalEncoder</label><div class=\"sk-toggleable__content\"><pre>OrdinalEncoder(categories=[[&#x27;Fair&#x27;, &#x27;Good&#x27;, &#x27;Very Good&#x27;, &#x27;Premium&#x27;, &#x27;Ideal&#x27;]])</pre></div></div></div></div></div></div><div class=\"sk-parallel-item\"><div class=\"sk-item\"><div class=\"sk-label-container\"><div class=\"sk-label sk-toggleable\"><input class=\"sk-toggleable__control sk-hidden--visually\" id=\"sk-estimator-id-20\" type=\"checkbox\" ><label for=\"sk-estimator-id-20\" class=\"sk-toggleable__label sk-toggleable__label-arrow\">color_cat</label><div class=\"sk-toggleable__content\"><pre>[&#x27;color&#x27;]</pre></div></div></div><div class=\"sk-serial\"><div class=\"sk-item\"><div class=\"sk-estimator sk-toggleable\"><input class=\"sk-toggleable__control sk-hidden--visually\" id=\"sk-estimator-id-21\" type=\"checkbox\" ><label for=\"sk-estimator-id-21\" class=\"sk-toggleable__label sk-toggleable__label-arrow\">OrdinalEncoder</label><div class=\"sk-toggleable__content\"><pre>OrdinalEncoder(categories=[[&#x27;J&#x27;, &#x27;I&#x27;, &#x27;H&#x27;, &#x27;G&#x27;, &#x27;F&#x27;, &#x27;E&#x27;, &#x27;D&#x27;]])</pre></div></div></div></div></div></div><div class=\"sk-parallel-item\"><div class=\"sk-item\"><div class=\"sk-label-container\"><div class=\"sk-label sk-toggleable\"><input class=\"sk-toggleable__control sk-hidden--visually\" id=\"sk-estimator-id-22\" type=\"checkbox\" ><label for=\"sk-estimator-id-22\" class=\"sk-toggleable__label sk-toggleable__label-arrow\">clarity_cat</label><div class=\"sk-toggleable__content\"><pre>[&#x27;clarity&#x27;]</pre></div></div></div><div class=\"sk-serial\"><div class=\"sk-item\"><div class=\"sk-estimator sk-toggleable\"><input class=\"sk-toggleable__control sk-hidden--visually\" id=\"sk-estimator-id-23\" type=\"checkbox\" ><label for=\"sk-estimator-id-23\" class=\"sk-toggleable__label sk-toggleable__label-arrow\">OrdinalEncoder</label><div class=\"sk-toggleable__content\"><pre>OrdinalEncoder(categories=[[&#x27;I1&#x27;, &#x27;SI2&#x27;, &#x27;SI1&#x27;, &#x27;VS2&#x27;, &#x27;VS1&#x27;, &#x27;VVS2&#x27;, &#x27;VVS1&#x27;,\n                            &#x27;IF&#x27;]])</pre></div></div></div></div></div></div><div class=\"sk-parallel-item\"><div class=\"sk-item\"><div class=\"sk-label-container\"><div class=\"sk-label sk-toggleable\"><input class=\"sk-toggleable__control sk-hidden--visually\" id=\"sk-estimator-id-24\" type=\"checkbox\" ><label for=\"sk-estimator-id-24\" class=\"sk-toggleable__label sk-toggleable__label-arrow\">remainder</label><div class=\"sk-toggleable__content\"><pre>[&#x27;carat&#x27;, &#x27;x&#x27;, &#x27;y&#x27;, &#x27;z&#x27;]</pre></div></div></div><div class=\"sk-serial\"><div class=\"sk-item\"><div class=\"sk-estimator sk-toggleable\"><input class=\"sk-toggleable__control sk-hidden--visually\" id=\"sk-estimator-id-25\" type=\"checkbox\" ><label for=\"sk-estimator-id-25\" class=\"sk-toggleable__label sk-toggleable__label-arrow\">StandardScaler</label><div class=\"sk-toggleable__content\"><pre>StandardScaler()</pre></div></div></div></div></div></div></div></div><div class=\"sk-item\"><div class=\"sk-estimator sk-toggleable\"><input class=\"sk-toggleable__control sk-hidden--visually\" id=\"sk-estimator-id-26\" type=\"checkbox\" ><label for=\"sk-estimator-id-26\" class=\"sk-toggleable__label sk-toggleable__label-arrow\">RandomForestRegressor</label><div class=\"sk-toggleable__content\"><pre>RandomForestRegressor(max_depth=60, max_features=4, n_estimators=960)</pre></div></div></div></div></div></div></div>"
     },
     "metadata": {}
    }
   ],
   "id": "3048815a58464548"
  },
  {
   "cell_type": "code",
   "source": "from sklearn.metrics import r2_score, mean_squared_error\ny_pred = clf.predict(X_train)\n\nprint(r2_score(y_train, y_pred), np.sqrt(mean_squared_error(y_train, y_pred)))",
   "metadata": {
    "ExecuteTime": {
     "end_time": "2024-05-15T05:11:14.636461Z",
     "start_time": "2024-05-15T05:11:09.347305Z"
    },
    "execution": {
     "iopub.status.busy": "2024-05-15T06:15:16.971280Z",
     "iopub.execute_input": "2024-05-15T06:15:16.971558Z",
     "iopub.status.idle": "2024-05-15T06:15:24.981354Z",
     "shell.execute_reply.started": "2024-05-15T06:15:16.971534Z",
     "shell.execute_reply": "2024-05-15T06:15:24.980380Z"
    },
    "trusted": true
   },
   "execution_count": 27,
   "outputs": [
    {
     "name": "stdout",
     "text": "0.9974820811241717 199.79551275982638\n",
     "output_type": "stream"
    }
   ],
   "id": "fea89a0201b5d84f"
  },
  {
   "cell_type": "code",
   "source": "y_pred = clf.predict(X_test)\nprint(r2_score(y_test, y_pred), np.sqrt(mean_squared_error(y_test, y_pred)))",
   "metadata": {
    "ExecuteTime": {
     "end_time": "2024-05-15T05:11:16.154148Z",
     "start_time": "2024-05-15T05:11:14.637337Z"
    },
    "execution": {
     "iopub.status.busy": "2024-05-15T06:15:24.982673Z",
     "iopub.execute_input": "2024-05-15T06:15:24.983061Z",
     "iopub.status.idle": "2024-05-15T06:15:27.496884Z",
     "shell.execute_reply.started": "2024-05-15T06:15:24.983028Z",
     "shell.execute_reply": "2024-05-15T06:15:27.495794Z"
    },
    "trusted": true
   },
   "execution_count": 28,
   "outputs": [
    {
     "name": "stdout",
     "text": "0.9810766586478132 542.9713072136323\n",
     "output_type": "stream"
    }
   ],
   "id": "59dee57730487336"
  },
  {
   "cell_type": "code",
   "source": "feature_importances = clf['randomforestregressor'].feature_importances_\nsorted(zip(feature_importances,\n           clf[\"columntransformer\"].get_feature_names_out()),\n           reverse=True)",
   "metadata": {
    "ExecuteTime": {
     "end_time": "2024-05-15T05:11:16.440380Z",
     "start_time": "2024-05-15T05:11:16.155277Z"
    },
    "execution": {
     "iopub.status.busy": "2024-05-15T06:15:36.711476Z",
     "iopub.execute_input": "2024-05-15T06:15:36.711852Z",
     "iopub.status.idle": "2024-05-15T06:15:37.240451Z",
     "shell.execute_reply.started": "2024-05-15T06:15:36.711821Z",
     "shell.execute_reply": "2024-05-15T06:15:37.239814Z"
    },
    "trusted": true
   },
   "execution_count": 29,
   "outputs": [
    {
     "execution_count": 29,
     "output_type": "execute_result",
     "data": {
      "text/plain": "[(0.38005102374822275, 'remainder__carat'),\n (0.3634585152702799, 'remainder__y'),\n (0.12724870645950778, 'remainder__x'),\n (0.06340587949844784, 'clarity_cat__clarity'),\n (0.03248712213064156, 'color_cat__color'),\n (0.030323513421329558, 'remainder__z'),\n (0.0030252394715705047, 'cut_cat__cut')]"
     },
     "metadata": {}
    }
   ],
   "id": "87ad40515cf0d291"
  },
  {
   "cell_type": "markdown",
   "source": "# Feature selection on importance and train again",
   "metadata": {},
   "id": "c1d2c831fe54ffe8"
  },
  {
   "cell_type": "code",
   "source": "from sklearn.feature_selection import SelectFromModel\n\n# Create a SelectFromModel instance\nselector = SelectFromModel(RandomForestRegressor(max_depth=60, max_features=4, n_estimators=960), threshold=0.03)  # Features with importance greater than the mean importance will be selected\n\nclf=make_pipeline(preprocessing, selector, RandomForestRegressor())\n\n# Fit the selector to the data\nclf.fit(X_train, y_train)\n\n# # Transform the data to select the most important features\n# X_selected = clf.transform(X_train)\n\ny_pred = clf.predict(X_train)\nprint(r2_score(y_train, y_pred), np.sqrt(mean_squared_error(y_train, y_pred)))\ny_pred = clf.predict(X_test)\nprint(r2_score(y_test, y_pred), np.sqrt(mean_squared_error(y_test, y_pred)))",
   "metadata": {
    "ExecuteTime": {
     "end_time": "2024-05-15T05:41:37.134461Z",
     "start_time": "2024-05-15T05:41:09.354409Z"
    },
    "execution": {
     "iopub.status.busy": "2024-05-15T06:15:51.438534Z",
     "iopub.execute_input": "2024-05-15T06:15:51.438938Z",
     "iopub.status.idle": "2024-05-15T06:17:02.492000Z",
     "shell.execute_reply.started": "2024-05-15T06:15:51.438906Z",
     "shell.execute_reply": "2024-05-15T06:17:02.490948Z"
    },
    "trusted": true
   },
   "execution_count": 30,
   "outputs": [
    {
     "name": "stdout",
     "text": "0.9969059760763669 221.4760131391504\n0.9789843563406936 572.2019276516567\n",
     "output_type": "stream"
    }
   ],
   "id": "c23bde5f2170d7c"
  },
  {
   "cell_type": "code",
   "source": "clf.get_params",
   "metadata": {
    "execution": {
     "iopub.status.busy": "2024-05-15T06:24:38.574236Z",
     "iopub.execute_input": "2024-05-15T06:24:38.574567Z",
     "iopub.status.idle": "2024-05-15T06:24:38.609448Z",
     "shell.execute_reply.started": "2024-05-15T06:24:38.574544Z",
     "shell.execute_reply": "2024-05-15T06:24:38.608665Z"
    },
    "trusted": true
   },
   "execution_count": 32,
   "outputs": [
    {
     "execution_count": 32,
     "output_type": "execute_result",
     "data": {
      "text/plain": "<bound method Pipeline.get_params of Pipeline(steps=[('columntransformer',\n                 ColumnTransformer(remainder=StandardScaler(),\n                                   transformers=[('drop_table_depth',\n                                                  FunctionTransformer(feature_names_out=<function drop_feature_names_out at 0x7d67370e4700>,\n                                                                      func=<function drop_table_depth at 0x7d6756b03eb0>),\n                                                  ['table', 'depth']),\n                                                 ('cut_cat',\n                                                  OrdinalEncoder(categories=[['Fair',\n                                                                              'Good',\n                                                                              'Very '\n                                                                              'Good',\n                                                                              'Premium',\n                                                                              'Id...\n                                                  OrdinalEncoder(categories=[['J',\n                                                                              'I',\n                                                                              'H',\n                                                                              'G',\n                                                                              'F',\n                                                                              'E',\n                                                                              'D']]),\n                                                  ['color']),\n                                                 ('clarity_cat',\n                                                  OrdinalEncoder(categories=[['I1',\n                                                                              'SI2',\n                                                                              'SI1',\n                                                                              'VS2',\n                                                                              'VS1',\n                                                                              'VVS2',\n                                                                              'VVS1',\n                                                                              'IF']]),\n                                                  ['clarity'])])),\n                ('selectfrommodel',\n                 SelectFromModel(estimator=RandomForestRegressor(max_depth=60,\n                                                                 max_features=4,\n                                                                 n_estimators=960),\n                                 threshold=0.03)),\n                ('randomforestregressor', RandomForestRegressor())])>"
     },
     "metadata": {}
    }
   ],
   "id": "43944bf463c0a20f"
  },
  {
   "cell_type": "markdown",
   "source": "# Fine Tune",
   "metadata": {},
   "id": "7d602738bff3f320"
  },
  {
   "cell_type": "code",
   "source": "from sklearn.model_selection import RandomizedSearchCV\nfrom scipy.stats import randint\n\n\n# Define the parameter grid for RandomizedSearchCV\nparam_distribs = {\n    'randomforestregressor__n_estimators': randint(100, 1000),\n    'randomforestregressor__max_features': randint(1, 11),\n    'randomforestregressor__max_depth': randint(5, 50),\n    'randomforestregressor__min_samples_split': randint(2, 20),\n    'randomforestregressor__min_samples_leaf': randint(1, 10),\n    'randomforestregressor__bootstrap': [True, False]\n}\n\n# Create a RandomizedSearchCV object\nrandom_search = RandomizedSearchCV(\n    clf, param_distributions=param_distribs, n_iter=50,\n    scoring=\"neg_root_mean_squared_error\", cv=5, random_state=42\n)\n\n# Fit the RandomizedSearchCV object to the data\nrandom_search.fit(X_train, y_train)\n\n# Get the best model\nbest_model = random_search.best_estimator_\n\n# Evaluate on the training set\ny_train_pred = best_model.predict(X_train)\ntrain_r2 = r2_score(y_train, y_train_pred)\ntrain_rmse = np.sqrt(mean_squared_error(y_train, y_train_pred))\nprint(f\"Train R2: {train_r2}, Train RMSE: {train_rmse}\")\n\n# Evaluate on the test set\ny_test_pred = best_model.predict(X_test)\ntest_r2 = r2_score(y_test, y_test_pred)\ntest_rmse = np.sqrt(mean_squared_error(y_test, y_test_pred))\nprint(f\"Test R2: {test_r2}, Test RMSE: {test_rmse}\")",
   "metadata": {
    "ExecuteTime": {
     "end_time": "2024-05-11T01:09:56.714745Z",
     "start_time": "2024-05-10T22:31:24.830654Z"
    },
    "execution": {
     "iopub.status.busy": "2024-05-15T06:28:56.794014Z",
     "iopub.execute_input": "2024-05-15T06:28:56.794380Z"
    },
    "trusted": true
   },
   "execution_count": null,
   "outputs": [],
   "id": "601fa8a8586a3cc8"
  },
  {
   "cell_type": "markdown",
   "source": "# Train on the overall training data",
   "metadata": {},
   "id": "6627a39c81d901f8"
  },
  {
   "cell_type": "code",
   "source": [
    "clf.fit(X_train_filtered.drop(['price'], axis=1), X_train_filtered['price'])\n",
    "\n",
    "# # Transform the data to select the most important features\n",
    "# X_selected = clf.transform(X_train)\n",
    "\n",
    "y_pred = clf.predict(X_train_filtered.drop(['price'], axis=1))\n",
    "\n",
    "print(r2_score(X_train_filtered['price'], y_pred), np.sqrt(mean_squared_error(X_train_filtered['price'], y_pred)))"
   ],
   "metadata": {
    "ExecuteTime": {
     "end_time": "2024-05-15T05:27:08.838585Z",
     "start_time": "2024-05-15T05:26:06.473103Z"
    }
   },
   "execution_count": null,
   "outputs": [],
   "id": "28b2743fac332ada"
  },
  {
   "cell_type": "code",
   "source": "clf_rmses = -cross_val_score(clf, X_train_filtered.drop(['price'], axis=1), X_train_filtered['price'],\n                                scoring=\"neg_root_mean_squared_error\", cv=3)\n\npd.Series(clf_rmses).describe()",
   "metadata": {
    "ExecuteTime": {
     "end_time": "2024-05-15T05:31:37.669047Z",
     "start_time": "2024-05-15T05:29:31.275040Z"
    }
   },
   "execution_count": null,
   "outputs": [],
   "id": "a54fecea35706c5"
  }
 ]
}
