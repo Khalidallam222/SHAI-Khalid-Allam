{
 "cells": [
  {
   "metadata": {},
   "cell_type": "markdown",
   "source": [
    "## Overview \n",
    "### 1) Understand the shape of the data (Histograms, box plots, etc.)\n",
    "\n",
    "### 2) Data Cleaning \n",
    "\n",
    "### 3) Data Exploration\n",
    "\n",
    "### 4) Feature Engineering \n",
    "\n",
    "### 5) Data Preprocessing for Model\n",
    "\n",
    "### 6) Basic Model Building \n",
    "\n",
    "### 7) Model Tuning \n",
    "\n",
    "### 8) Ensemble Modle Building \n",
    "\n",
    "### 9) Results "
   ],
   "id": "2bf9db9d760b0650"
  },
  {
   "metadata": {
    "ExecuteTime": {
     "end_time": "2024-07-03T16:59:48.829977Z",
     "start_time": "2024-07-03T16:59:48.825952Z"
    }
   },
   "cell_type": "code",
   "source": [
    "import numpy as np \n",
    "import pandas as pd \n",
    "import seaborn as sns \n",
    "import matplotlib.pyplot as plt"
   ],
   "id": "b5f5872218a6b347",
   "outputs": [],
   "execution_count": 1
  },
  {
   "metadata": {},
   "cell_type": "markdown",
   "source": "Here we import the data. For this analysis, we will be exclusively working with the Training set. We will be validating based on data from the training set as well. For our final submissions, we will make predictions based on the test set.",
   "id": "598fb3e0980559b6"
  },
  {
   "metadata": {
    "ExecuteTime": {
     "end_time": "2024-07-03T17:48:49.937109Z",
     "start_time": "2024-07-03T17:48:49.925721Z"
    }
   },
   "cell_type": "code",
   "source": [
    "training = pd.read_csv('/home/khalid/MyWork/SHAI Khalid Allam/Task 8: intro to classification/train.csv')\n",
    "test = pd.read_csv('/home/khalid/MyWork/SHAI Khalid Allam/Task 8: intro to classification/test.csv')\n",
    "\n",
    "training['train_test'] = 1\n",
    "test['train_test'] = 0\n",
    "test['Survived'] = np.NaN\n",
    "all_data = pd.concat([training,test])\n",
    "\n",
    "%matplotlib inline\n",
    "all_data.columns"
   ],
   "id": "6588124dfe37e644",
   "outputs": [
    {
     "data": {
      "text/plain": [
       "Index(['PassengerId', 'Survived', 'Pclass', 'Name', 'Sex', 'Age', 'SibSp',\n",
       "       'Parch', 'Ticket', 'Fare', 'Cabin', 'Embarked', 'train_test'],\n",
       "      dtype='object')"
      ]
     },
     "execution_count": 67,
     "metadata": {},
     "output_type": "execute_result"
    }
   ],
   "execution_count": 67
  },
  {
   "metadata": {},
   "cell_type": "markdown",
   "source": [
    "## Project Planning\n",
    "When starting any project, I like to outline the steps that I plan to take. Below is the rough outline that I created for this project using commented cells. "
   ],
   "id": "9b463ff6ebf84ff"
  },
  {
   "metadata": {
    "ExecuteTime": {
     "end_time": "2024-07-03T16:59:48.863963Z",
     "start_time": "2024-07-03T16:59:48.860788Z"
    }
   },
   "cell_type": "code",
   "source": [
    "# Understand nature of the data .info() .describe()\n",
    "# Histograms and boxplots \n",
    "# Value counts \n",
    "# Missing data \n",
    "# Correlation between the metrics \n",
    "# Explore interesting themes \n",
    "    # Wealthy survive? \n",
    "    # By location \n",
    "    # Age scatterplot with ticket price \n",
    "    # Young and wealthy Variable? \n",
    "    # Total spent? \n",
    "# Feature engineering \n",
    "# preprocess data together or use a transformer? \n",
    "    # use label for train and test   \n",
    "# Scaling?\n",
    "\n",
    "# Model Baseline \n",
    "# Model comparison with CV "
   ],
   "id": "fef47bcb290956a3",
   "outputs": [],
   "execution_count": 3
  },
  {
   "metadata": {},
   "cell_type": "markdown",
   "source": "",
   "id": "4be009815c5c9f95"
  },
  {
   "metadata": {},
   "cell_type": "markdown",
   "source": [
    "## Light Data Exploration\n",
    "### 1) For numeric data \n",
    "* Made histograms to understand distributions \n",
    "* Corrplot \n",
    "* Pivot table comparing survival rate across numeric variables \n",
    "\n",
    "\n",
    "### 2) For Categorical Data \n",
    "* Made bar charts to understand balance of classes \n",
    "* Made pivot tables to understand relationship with survival "
   ],
   "id": "95891d3742912b8b"
  },
  {
   "metadata": {
    "ExecuteTime": {
     "end_time": "2024-07-03T16:59:48.881765Z",
     "start_time": "2024-07-03T16:59:48.865029Z"
    }
   },
   "cell_type": "code",
   "source": [
    "#quick look at our data types & null counts \n",
    "training.info()"
   ],
   "id": "dddc95611add7e08",
   "outputs": [
    {
     "name": "stdout",
     "output_type": "stream",
     "text": [
      "<class 'pandas.core.frame.DataFrame'>\n",
      "RangeIndex: 891 entries, 0 to 890\n",
      "Data columns (total 13 columns):\n",
      " #   Column       Non-Null Count  Dtype  \n",
      "---  ------       --------------  -----  \n",
      " 0   PassengerId  891 non-null    int64  \n",
      " 1   Survived     891 non-null    int64  \n",
      " 2   Pclass       891 non-null    int64  \n",
      " 3   Name         891 non-null    object \n",
      " 4   Sex          891 non-null    object \n",
      " 5   Age          714 non-null    float64\n",
      " 6   SibSp        891 non-null    int64  \n",
      " 7   Parch        891 non-null    int64  \n",
      " 8   Ticket       891 non-null    object \n",
      " 9   Fare         891 non-null    float64\n",
      " 10  Cabin        204 non-null    object \n",
      " 11  Embarked     889 non-null    object \n",
      " 12  train_test   891 non-null    int64  \n",
      "dtypes: float64(2), int64(6), object(5)\n",
      "memory usage: 90.6+ KB\n"
     ]
    }
   ],
   "execution_count": 4
  },
  {
   "metadata": {
    "ExecuteTime": {
     "end_time": "2024-07-03T16:59:48.907567Z",
     "start_time": "2024-07-03T16:59:48.882994Z"
    }
   },
   "cell_type": "code",
   "source": [
    "# to better understand the numeric data, we want to use the .describe() method. This gives us an understanding of the central tendencies of the data \n",
    "training.describe()"
   ],
   "id": "b4f498d8a7b83365",
   "outputs": [
    {
     "data": {
      "text/plain": [
       "       PassengerId    Survived      Pclass         Age       SibSp  \\\n",
       "count   891.000000  891.000000  891.000000  714.000000  891.000000   \n",
       "mean    446.000000    0.383838    2.308642   29.699118    0.523008   \n",
       "std     257.353842    0.486592    0.836071   14.526497    1.102743   \n",
       "min       1.000000    0.000000    1.000000    0.420000    0.000000   \n",
       "25%     223.500000    0.000000    2.000000   20.125000    0.000000   \n",
       "50%     446.000000    0.000000    3.000000   28.000000    0.000000   \n",
       "75%     668.500000    1.000000    3.000000   38.000000    1.000000   \n",
       "max     891.000000    1.000000    3.000000   80.000000    8.000000   \n",
       "\n",
       "            Parch        Fare  train_test  \n",
       "count  891.000000  891.000000       891.0  \n",
       "mean     0.381594   32.204208         1.0  \n",
       "std      0.806057   49.693429         0.0  \n",
       "min      0.000000    0.000000         1.0  \n",
       "25%      0.000000    7.910400         1.0  \n",
       "50%      0.000000   14.454200         1.0  \n",
       "75%      0.000000   31.000000         1.0  \n",
       "max      6.000000  512.329200         1.0  "
      ],
      "text/html": [
       "<div>\n",
       "<style scoped>\n",
       "    .dataframe tbody tr th:only-of-type {\n",
       "        vertical-align: middle;\n",
       "    }\n",
       "\n",
       "    .dataframe tbody tr th {\n",
       "        vertical-align: top;\n",
       "    }\n",
       "\n",
       "    .dataframe thead th {\n",
       "        text-align: right;\n",
       "    }\n",
       "</style>\n",
       "<table border=\"1\" class=\"dataframe\">\n",
       "  <thead>\n",
       "    <tr style=\"text-align: right;\">\n",
       "      <th></th>\n",
       "      <th>PassengerId</th>\n",
       "      <th>Survived</th>\n",
       "      <th>Pclass</th>\n",
       "      <th>Age</th>\n",
       "      <th>SibSp</th>\n",
       "      <th>Parch</th>\n",
       "      <th>Fare</th>\n",
       "      <th>train_test</th>\n",
       "    </tr>\n",
       "  </thead>\n",
       "  <tbody>\n",
       "    <tr>\n",
       "      <th>count</th>\n",
       "      <td>891.000000</td>\n",
       "      <td>891.000000</td>\n",
       "      <td>891.000000</td>\n",
       "      <td>714.000000</td>\n",
       "      <td>891.000000</td>\n",
       "      <td>891.000000</td>\n",
       "      <td>891.000000</td>\n",
       "      <td>891.0</td>\n",
       "    </tr>\n",
       "    <tr>\n",
       "      <th>mean</th>\n",
       "      <td>446.000000</td>\n",
       "      <td>0.383838</td>\n",
       "      <td>2.308642</td>\n",
       "      <td>29.699118</td>\n",
       "      <td>0.523008</td>\n",
       "      <td>0.381594</td>\n",
       "      <td>32.204208</td>\n",
       "      <td>1.0</td>\n",
       "    </tr>\n",
       "    <tr>\n",
       "      <th>std</th>\n",
       "      <td>257.353842</td>\n",
       "      <td>0.486592</td>\n",
       "      <td>0.836071</td>\n",
       "      <td>14.526497</td>\n",
       "      <td>1.102743</td>\n",
       "      <td>0.806057</td>\n",
       "      <td>49.693429</td>\n",
       "      <td>0.0</td>\n",
       "    </tr>\n",
       "    <tr>\n",
       "      <th>min</th>\n",
       "      <td>1.000000</td>\n",
       "      <td>0.000000</td>\n",
       "      <td>1.000000</td>\n",
       "      <td>0.420000</td>\n",
       "      <td>0.000000</td>\n",
       "      <td>0.000000</td>\n",
       "      <td>0.000000</td>\n",
       "      <td>1.0</td>\n",
       "    </tr>\n",
       "    <tr>\n",
       "      <th>25%</th>\n",
       "      <td>223.500000</td>\n",
       "      <td>0.000000</td>\n",
       "      <td>2.000000</td>\n",
       "      <td>20.125000</td>\n",
       "      <td>0.000000</td>\n",
       "      <td>0.000000</td>\n",
       "      <td>7.910400</td>\n",
       "      <td>1.0</td>\n",
       "    </tr>\n",
       "    <tr>\n",
       "      <th>50%</th>\n",
       "      <td>446.000000</td>\n",
       "      <td>0.000000</td>\n",
       "      <td>3.000000</td>\n",
       "      <td>28.000000</td>\n",
       "      <td>0.000000</td>\n",
       "      <td>0.000000</td>\n",
       "      <td>14.454200</td>\n",
       "      <td>1.0</td>\n",
       "    </tr>\n",
       "    <tr>\n",
       "      <th>75%</th>\n",
       "      <td>668.500000</td>\n",
       "      <td>1.000000</td>\n",
       "      <td>3.000000</td>\n",
       "      <td>38.000000</td>\n",
       "      <td>1.000000</td>\n",
       "      <td>0.000000</td>\n",
       "      <td>31.000000</td>\n",
       "      <td>1.0</td>\n",
       "    </tr>\n",
       "    <tr>\n",
       "      <th>max</th>\n",
       "      <td>891.000000</td>\n",
       "      <td>1.000000</td>\n",
       "      <td>3.000000</td>\n",
       "      <td>80.000000</td>\n",
       "      <td>8.000000</td>\n",
       "      <td>6.000000</td>\n",
       "      <td>512.329200</td>\n",
       "      <td>1.0</td>\n",
       "    </tr>\n",
       "  </tbody>\n",
       "</table>\n",
       "</div>"
      ]
     },
     "execution_count": 5,
     "metadata": {},
     "output_type": "execute_result"
    }
   ],
   "execution_count": 5
  },
  {
   "metadata": {
    "ExecuteTime": {
     "end_time": "2024-07-03T16:59:48.913234Z",
     "start_time": "2024-07-03T16:59:48.908792Z"
    }
   },
   "cell_type": "code",
   "source": [
    "#quick way to separate numeric columns\n",
    "training.select_dtypes(include=np.number).columns"
   ],
   "id": "818106de4ebf414d",
   "outputs": [
    {
     "data": {
      "text/plain": [
       "Index(['PassengerId', 'Survived', 'Pclass', 'Age', 'SibSp', 'Parch', 'Fare',\n",
       "       'train_test'],\n",
       "      dtype='object')"
      ]
     },
     "execution_count": 6,
     "metadata": {},
     "output_type": "execute_result"
    }
   ],
   "execution_count": 6
  },
  {
   "metadata": {
    "ExecuteTime": {
     "end_time": "2024-07-03T16:59:48.920580Z",
     "start_time": "2024-07-03T16:59:48.914410Z"
    }
   },
   "cell_type": "code",
   "source": [
    "# look at numeric and categorical values separately \n",
    "df_num = training[['Age','SibSp','Parch','Fare']]\n",
    "df_cat = training[['Survived','Pclass','Sex','Ticket','Cabin','Embarked']]"
   ],
   "id": "1c0317a7ef5bf68e",
   "outputs": [],
   "execution_count": 7
  },
  {
   "metadata": {
    "ExecuteTime": {
     "end_time": "2024-07-03T16:59:49.929635Z",
     "start_time": "2024-07-03T16:59:48.924881Z"
    }
   },
   "cell_type": "code",
   "source": [
    "#distributions for all numeric variables \n",
    "for i in df_num.columns:\n",
    "    plt.hist(df_num[i])\n",
    "    plt.title(i)\n",
    "    plt.show()"
   ],
   "id": "7a3b7ad447e8c18d",
   "outputs": [
    {
     "data": {
      "text/plain": [
       "<Figure size 640x480 with 1 Axes>"
      ],
      "image/png": "[encoded data removed]"
     },
     "metadata": {},
     "output_type": "display_data"
    },
    {
     "data": {
      "text/plain": [
       "<Figure size 640x480 with 1 Axes>"
      ],
      "image/png": "[encoded data removed]"
     },
     "metadata": {},
     "output_type": "display_data"
    },
    {
     "data": {
      "text/plain": [
       "<Figure size 640x480 with 1 Axes>"
      ],
      "image/png": "[encoded data removed]"
     },
     "metadata": {},
     "output_type": "display_data"
    },
    {
     "data": {
      "text/plain": [
       "<Figure size 640x480 with 1 Axes>"
      ],
      "image/png": "[encoded data removed]"
     },
     "metadata": {},
     "output_type": "display_data"
    }
   ],
   "execution_count": 8
  },
  {
   "metadata": {},
   "cell_type": "markdown",
   "source": "Perhaps we should take the non-normal distributions and consider normalizing them?\n",
   "id": "5efe32b6f3f12772"
  },
  {
   "metadata": {
    "ExecuteTime": {
     "end_time": "2024-07-03T16:59:50.214151Z",
     "start_time": "2024-07-03T16:59:49.931135Z"
    }
   },
   "cell_type": "code",
   "source": "sns.heatmap(df_num.corr(), annot=True)",
   "id": "87b735a764b17bc7",
   "outputs": [
    {
     "data": {
      "text/plain": [
       "<Axes: >"
      ]
     },
     "execution_count": 9,
     "metadata": {},
     "output_type": "execute_result"
    },
    {
     "data": {
      "text/plain": [
       "<Figure size 640x480 with 2 Axes>"
      ],
      "image/png": "[encoded data removed]"
     },
     "metadata": {},
     "output_type": "display_data"
    }
   ],
   "execution_count": 9
  },
  {
   "metadata": {
    "ExecuteTime": {
     "end_time": "2024-07-03T16:59:50.229489Z",
     "start_time": "2024-07-03T16:59:50.215678Z"
    }
   },
   "cell_type": "code",
   "source": [
    "# compare survival rate across Age, SibSp, Parch, and Fare \n",
    "pd.pivot_table(training, index = 'Survived', values = ['Age','SibSp','Parch','Fare'])"
   ],
   "id": "a43e7e318a61a4d1",
   "outputs": [
    {
     "data": {
      "text/plain": [
       "                Age       Fare     Parch     SibSp\n",
       "Survived                                          \n",
       "0         30.626179  22.117887  0.329690  0.553734\n",
       "1         28.343690  48.395408  0.464912  0.473684"
      ],
      "text/html": [
       "<div>\n",
       "<style scoped>\n",
       "    .dataframe tbody tr th:only-of-type {\n",
       "        vertical-align: middle;\n",
       "    }\n",
       "\n",
       "    .dataframe tbody tr th {\n",
       "        vertical-align: top;\n",
       "    }\n",
       "\n",
       "    .dataframe thead th {\n",
       "        text-align: right;\n",
       "    }\n",
       "</style>\n",
       "<table border=\"1\" class=\"dataframe\">\n",
       "  <thead>\n",
       "    <tr style=\"text-align: right;\">\n",
       "      <th></th>\n",
       "      <th>Age</th>\n",
       "      <th>Fare</th>\n",
       "      <th>Parch</th>\n",
       "      <th>SibSp</th>\n",
       "    </tr>\n",
       "    <tr>\n",
       "      <th>Survived</th>\n",
       "      <th></th>\n",
       "      <th></th>\n",
       "      <th></th>\n",
       "      <th></th>\n",
       "    </tr>\n",
       "  </thead>\n",
       "  <tbody>\n",
       "    <tr>\n",
       "      <th>0</th>\n",
       "      <td>30.626179</td>\n",
       "      <td>22.117887</td>\n",
       "      <td>0.329690</td>\n",
       "      <td>0.553734</td>\n",
       "    </tr>\n",
       "    <tr>\n",
       "      <th>1</th>\n",
       "      <td>28.343690</td>\n",
       "      <td>48.395408</td>\n",
       "      <td>0.464912</td>\n",
       "      <td>0.473684</td>\n",
       "    </tr>\n",
       "  </tbody>\n",
       "</table>\n",
       "</div>"
      ]
     },
     "execution_count": 10,
     "metadata": {},
     "output_type": "execute_result"
    }
   ],
   "execution_count": 10
  },
  {
   "metadata": {},
   "cell_type": "markdown",
   "source": [
    "- `pd.pivot_table`: This is the pandas function used to create a pivot table.\n",
    "- `training`: This is the DataFrame containing the Titanic dataset.\n",
    "- `index='Survived'`: This sets the rows of the pivot table to be indexed by the `Survived` column. This means that the pivot table will have separate rows for passengers who survived (`Survived` = 1) and those who did not (`Survived` = 0).\n",
    "- `values=['Age', 'SibSp', 'Parch', 'Fare']`: These are the columns for which we want to calculate summary statistics. The pivot table will summarize the `Age`, `SibSp` (number of siblings/spouses aboard), `Parch` (number of parents/children aboard), and `Fare` columns."
   ],
   "id": "1f53a7458855a720"
  },
  {
   "metadata": {},
   "cell_type": "markdown",
   "source": [
    "Overall Insights\n",
    "1. **Survival and Socioeconomic Status**: Higher fare-paying passengers had a better chance of survival, suggesting a correlation between socioeconomic status and survival.\n",
    "2. **Family Size and Survival**: Passengers with more family members aboard (both siblings/spouses and parents/children) had a slightly lower chance of survival. This might indicate the challenges of coordinating evacuations for larger groups.\n",
    "3. **Age and Survival**: Younger passengers had a slightly higher chance of survival compared to older passengers, although the difference in average age is small."
   ],
   "id": "827665261e42c9ac"
  },
  {
   "metadata": {
    "ExecuteTime": {
     "end_time": "2024-07-03T17:00:03.371011Z",
     "start_time": "2024-07-03T16:59:50.230946Z"
    }
   },
   "cell_type": "code",
   "source": [
    "for i in df_cat.columns:\n",
    "    sns.barplot(x=df_cat[i].value_counts().index,y=df_cat[i].value_counts(), palette=\"bright\", hue=df_cat[i].value_counts().index).set_title(i)\n",
    "    plt.show()"
   ],
   "id": "947341fe8f6da235",
   "outputs": [
    {
     "data": {
      "text/plain": [
       "<Figure size 640x480 with 1 Axes>"
      ],
      "image/png": "[encoded data removed]"
     },
     "metadata": {},
     "output_type": "display_data"
    },
    {
     "data": {
      "text/plain": [
       "<Figure size 640x480 with 1 Axes>"
      ],
      "image/png": "[encoded data removed]"
     },
     "metadata": {},
     "output_type": "display_data"
    },
    {
     "data": {
      "text/plain": [
       "<Figure size 640x480 with 1 Axes>"
      ],
      "image/png": "[encoded data removed]"
     },
     "metadata": {},
     "output_type": "display_data"
    },
    {
     "data": {
      "text/plain": [
       "<Figure size 640x480 with 1 Axes>"
      ],
      "image/png": "[encoded data removed]"
     },
     "metadata": {},
     "output_type": "display_data"
    },
    {
     "data": {
      "text/plain": [
       "<Figure size 640x480 with 1 Axes>"
      ],
      "image/png": "[encoded data removed]"
     },
     "metadata": {},
     "output_type": "display_data"
    },
    {
     "data": {
      "text/plain": [
       "<Figure size 640x480 with 1 Axes>"
      ],
      "image/png": "[encoded data removed]"
     },
     "metadata": {},
     "output_type": "display_data"
    }
   ],
   "execution_count": 11
  },
  {
   "metadata": {},
   "cell_type": "markdown",
   "source": "Cabin and ticket graphs are very messy. This is an area where we may want to do some feature engineering! ",
   "id": "6c8a164cf50c608c"
  },
  {
   "metadata": {
    "ExecuteTime": {
     "end_time": "2024-07-03T17:00:03.394797Z",
     "start_time": "2024-07-03T17:00:03.372174Z"
    }
   },
   "cell_type": "code",
   "source": [
    "# Comparing survival and each of these categorical variables \n",
    "print(pd.pivot_table(data=training, values=\"Ticket\", index=\"Survived\", columns=\"Pclass\", aggfunc=\"count\"))\n",
    "print()\n",
    "\n",
    "print(pd.pivot_table(data=training, values=\"Ticket\", index=\"Survived\", columns=\"Sex\", aggfunc=\"count\"))\n",
    "print()\n",
    "\n",
    "print(pd.pivot_table(data=training, values=\"Ticket\", index=\"Survived\", columns=\"Embarked\", aggfunc=\"count\"))\n",
    "print()"
   ],
   "id": "f67d0f3bd420883f",
   "outputs": [
    {
     "name": "stdout",
     "output_type": "stream",
     "text": [
      "Pclass      1   2    3\n",
      "Survived              \n",
      "0          80  97  372\n",
      "1         136  87  119\n",
      "\n",
      "Sex       female  male\n",
      "Survived              \n",
      "0             81   468\n",
      "1            233   109\n",
      "\n",
      "Embarked   C   Q    S\n",
      "Survived             \n",
      "0         75  47  427\n",
      "1         93  30  217\n",
      "\n"
     ]
    }
   ],
   "execution_count": 12
  },
  {
   "metadata": {},
   "cell_type": "markdown",
   "source": [
    "The `pd.pivot_table()` function in Pandas is used to create a pivot table, which is a summary table that allows you to aggregate data based on one or more keys (or indices). Here's a detailed breakdown of the specific pivot table you mentioned:\n",
    "\n",
    "### Explanation\n",
    "\n",
    "- **`training`**: This is the DataFrame containing the Titanic dataset.\n",
    "- **`index='Survived'`**: The rows of the pivot table will be indexed by the 'Survived' column. This means that there will be separate rows for passengers who did not survive (Survived = 0) and those who did (Survived = 1).\n",
    "- **`columns='Pclass'`**: The columns of the pivot table will be created based on the 'Pclass' column, which represents the passenger class (1st, 2nd, or 3rd class).\n",
    "- **`values='Ticket'`**: The 'Ticket' column will be used to aggregate the data. In this context, the 'Ticket' values are being counted.\n",
    "- **`aggfunc='count'`**: The aggregation function specifies how the data should be aggregated. Here, it is counting the number of 'Ticket' values for each combination of 'Survived' and 'Pclass'.\n"
   ],
   "id": "1275956c0f084bd9"
  },
  {
   "metadata": {},
   "cell_type": "markdown",
   "source": [
    "## Feature Engineering \n",
    "### 1) Cabin - Simplify cabins (evaluated if cabin letter (cabin_adv) or the purchase of tickets across multiple cabins (cabin_multiple) impacted survival)\n",
    "\n",
    "### 2) Tickets - Do different ticket types impact survival rates?\n",
    "\n",
    "### 3) Does a person's title relate to survival rates? "
   ],
   "id": "9ec539e691db0a7a"
  },
  {
   "metadata": {},
   "cell_type": "markdown",
   "source": [
    "**Feature Engineering for the Cabin Feature:**\n",
    "\n",
    "**1. Cabin - Simplify cabins**\n",
    "\n",
    "The \"Cabin\" feature in the Titanic dataset contains the cabin number where a passenger stayed. However, this information is quite detailed and can be simplified for analysis. The process involves creating new features that might capture important aspects of the original \"Cabin\" feature in a more meaningful way for predictive modeling.\n",
    "\n",
    "**Steps to Simplify Cabins:**\n",
    "\n",
    "**a) Cabin Letter (cabin_adv)**\n",
    "\n",
    "One way to simplify the cabin data is to extract the cabin letter, which generally represents the deck on which the cabin is located. For instance, a cabin labeled \"C123\" can be simplified to \"C\". This new feature is called `cabin_adv` (advanced cabin feature).\n",
    "\n",
    "- **Purpose**: The deck might have an impact on survival, as certain decks might be closer to lifeboats or exits, or might have been assigned to higher-class passengers.\n",
    "\n",
    "**b) Purchase of Tickets Across Multiple Cabins (cabin_multiple)**\n",
    "\n",
    "Another aspect to consider is whether a passenger's ticket was associated with multiple cabins. If a ticket is linked to multiple cabins, it might indicate that the passenger was part of a larger group or family. This new feature is called `cabin_multiple`.\n",
    "\n",
    "- **Purpose**: Group or family travel could impact survival rates. For example, groups might stay together during evacuation, which could either hinder or help survival depending on the circumstances.\n"
   ],
   "id": "f4bca225b389dc3f"
  },
  {
   "metadata": {},
   "cell_type": "markdown",
   "source": "",
   "id": "b10384cc9bab8f7b"
  },
  {
   "metadata": {
    "ExecuteTime": {
     "end_time": "2024-07-03T17:00:03.404319Z",
     "start_time": "2024-07-03T17:00:03.396207Z"
    }
   },
   "cell_type": "code",
   "source": [
    "training['cabin_multiple'] = training.Cabin.apply(lambda x: 0 if pd.isna(x) else len(x.split(' '))) \n",
    "# after looking at this, we may want to look at cabin by letter or by number. Let's create some categories for this \n",
    "# letters \n",
    "# multiple letters \n",
    "training['cabin_multiple'].value_counts()"
   ],
   "id": "31971210c98230a7",
   "outputs": [
    {
     "data": {
      "text/plain": [
       "cabin_multiple\n",
       "0    687\n",
       "1    180\n",
       "2     16\n",
       "3      6\n",
       "4      2\n",
       "Name: count, dtype: int64"
      ]
     },
     "execution_count": 13,
     "metadata": {},
     "output_type": "execute_result"
    }
   ],
   "execution_count": 13
  },
  {
   "metadata": {
    "ExecuteTime": {
     "end_time": "2024-07-03T17:00:03.419384Z",
     "start_time": "2024-07-03T17:00:03.405324Z"
    }
   },
   "cell_type": "code",
   "source": "pd.pivot_table(data=training, values='Ticket', index='Survived', columns='cabin_multiple', aggfunc='count')",
   "id": "7c1955d54804c9a7",
   "outputs": [
    {
     "data": {
      "text/plain": [
       "cabin_multiple      0      1    2    3    4\n",
       "Survived                                   \n",
       "0               481.0   58.0  7.0  3.0  NaN\n",
       "1               206.0  122.0  9.0  3.0  2.0"
      ],
      "text/html": [
       "<div>\n",
       "<style scoped>\n",
       "    .dataframe tbody tr th:only-of-type {\n",
       "        vertical-align: middle;\n",
       "    }\n",
       "\n",
       "    .dataframe tbody tr th {\n",
       "        vertical-align: top;\n",
       "    }\n",
       "\n",
       "    .dataframe thead th {\n",
       "        text-align: right;\n",
       "    }\n",
       "</style>\n",
       "<table border=\"1\" class=\"dataframe\">\n",
       "  <thead>\n",
       "    <tr style=\"text-align: right;\">\n",
       "      <th>cabin_multiple</th>\n",
       "      <th>0</th>\n",
       "      <th>1</th>\n",
       "      <th>2</th>\n",
       "      <th>3</th>\n",
       "      <th>4</th>\n",
       "    </tr>\n",
       "    <tr>\n",
       "      <th>Survived</th>\n",
       "      <th></th>\n",
       "      <th></th>\n",
       "      <th></th>\n",
       "      <th></th>\n",
       "      <th></th>\n",
       "    </tr>\n",
       "  </thead>\n",
       "  <tbody>\n",
       "    <tr>\n",
       "      <th>0</th>\n",
       "      <td>481.0</td>\n",
       "      <td>58.0</td>\n",
       "      <td>7.0</td>\n",
       "      <td>3.0</td>\n",
       "      <td>NaN</td>\n",
       "    </tr>\n",
       "    <tr>\n",
       "      <th>1</th>\n",
       "      <td>206.0</td>\n",
       "      <td>122.0</td>\n",
       "      <td>9.0</td>\n",
       "      <td>3.0</td>\n",
       "      <td>2.0</td>\n",
       "    </tr>\n",
       "  </tbody>\n",
       "</table>\n",
       "</div>"
      ]
     },
     "execution_count": 14,
     "metadata": {},
     "output_type": "execute_result"
    }
   ],
   "execution_count": 14
  },
  {
   "metadata": {
    "ExecuteTime": {
     "end_time": "2024-07-03T17:00:03.425096Z",
     "start_time": "2024-07-03T17:00:03.420677Z"
    }
   },
   "cell_type": "code",
   "source": [
    "#creates categories based on the cabin letter (n stands for null)\n",
    "#in this case we will treat null values like it's own category\n",
    "\n",
    "\n",
    "training['cabin_adv'] = training.Cabin.apply(lambda x: str(x)[0])"
   ],
   "id": "228fc91ec1f0124d",
   "outputs": [],
   "execution_count": 15
  },
  {
   "metadata": {
    "ExecuteTime": {
     "end_time": "2024-07-03T17:00:03.445309Z",
     "start_time": "2024-07-03T17:00:03.426055Z"
    }
   },
   "cell_type": "code",
   "source": "pd.pivot_table(data=training, values='Ticket', index='Survived', columns='cabin_adv', aggfunc='count')",
   "id": "e805684bded765d7",
   "outputs": [
    {
     "data": {
      "text/plain": [
       "cabin_adv    A     B     C     D     E    F    G    T      n\n",
       "Survived                                                    \n",
       "0          8.0  12.0  24.0   8.0   8.0  5.0  2.0  1.0  481.0\n",
       "1          7.0  35.0  35.0  25.0  24.0  8.0  2.0  NaN  206.0"
      ],
      "text/html": [
       "<div>\n",
       "<style scoped>\n",
       "    .dataframe tbody tr th:only-of-type {\n",
       "        vertical-align: middle;\n",
       "    }\n",
       "\n",
       "    .dataframe tbody tr th {\n",
       "        vertical-align: top;\n",
       "    }\n",
       "\n",
       "    .dataframe thead th {\n",
       "        text-align: right;\n",
       "    }\n",
       "</style>\n",
       "<table border=\"1\" class=\"dataframe\">\n",
       "  <thead>\n",
       "    <tr style=\"text-align: right;\">\n",
       "      <th>cabin_adv</th>\n",
       "      <th>A</th>\n",
       "      <th>B</th>\n",
       "      <th>C</th>\n",
       "      <th>D</th>\n",
       "      <th>E</th>\n",
       "      <th>F</th>\n",
       "      <th>G</th>\n",
       "      <th>T</th>\n",
       "      <th>n</th>\n",
       "    </tr>\n",
       "    <tr>\n",
       "      <th>Survived</th>\n",
       "      <th></th>\n",
       "      <th></th>\n",
       "      <th></th>\n",
       "      <th></th>\n",
       "      <th></th>\n",
       "      <th></th>\n",
       "      <th></th>\n",
       "      <th></th>\n",
       "      <th></th>\n",
       "    </tr>\n",
       "  </thead>\n",
       "  <tbody>\n",
       "    <tr>\n",
       "      <th>0</th>\n",
       "      <td>8.0</td>\n",
       "      <td>12.0</td>\n",
       "      <td>24.0</td>\n",
       "      <td>8.0</td>\n",
       "      <td>8.0</td>\n",
       "      <td>5.0</td>\n",
       "      <td>2.0</td>\n",
       "      <td>1.0</td>\n",
       "      <td>481.0</td>\n",
       "    </tr>\n",
       "    <tr>\n",
       "      <th>1</th>\n",
       "      <td>7.0</td>\n",
       "      <td>35.0</td>\n",
       "      <td>35.0</td>\n",
       "      <td>25.0</td>\n",
       "      <td>24.0</td>\n",
       "      <td>8.0</td>\n",
       "      <td>2.0</td>\n",
       "      <td>NaN</td>\n",
       "      <td>206.0</td>\n",
       "    </tr>\n",
       "  </tbody>\n",
       "</table>\n",
       "</div>"
      ]
     },
     "execution_count": 16,
     "metadata": {},
     "output_type": "execute_result"
    }
   ],
   "execution_count": 16
  },
  {
   "metadata": {},
   "cell_type": "markdown",
   "source": [
    "**2) Tickets - Do Different Ticket Types Impact Survival Rates?**\n",
    "\n",
    "In the Titanic dataset, the \"Ticket\" feature contains the ticket numbers for passengers. These ticket numbers can be quite varied and may include both letters and numbers. The hypothesis here is that different ticket types might impact survival rates. For example, tickets with certain prefixes or formats might be associated with different passenger classes or groups, which could influence their likelihood of survival.\n",
    "\n",
    "\n",
    "\n",
    "**a) Extract Ticket Prefix**\n",
    "\n",
    "One way to investigate the impact of ticket types is to extract any prefixes from the ticket numbers. Tickets often had prefixes that indicated a particular booking class or group.\n",
    "\n",
    "- **Purpose**: Determine if the ticket prefix is associated with higher or lower survival rates. Certain prefixes might be linked to specific classes or accommodations.\n",
    "\n",
    "**b) Simplify Ticket Number**\n",
    "\n",
    "Another approach is to consider the length of the ticket number or whether it contains letters and numbers. This might reflect different booking practices or categories.\n",
    "\n",
    "- **Purpose**: Simplify the analysis by categorizing tickets into simpler groups, which could reveal patterns associated with survival.\n",
    "\n",
    "**Analysis**\n",
    "\n",
    "With these new features, you can now analyze whether different ticket types (prefixes) or the presence of a prefix impacts survival rates. For example, you might use a pivot table or a group-by operation to see the survival rates for different ticket prefixes:\n",
    "\n",
    "**Insights**\n",
    "\n",
    "- **Ticket_Prefix**: Some prefixes might have higher survival rates. For example, \"PC\" and \"STON/O2\" in the example data show a 100% survival rate, suggesting these groups might have had better access to lifeboats or were in higher classes.\n"
   ],
   "id": "dc453ef020c053da"
  },
  {
   "metadata": {
    "ExecuteTime": {
     "end_time": "2024-07-03T17:00:03.452648Z",
     "start_time": "2024-07-03T17:00:03.446542Z"
    }
   },
   "cell_type": "code",
   "source": [
    "#understand ticket values better \n",
    "#numeric vs non numeric \n",
    "training['numeric_ticket'] = training.Ticket.apply(lambda x: 1 if x.isnumeric() else 0)\n",
    "training['ticket_letters'] = training.Ticket.apply(lambda x: ''.join(x.split(' ')[:-1]).replace('.','').replace('/','').lower() if len(x.split(' ')[:-1]) >0 else 0)\n"
   ],
   "id": "29ef0c52574b2946",
   "outputs": [],
   "execution_count": 17
  },
  {
   "metadata": {
    "ExecuteTime": {
     "end_time": "2024-07-03T17:00:03.464859Z",
     "start_time": "2024-07-03T17:00:03.453798Z"
    }
   },
   "cell_type": "code",
   "source": [
    "#difference in numeric vs non-numeric tickets in survival rate \n",
    "pd.pivot_table(training,index='Survived',columns='numeric_ticket', values = 'Ticket', aggfunc='count')"
   ],
   "id": "97b421d4529ba941",
   "outputs": [
    {
     "data": {
      "text/plain": [
       "numeric_ticket    0    1\n",
       "Survived                \n",
       "0               142  407\n",
       "1                88  254"
      ],
      "text/html": [
       "<div>\n",
       "<style scoped>\n",
       "    .dataframe tbody tr th:only-of-type {\n",
       "        vertical-align: middle;\n",
       "    }\n",
       "\n",
       "    .dataframe tbody tr th {\n",
       "        vertical-align: top;\n",
       "    }\n",
       "\n",
       "    .dataframe thead th {\n",
       "        text-align: right;\n",
       "    }\n",
       "</style>\n",
       "<table border=\"1\" class=\"dataframe\">\n",
       "  <thead>\n",
       "    <tr style=\"text-align: right;\">\n",
       "      <th>numeric_ticket</th>\n",
       "      <th>0</th>\n",
       "      <th>1</th>\n",
       "    </tr>\n",
       "    <tr>\n",
       "      <th>Survived</th>\n",
       "      <th></th>\n",
       "      <th></th>\n",
       "    </tr>\n",
       "  </thead>\n",
       "  <tbody>\n",
       "    <tr>\n",
       "      <th>0</th>\n",
       "      <td>142</td>\n",
       "      <td>407</td>\n",
       "    </tr>\n",
       "    <tr>\n",
       "      <th>1</th>\n",
       "      <td>88</td>\n",
       "      <td>254</td>\n",
       "    </tr>\n",
       "  </tbody>\n",
       "</table>\n",
       "</div>"
      ]
     },
     "execution_count": 18,
     "metadata": {},
     "output_type": "execute_result"
    }
   ],
   "execution_count": 18
  },
  {
   "metadata": {
    "ExecuteTime": {
     "end_time": "2024-07-03T17:00:03.487610Z",
     "start_time": "2024-07-03T17:00:03.466125Z"
    }
   },
   "cell_type": "code",
   "source": [
    "#survival rate across different tyicket types \n",
    "pd.pivot_table(training,index='Survived',columns='ticket_letters', values = 'Ticket', aggfunc='count')"
   ],
   "id": "1fd02fbfbec40e2a",
   "outputs": [
    {
     "data": {
      "text/plain": [
       "ticket_letters      0   a4    a5   as    c    ca  casoton   fa   fc  fcc  ...  \\\n",
       "Survived                                                                  ...   \n",
       "0               410.0  7.0  19.0  1.0  3.0  27.0      1.0  1.0  1.0  1.0  ...   \n",
       "1               255.0  NaN   2.0  NaN  2.0  14.0      NaN  NaN  NaN  4.0  ...   \n",
       "\n",
       "ticket_letters  soc  sop  sopp  sotono2  sotonoq   sp  stono2  swpp   wc  wep  \n",
       "Survived                                                                       \n",
       "0               5.0  1.0   3.0      2.0     13.0  1.0    10.0   NaN  9.0  2.0  \n",
       "1               1.0  NaN   NaN      NaN      2.0  NaN     8.0   2.0  1.0  1.0  \n",
       "\n",
       "[2 rows x 29 columns]"
      ],
      "text/html": [
       "<div>\n",
       "<style scoped>\n",
       "    .dataframe tbody tr th:only-of-type {\n",
       "        vertical-align: middle;\n",
       "    }\n",
       "\n",
       "    .dataframe tbody tr th {\n",
       "        vertical-align: top;\n",
       "    }\n",
       "\n",
       "    .dataframe thead th {\n",
       "        text-align: right;\n",
       "    }\n",
       "</style>\n",
       "<table border=\"1\" class=\"dataframe\">\n",
       "  <thead>\n",
       "    <tr style=\"text-align: right;\">\n",
       "      <th>ticket_letters</th>\n",
       "      <th>0</th>\n",
       "      <th>a4</th>\n",
       "      <th>a5</th>\n",
       "      <th>as</th>\n",
       "      <th>c</th>\n",
       "      <th>ca</th>\n",
       "      <th>casoton</th>\n",
       "      <th>fa</th>\n",
       "      <th>fc</th>\n",
       "      <th>fcc</th>\n",
       "      <th>...</th>\n",
       "      <th>soc</th>\n",
       "      <th>sop</th>\n",
       "      <th>sopp</th>\n",
       "      <th>sotono2</th>\n",
       "      <th>sotonoq</th>\n",
       "      <th>sp</th>\n",
       "      <th>stono2</th>\n",
       "      <th>swpp</th>\n",
       "      <th>wc</th>\n",
       "      <th>wep</th>\n",
       "    </tr>\n",
       "    <tr>\n",
       "      <th>Survived</th>\n",
       "      <th></th>\n",
       "      <th></th>\n",
       "      <th></th>\n",
       "      <th></th>\n",
       "      <th></th>\n",
       "      <th></th>\n",
       "      <th></th>\n",
       "      <th></th>\n",
       "      <th></th>\n",
       "      <th></th>\n",
       "      <th></th>\n",
       "      <th></th>\n",
       "      <th></th>\n",
       "      <th></th>\n",
       "      <th></th>\n",
       "      <th></th>\n",
       "      <th></th>\n",
       "      <th></th>\n",
       "      <th></th>\n",
       "      <th></th>\n",
       "      <th></th>\n",
       "    </tr>\n",
       "  </thead>\n",
       "  <tbody>\n",
       "    <tr>\n",
       "      <th>0</th>\n",
       "      <td>410.0</td>\n",
       "      <td>7.0</td>\n",
       "      <td>19.0</td>\n",
       "      <td>1.0</td>\n",
       "      <td>3.0</td>\n",
       "      <td>27.0</td>\n",
       "      <td>1.0</td>\n",
       "      <td>1.0</td>\n",
       "      <td>1.0</td>\n",
       "      <td>1.0</td>\n",
       "      <td>...</td>\n",
       "      <td>5.0</td>\n",
       "      <td>1.0</td>\n",
       "      <td>3.0</td>\n",
       "      <td>2.0</td>\n",
       "      <td>13.0</td>\n",
       "      <td>1.0</td>\n",
       "      <td>10.0</td>\n",
       "      <td>NaN</td>\n",
       "      <td>9.0</td>\n",
       "      <td>2.0</td>\n",
       "    </tr>\n",
       "    <tr>\n",
       "      <th>1</th>\n",
       "      <td>255.0</td>\n",
       "      <td>NaN</td>\n",
       "      <td>2.0</td>\n",
       "      <td>NaN</td>\n",
       "      <td>2.0</td>\n",
       "      <td>14.0</td>\n",
       "      <td>NaN</td>\n",
       "      <td>NaN</td>\n",
       "      <td>NaN</td>\n",
       "      <td>4.0</td>\n",
       "      <td>...</td>\n",
       "      <td>1.0</td>\n",
       "      <td>NaN</td>\n",
       "      <td>NaN</td>\n",
       "      <td>NaN</td>\n",
       "      <td>2.0</td>\n",
       "      <td>NaN</td>\n",
       "      <td>8.0</td>\n",
       "      <td>2.0</td>\n",
       "      <td>1.0</td>\n",
       "      <td>1.0</td>\n",
       "    </tr>\n",
       "  </tbody>\n",
       "</table>\n",
       "<p>2 rows × 29 columns</p>\n",
       "</div>"
      ]
     },
     "execution_count": 19,
     "metadata": {},
     "output_type": "execute_result"
    }
   ],
   "execution_count": 19
  },
  {
   "metadata": {},
   "cell_type": "markdown",
   "source": [
    "*3) Does a Person's Title Relate to Survival Rates?*\n",
    "\n",
    "In the Titanic dataset, the \"Name\" feature contains the full name of each passenger, often including their title (e.g., Mr., Mrs., Miss, Master, Dr., etc.). These titles can provide valuable insights into social status, gender, and family roles, all of which could influence survival rates.\n",
    "\n",
    "*Steps to Analyze Titles*\n",
    "\n",
    "**a) Extract Titles**\n",
    "\n",
    "The first step is to extract the title from each passenger's name.\n",
    "\n",
    "- **Purpose**: Determine if certain titles are associated with higher or lower survival rates. For example, \"Mrs.\" might indicate a higher likelihood of survival due to prioritization of women and children.\n",
    "\n",
    "**b) Group Rare Titles**\n",
    "\n",
    "Some titles might be very rare (e.g., \"Lady\", \"Countess\"). These can be grouped into a common category to simplify the analysis.\n",
    "\n",
    "- **Purpose**: Simplify the analysis by reducing the number of unique titles, making patterns easier to identify.\n",
    "\n",
    "\n",
    "*Explanation of Output*\n",
    "\n",
    "- **Title**: Extracted the title from each passenger's name. Titles such as \"Mr\", \"Mrs\", and \"Miss\" are retained, while less common titles are grouped into a \"Rare\" category.\n",
    "\n",
    "*Analysis*\n",
    "\n",
    "With these new features, you can now analyze whether different titles impact survival rates. For example, you might use a pivot table to see the survival rates for different titles:\n",
    "\n",
    "*Insights*\n",
    "\n",
    "- **Miss**: In the example data, all individuals with the title \"Miss\" survived, suggesting that women, particularly young unmarried women, had higher survival rates.\n",
    "- **Mr**: Most of the individuals with the title \"Mr\" survived, suggesting that adult men had lower survival rates.\n",
    "- **Mrs**: Most individuals with the title \"Mrs\" survived, indicating that married women had higher survival rates.\n",
    "\n",
    "*Summary*\n",
    "\n",
    "By examining the titles of passengers, you can uncover patterns that impact survival rates on the Titanic. This feature engineering step adds more context and depth to your analysis, potentially improving the predictive power of your models. Titles can serve as proxies for gender, age, and social status, all of which are critical factors in understanding survival rates."
   ],
   "id": "247b3cad8f100591"
  },
  {
   "metadata": {
    "ExecuteTime": {
     "end_time": "2024-07-03T17:00:03.493883Z",
     "start_time": "2024-07-03T17:00:03.488626Z"
    }
   },
   "cell_type": "code",
   "source": [
    "# Extract title from name\n",
    "training['name_title'] = training['Name'].apply(lambda x: x.split(',')[1].split('.')[0].strip())\n",
    "# Group rare titles\n",
    "title_mapping = {\n",
    "    \"Mr\": \"Mr\", \n",
    "    \"Mrs\": \"Mrs\", \n",
    "    \"Miss\": \"Miss\", \n",
    "    \"Master\": \"Master\",\n",
    "    \"Dr\": \"Rare\", \n",
    "    \"Rev\": \"Rare\", \n",
    "    \"Col\": \"Rare\", \n",
    "    \"Major\": \"Rare\", \n",
    "    \"Mlle\": \"Rare\", \n",
    "    \"Countess\": \"Rare\", \n",
    "    \"Ms\": \"Rare\", \n",
    "    \"Lady\": \"Rare\", \n",
    "    \"Jonkheer\": \"Rare\", \n",
    "    \"Don\": \"Rare\", \n",
    "    \"Dona\": \"Rare\", \n",
    "    \"Mme\": \"Rare\", \n",
    "    \"Capt\": \"Rare\", \n",
    "    \"Sir\": \"Rare\"\n",
    "}\n",
    "training['name_title'] = training['name_title'].map(title_mapping)"
   ],
   "id": "beeb55871ff37599",
   "outputs": [],
   "execution_count": 20
  },
  {
   "metadata": {
    "ExecuteTime": {
     "end_time": "2024-07-03T17:00:03.499679Z",
     "start_time": "2024-07-03T17:00:03.494997Z"
    }
   },
   "cell_type": "code",
   "source": "training['name_title'].value_counts()",
   "id": "af33ed2a4144ca38",
   "outputs": [
    {
     "data": {
      "text/plain": [
       "name_title\n",
       "Mr        517\n",
       "Miss      182\n",
       "Mrs       125\n",
       "Master     40\n",
       "Rare       26\n",
       "Name: count, dtype: int64"
      ]
     },
     "execution_count": 21,
     "metadata": {},
     "output_type": "execute_result"
    }
   ],
   "execution_count": 21
  },
  {
   "metadata": {
    "ExecuteTime": {
     "end_time": "2024-07-03T17:00:03.510489Z",
     "start_time": "2024-07-03T17:00:03.500584Z"
    }
   },
   "cell_type": "code",
   "source": [
    "# Calculate survival rates by title\n",
    "pd.pivot_table(training, index='Survived',columns='name_title', values = 'Ticket', aggfunc='count')"
   ],
   "id": "a8f4941d4db105c",
   "outputs": [
    {
     "data": {
      "text/plain": [
       "name_title  Master  Miss   Mr  Mrs  Rare\n",
       "Survived                                \n",
       "0               17    55  436   26    15\n",
       "1               23   127   81   99    11"
      ],
      "text/html": [
       "<div>\n",
       "<style scoped>\n",
       "    .dataframe tbody tr th:only-of-type {\n",
       "        vertical-align: middle;\n",
       "    }\n",
       "\n",
       "    .dataframe tbody tr th {\n",
       "        vertical-align: top;\n",
       "    }\n",
       "\n",
       "    .dataframe thead th {\n",
       "        text-align: right;\n",
       "    }\n",
       "</style>\n",
       "<table border=\"1\" class=\"dataframe\">\n",
       "  <thead>\n",
       "    <tr style=\"text-align: right;\">\n",
       "      <th>name_title</th>\n",
       "      <th>Master</th>\n",
       "      <th>Miss</th>\n",
       "      <th>Mr</th>\n",
       "      <th>Mrs</th>\n",
       "      <th>Rare</th>\n",
       "    </tr>\n",
       "    <tr>\n",
       "      <th>Survived</th>\n",
       "      <th></th>\n",
       "      <th></th>\n",
       "      <th></th>\n",
       "      <th></th>\n",
       "      <th></th>\n",
       "    </tr>\n",
       "  </thead>\n",
       "  <tbody>\n",
       "    <tr>\n",
       "      <th>0</th>\n",
       "      <td>17</td>\n",
       "      <td>55</td>\n",
       "      <td>436</td>\n",
       "      <td>26</td>\n",
       "      <td>15</td>\n",
       "    </tr>\n",
       "    <tr>\n",
       "      <th>1</th>\n",
       "      <td>23</td>\n",
       "      <td>127</td>\n",
       "      <td>81</td>\n",
       "      <td>99</td>\n",
       "      <td>11</td>\n",
       "    </tr>\n",
       "  </tbody>\n",
       "</table>\n",
       "</div>"
      ]
     },
     "execution_count": 22,
     "metadata": {},
     "output_type": "execute_result"
    }
   ],
   "execution_count": 22
  },
  {
   "metadata": {},
   "cell_type": "markdown",
   "source": [
    "## Data Preprocessing for Model \n",
    "### 1) Drop null values from Embarked (only 2) \n",
    "\n",
    "### 2) Include only relevant variables (Since we have limited data, I wanted to exclude things like name and passanger ID so that we could have a reasonable number of features for our models to deal with) \n",
    "Variables:  'Pclass', 'Sex','Age', 'SibSp', 'Parch', 'Fare', 'Embarked', 'cabin_adv', 'cabin_multiple', 'numeric_ticket', 'name_title'\n",
    "\n",
    "### 3) Do categorical transforms on all data. Usually we would use a transformer, but with this approach we can ensure that our traning and test data have the same colums. We also may be able to infer something about the shape of the test data through this method. I will stress, this is generally not recommend outside of a competition (use onehot encoder). \n",
    "\n",
    "### 4) Impute data with mean for age (Should also experiment with median) \n",
    "\n",
    "### 5) Normalized fare using logarithm to give more semblance of a normal distribution \n",
    "\n",
    "### 6) Scaled data 0-1 with standard scaler "
   ],
   "id": "74d9927e64bf803c"
  },
  {
   "metadata": {
    "ExecuteTime": {
     "end_time": "2024-07-03T17:49:02.341257Z",
     "start_time": "2024-07-03T17:49:02.168568Z"
    }
   },
   "cell_type": "code",
   "source": [
    "#create all categorical variables that we did above for both training and test sets \n",
    "all_data['cabin_multiple'] = all_data.Cabin.apply(lambda x: 0 if pd.isna(x) else len(x.split(' ')))\n",
    "all_data['cabin_adv'] = all_data.Cabin.apply(lambda x: str(x)[0])\n",
    "all_data['numeric_ticket'] = all_data.Ticket.apply(lambda x: 1 if x.isnumeric() else 0)\n",
    "all_data['ticket_letters'] = all_data.Ticket.apply(lambda x: ''.join(x.split(' ')[:-1]).replace('.','').replace('/','').lower() if len(x.split(' ')[:-1]) >0 else 0)\n",
    "all_data['name_title'] = all_data.Name.apply(lambda x: x.split(',')[1].split('.')[0].strip())\n",
    "\n",
    "#impute nulls for continuous data \n",
    "#all_data.Age = all_data.Age.fillna(training.Age.mean())\n",
    "all_data.Age = all_data.Age.fillna(training.Age.median())\n",
    "#all_data.Fare = all_data.Fare.fillna(training.Fare.mean())\n",
    "all_data.Fare = all_data.Fare.fillna(training.Fare.median())\n",
    "\n",
    "#drop null 'embarked' rows. Only 2 instances of this in training and 0 in test \n",
    "all_data.dropna(subset=['Embarked'],inplace = True)\n",
    "\n",
    "#tried log norm of sibsp (not used)\n",
    "all_data['norm_sibsp'] = np.log(all_data.SibSp+1)\n",
    "all_data['norm_sibsp'].hist()\n",
    "\n",
    "# log norm of fare (used)\n",
    "all_data['norm_fare'] = np.log(all_data.Fare+1)\n",
    "all_data['norm_fare'].hist()\n",
    "\n",
    "# converted fare to category for pd.get_dummies()\n",
    "all_data.Pclass = all_data.Pclass.astype(str)\n",
    "\n",
    "#created dummy variables from categories (also can use OneHotEncoder)\n",
    "all_dummies = pd.get_dummies(all_data[['Pclass','Sex','Age','SibSp','Parch','norm_fare','Embarked','cabin_adv','cabin_multiple','numeric_ticket','name_title','train_test']])\n",
    "\n",
    "#Split to train test again\n",
    "X_train = all_dummies[all_dummies.train_test == 1].drop(['train_test'], axis =1)\n",
    "X_test = all_dummies[all_dummies.train_test == 0].drop(['train_test'], axis =1)\n",
    "\n",
    "\n",
    "y_train = all_data[all_data.train_test==1].Survived\n",
    "y_train.shape"
   ],
   "id": "7227e79dea003e2b",
   "outputs": [
    {
     "data": {
      "text/plain": [
       "(889,)"
      ]
     },
     "execution_count": 68,
     "metadata": {},
     "output_type": "execute_result"
    },
    {
     "data": {
      "text/plain": [
       "<Figure size 640x480 with 1 Axes>"
      ],
      "image/png": "[encoded data removed]"
     },
     "metadata": {},
     "output_type": "display_data"
    }
   ],
   "execution_count": 68
  },
  {
   "metadata": {
    "ExecuteTime": {
     "end_time": "2024-07-03T17:49:32.585648Z",
     "start_time": "2024-07-03T17:49:32.573353Z"
    }
   },
   "cell_type": "code",
   "source": [
    "# Scale data \n",
    "from sklearn.preprocessing import StandardScaler\n",
    "scale = StandardScaler()\n",
    "all_dummies_scaled = all_dummies.copy()\n",
    "all_dummies_scaled[['Age','SibSp','Parch','norm_fare']]= scale.fit_transform(all_dummies_scaled[['Age','SibSp','Parch','norm_fare']])\n",
    "all_dummies_scaled\n",
    "\n",
    "X_train_scaled = all_dummies_scaled[all_dummies_scaled.train_test == 1].drop(['train_test'], axis =1)\n",
    "X_test_scaled = all_dummies_scaled[all_dummies_scaled.train_test == 0].drop(['train_test'], axis =1)\n",
    "\n",
    "y_train = all_data[all_data.train_test==1].Survived"
   ],
   "id": "4b7c623420fdfced",
   "outputs": [],
   "execution_count": 69
  },
  {
   "metadata": {},
   "cell_type": "markdown",
   "source": [
    "## Model Building (Baseline Validation Performance)\n",
    "Before going further, I like to see how various different models perform with default parameters. I tried the following models using 5 fold cross validation to get a baseline. With a validation set basline, we can see how much tuning improves each of the models. Just because a model has a high basline on this validation set doesn't mean that it will actually do better on the eventual test set. \n",
    "\n",
    "- Naive Bayes (72.6%)\n",
    "- Logistic Regression (82.1%)\n",
    "- Decision Tree (77.6%)\n",
    "- K Nearest Neighbor (80.5%)\n",
    "- Random Forest (80.6%)\n",
    "- **Support Vector Classifier (83.2%)**\n",
    "- XGBClassifier (81.1%)\n",
    "- Soft Voting Classifier - All Models (82.8%)\n",
    "- StackingClassifier - All Models - final_estimator=LogisticRegression()    (83.1%)"
   ],
   "id": "4221fc9a00b76f89"
  },
  {
   "metadata": {
    "ExecuteTime": {
     "end_time": "2024-07-03T18:00:12.339791Z",
     "start_time": "2024-07-03T18:00:12.336716Z"
    }
   },
   "cell_type": "code",
   "source": [
    "from sklearn.model_selection import cross_val_score\n",
    "from sklearn.naive_bayes import GaussianNB\n",
    "from sklearn.linear_model import LogisticRegression\n",
    "from sklearn.tree import DecisionTreeClassifier\n",
    "from sklearn.neighbors import KNeighborsClassifier\n",
    "from sklearn.ensemble import RandomForestClassifier\n",
    "from sklearn.svm import SVC\n",
    "from xgboost import XGBClassifier\n",
    "from sklearn.ensemble import VotingClassifier\n",
    "\n"
   ],
   "id": "fdcc18aa7e1ebc3",
   "outputs": [],
   "execution_count": 84
  },
  {
   "metadata": {
    "ExecuteTime": {
     "end_time": "2024-07-03T17:49:55.474574Z",
     "start_time": "2024-07-03T17:49:55.446624Z"
    }
   },
   "cell_type": "code",
   "source": [
    "gnb = GaussianNB()\n",
    "cv = cross_val_score(gnb,X_train,y_train,cv=5)\n",
    "print(cv)\n",
    "print(cv.mean())"
   ],
   "id": "de950095f53023d5",
   "outputs": [
    {
     "name": "stdout",
     "output_type": "stream",
     "text": [
      "[0.66853933 0.70224719 0.76966292 0.75842697 0.72881356]\n",
      "0.7255379927632831\n"
     ]
    }
   ],
   "execution_count": 74
  },
  {
   "metadata": {
    "ExecuteTime": {
     "end_time": "2024-07-03T17:51:59.865978Z",
     "start_time": "2024-07-03T17:51:59.404499Z"
    }
   },
   "cell_type": "code",
   "source": [
    "lr = LogisticRegression(max_iter = 2000)\n",
    "cv = cross_val_score(lr,X_train,y_train,cv=5)\n",
    "print(cv)\n",
    "print(cv.mean())"
   ],
   "id": "adecab29a7a64b0c",
   "outputs": [
    {
     "name": "stdout",
     "output_type": "stream",
     "text": [
      "[0.8258427  0.80898876 0.80337079 0.82022472 0.85310734]\n",
      "0.8223068621849807\n"
     ]
    }
   ],
   "execution_count": 75
  },
  {
   "metadata": {
    "ExecuteTime": {
     "end_time": "2024-07-03T17:53:29.479918Z",
     "start_time": "2024-07-03T17:53:29.443433Z"
    }
   },
   "cell_type": "code",
   "source": [
    "dt = DecisionTreeClassifier(random_state = 1)\n",
    "cv = cross_val_score(dt,X_train,y_train,cv=5)\n",
    "print(cv)\n",
    "print(cv.mean())"
   ],
   "id": "cffacfd9f2b1563f",
   "outputs": [
    {
     "name": "stdout",
     "output_type": "stream",
     "text": [
      "[0.75842697 0.74719101 0.8258427  0.74719101 0.8079096 ]\n",
      "0.7773122579826065\n"
     ]
    }
   ],
   "execution_count": 77
  },
  {
   "metadata": {
    "ExecuteTime": {
     "end_time": "2024-07-03T17:54:19.730504Z",
     "start_time": "2024-07-03T17:54:19.622823Z"
    }
   },
   "cell_type": "code",
   "source": [
    "knn = KNeighborsClassifier()\n",
    "cv = cross_val_score(knn,X_train,y_train,cv=5)\n",
    "print(cv)\n",
    "print(cv.mean())"
   ],
   "id": "b1d3ea377c5ded0b",
   "outputs": [
    {
     "name": "stdout",
     "output_type": "stream",
     "text": [
      "[0.76966292 0.79775281 0.80898876 0.82022472 0.85310734]\n",
      "0.8099473116231829\n"
     ]
    }
   ],
   "execution_count": 78
  },
  {
   "metadata": {
    "ExecuteTime": {
     "end_time": "2024-07-03T17:54:51.555062Z",
     "start_time": "2024-07-03T17:54:50.922563Z"
    }
   },
   "cell_type": "code",
   "source": [
    "rf = RandomForestClassifier(random_state = 1)\n",
    "cv = cross_val_score(rf,X_train,y_train,cv=5)\n",
    "print(cv)\n",
    "print(cv.mean())"
   ],
   "id": "581dc1ee779170a2",
   "outputs": [
    {
     "name": "stdout",
     "output_type": "stream",
     "text": [
      "[0.80898876 0.79213483 0.84831461 0.73595506 0.82485876]\n",
      "0.8020504030978227\n"
     ]
    }
   ],
   "execution_count": 79
  },
  {
   "metadata": {
    "ExecuteTime": {
     "end_time": "2024-07-03T17:55:06.364722Z",
     "start_time": "2024-07-03T17:55:06.055519Z"
    }
   },
   "cell_type": "code",
   "source": [
    "svc = SVC(probability = True)\n",
    "cv = cross_val_score(svc,X_train_scaled,y_train,cv=5)\n",
    "print(cv)\n",
    "print(cv.mean())"
   ],
   "id": "cfa0e0d41d769d05",
   "outputs": [
    {
     "name": "stdout",
     "output_type": "stream",
     "text": [
      "[0.85393258 0.82022472 0.8258427  0.80337079 0.86440678]\n",
      "0.8335555132355742\n"
     ]
    }
   ],
   "execution_count": 80
  },
  {
   "metadata": {
    "ExecuteTime": {
     "end_time": "2024-07-03T17:56:16.609010Z",
     "start_time": "2024-07-03T17:56:15.653632Z"
    }
   },
   "cell_type": "code",
   "source": [
    "xgb = XGBClassifier(random_state =1)\n",
    "cv = cross_val_score(xgb,X_train_scaled,y_train,cv=5)\n",
    "print(cv)\n",
    "print(cv.mean())"
   ],
   "id": "3b0e048757aba37",
   "outputs": [
    {
     "name": "stdout",
     "output_type": "stream",
     "text": [
      "[0.80337079 0.80898876 0.85393258 0.78651685 0.80225989]\n",
      "0.8110137751539389\n"
     ]
    }
   ],
   "execution_count": 81
  },
  {
   "metadata": {
    "ExecuteTime": {
     "end_time": "2024-07-03T17:59:26.023226Z",
     "start_time": "2024-07-03T17:59:26.020522Z"
    }
   },
   "cell_type": "code",
   "source": [
    "#Voting classifier takes all the inputs and averages the results. For a \"hard\" voting classifier each classifier gets 1 vote \"yes\" or \"no\" and the result is just a popular vote. For this, you generally want odd numbers\n",
    "#A \"soft\" classifier averages the confidence of each of the models. If the average confidence is > 50% that it is a 1 it will be counted as such\n",
    "voting_clf = VotingClassifier(estimators = [('lr',lr),('knn',knn),('rf',rf),('gnb',gnb),('svc',svc),('xgb',xgb)], voting = 'soft') "
   ],
   "id": "811e788abf48c3ac",
   "outputs": [],
   "execution_count": 82
  },
  {
   "metadata": {
    "ExecuteTime": {
     "end_time": "2024-07-03T18:02:37.818623Z",
     "start_time": "2024-07-03T18:02:36.224015Z"
    }
   },
   "cell_type": "code",
   "source": [
    "cv = cross_val_score(voting_clf,X_train_scaled,y_train,cv=5)\n",
    "print(cv)\n",
    "print(cv.mean())"
   ],
   "id": "ed16e511bd0a6960",
   "outputs": [
    {
     "name": "stdout",
     "output_type": "stream",
     "text": [
      "[0.8258427  0.81460674 0.83146067 0.79775281 0.84745763]\n",
      "0.8234241096933917\n"
     ]
    }
   ],
   "execution_count": 85
  },
  {
   "metadata": {
    "ExecuteTime": {
     "end_time": "2024-07-03T18:31:00.913968Z",
     "start_time": "2024-07-03T18:31:00.911166Z"
    }
   },
   "cell_type": "code",
   "source": [
    "# A Stacked Classifier (or Stacking) combines the predictions from multiple base learners using a meta-learner (also called a second-level model) that learns how to best combine the predictions from the base learners.\n",
    "from sklearn.ensemble import StackingClassifier\n",
    "stacking_clf = StackingClassifier(estimators = [('lr',lr),('knn',knn),('rf',rf),('gnb',gnb),('svc',svc),('xgb',xgb)], final_estimator=LogisticRegression())\n"
   ],
   "id": "a0675d165fc8c9d3",
   "outputs": [],
   "execution_count": 110
  },
  {
   "metadata": {
    "ExecuteTime": {
     "end_time": "2024-07-03T18:31:11.141716Z",
     "start_time": "2024-07-03T18:31:02.707706Z"
    }
   },
   "cell_type": "code",
   "source": [
    "cv = cross_val_score(stacking_clf,X_train_scaled,y_train,cv=5)\n",
    "print(cv)\n",
    "print(cv.mean())"
   ],
   "id": "2806b28ec18ec1ae",
   "outputs": [
    {
     "name": "stdout",
     "output_type": "stream",
     "text": [
      "[0.84269663 0.81460674 0.83707865 0.80337079 0.85875706]\n",
      "0.8313019742271314\n"
     ]
    }
   ],
   "execution_count": 111
  },
  {
   "metadata": {},
   "cell_type": "markdown",
   "source": "# Submission",
   "id": "c2327b49450e6682"
  },
  {
   "metadata": {
    "ExecuteTime": {
     "end_time": "2024-07-03T18:39:42.005727Z",
     "start_time": "2024-07-03T18:39:39.792105Z"
    }
   },
   "cell_type": "code",
   "source": [
    "stacking_clf.fit(X_train_scaled,y_train)\n",
    "y_hat_base_vc = stacking_clf.predict(X_test_scaled).astype(int)\n",
    "basic_submission = {'PassengerId': test.PassengerId, 'Survived': y_hat_base_vc}\n",
    "base_submission = pd.DataFrame(data=basic_submission)\n",
    "base_submission.to_csv('base_submission.csv', index=False)"
   ],
   "id": "9c86bfb8eb5470e2",
   "outputs": [],
   "execution_count": 113
  },
  {
   "metadata": {
    "ExecuteTime": {
     "end_time": "2024-07-03T20:07:54.617784Z",
     "start_time": "2024-07-03T20:07:54.506571Z"
    }
   },
   "cell_type": "code",
   "source": [
    "svc.fit(X_train_scaled,y_train)\n",
    "y_hat_svc = svc.predict(X_test_scaled).astype(int)\n",
    "basic_submission = {'PassengerId': test.PassengerId, 'Survived': y_hat_svc}\n",
    "base_submission = pd.DataFrame(data=basic_submission)\n",
    "base_submission.to_csv('svc_submission.csv', index=False)"
   ],
   "id": "c620c25e7bf9f642",
   "outputs": [],
   "execution_count": 125
  },
  {
   "metadata": {},
   "cell_type": "markdown",
   "source": "# Plotting",
   "id": "fe6447898c1aa55"
  },
  {
   "metadata": {
    "ExecuteTime": {
     "end_time": "2024-07-03T20:14:23.547321Z",
     "start_time": "2024-07-03T20:14:23.303829Z"
    }
   },
   "cell_type": "code",
   "source": [
    "import matplotlib.pyplot as plt\n",
    "\n",
    "# Classifier names\n",
    "classifiers = [\n",
    "    'Naive Bayes', 'Logistic Regression', 'Decision Tree', \n",
    "    'K Nearest Neighbor', 'Random Forest', 'Support Vector Classifier', \n",
    "    'XGBClassifier', 'Soft Voting Classifier', 'StackingClassifier'\n",
    "]\n",
    "\n",
    "# Corresponding accuracies\n",
    "accuracies = [72.6, 82.1, 77.6, 80.5, 80.6, 83.2, 81.1, 82.8, 83.1]\n",
    "\n",
    "# Create the bar plot\n",
    "plt.figure(figsize=(12, 6))\n",
    "plt.barh(classifiers, accuracies, color='skyblue')\n",
    "plt.xlabel('Accuracy (%)')\n",
    "plt.title('Classifier Accuracies')\n",
    "plt.xlim(70, 85)  # Set limits to improve readability\n",
    "plt.gca().invert_yaxis()  # Invert y-axis to have the highest accuracy on top\n",
    "\n",
    "# Add text annotations to each bar\n",
    "for i, (accuracy, classifier) in enumerate(zip(accuracies, classifiers)):\n",
    "    plt.text(accuracy + 0.3, i, f\"{accuracy:.1f}%\", va='center', ha='left')\n",
    "\n",
    "plt.show()"
   ],
   "id": "283252a138130a10",
   "outputs": [
    {
     "data": {
      "text/plain": [
       "<Figure size 1200x600 with 1 Axes>"
      ],
      "image/png": "[encoded data removed]"
     },
     "metadata": {},
     "output_type": "display_data"
    }
   ],
   "execution_count": 126
  }
 ],
 "metadata": {
  "kernelspec": {
   "display_name": "Python 3",
   "language": "python",
   "name": "python3"
  },
  "language_info": {
   "codemirror_mode": {
    "name": "ipython",
    "version": 2
   },
   "file_extension": ".py",
   "mimetype": "text/x-python",
   "name": "python",
   "nbconvert_exporter": "python",
   "pygments_lexer": "ipython2",
   "version": "2.7.6"
  }
 },
 "nbformat": 4,
 "nbformat_minor": 5
}
